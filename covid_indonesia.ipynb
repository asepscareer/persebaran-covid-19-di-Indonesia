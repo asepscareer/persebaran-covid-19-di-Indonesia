{
 "cells": [
  {
   "cell_type": "markdown",
   "metadata": {},
   "source": [
    "<center><H1>Persebaran COVID-19 di Indonesia"
   ]
  },
  {
   "cell_type": "markdown",
   "metadata": {},
   "source": [
    "![](covid.jpg)"
   ]
  },
  {
   "cell_type": "markdown",
   "metadata": {},
   "source": [
    "<H4>Import library yang dibutuhkan"
   ]
  },
  {
   "cell_type": "code",
   "execution_count": 94,
   "metadata": {},
   "outputs": [],
   "source": [
    "import urllib.request\n",
    "import json\n",
    "import pandas as pd\n",
    "import numpy as np\n",
    "import matplotlib.pyplot as plt\n",
    "import plotly.express as px\n",
    "from plotly import graph_objects as go\n",
    "import geopandas as gpd\n",
    "import six"
   ]
  },
  {
   "cell_type": "markdown",
   "metadata": {},
   "source": [
    "## Preprocessing Data"
   ]
  },
  {
   "cell_type": "markdown",
   "metadata": {},
   "source": [
    "<h4> Ambil API Data COVID-19 setiap Provinsi di Indonesia"
   ]
  },
  {
   "cell_type": "code",
   "execution_count": 69,
   "metadata": {},
   "outputs": [
    {
     "data": {
      "text/plain": [
       "[{'fid': 11,\n",
       "  'kodeProvi': 31,\n",
       "  'provinsi': 'DKI Jakarta',\n",
       "  'kasusPosi': 67902,\n",
       "  'kasusSemb': 54268,\n",
       "  'kasusMeni': 1661},\n",
       " {'fid': 15,\n",
       "  'kodeProvi': 35,\n",
       "  'provinsi': 'Jawa Timur',\n",
       "  'kasusPosi': 42391,\n",
       "  'kasusSemb': 35205,\n",
       "  'kasusMeni': 3084},\n",
       " {'fid': 13,\n",
       "  'kodeProvi': 33,\n",
       "  'provinsi': 'Jawa Tengah',\n",
       "  'kasusPosi': 21004,\n",
       "  'kasusSemb': 15043,\n",
       "  'kasusMeni': 1372},\n",
       " {'fid': 12,\n",
       "  'kodeProvi': 32,\n",
       "  'provinsi': 'Jawa Barat',\n",
       "  'kasusPosi': 20131,\n",
       "  'kasusSemb': 12022,\n",
       "  'kasusMeni': 368},\n",
       " {'fid': 27,\n",
       "  'kodeProvi': 73,\n",
       "  'provinsi': 'Sulawesi Selatan',\n",
       "  'kasusPosi': 14982,\n",
       "  'kasusSemb': 10961,\n",
       "  'kasusMeni': 406},\n",
       " {'fid': 22,\n",
       "  'kodeProvi': 63,\n",
       "  'provinsi': 'Kalimantan Selatan',\n",
       "  'kasusPosi': 10080,\n",
       "  'kasusSemb': 8503,\n",
       "  'kasusMeni': 410},\n",
       " {'fid': 2,\n",
       "  'kodeProvi': 12,\n",
       "  'provinsi': 'Sumatera Utara',\n",
       "  'kasusPosi': 9843,\n",
       "  'kasusSemb': 6107,\n",
       "  'kasusMeni': 415},\n",
       " {'fid': 17,\n",
       "  'kodeProvi': 51,\n",
       "  'provinsi': 'Bali',\n",
       "  'kasusPosi': 8389,\n",
       "  'kasusSemb': 6828,\n",
       "  'kasusMeni': 245},\n",
       " {'fid': 23,\n",
       "  'kodeProvi': 64,\n",
       "  'provinsi': 'Kalimantan Timur',\n",
       "  'kasusPosi': 7851,\n",
       "  'kasusSemb': 5080,\n",
       "  'kasusMeni': 294},\n",
       " {'fid': 4,\n",
       "  'kodeProvi': 14,\n",
       "  'provinsi': 'Riau',\n",
       "  'kasusPosi': 6315,\n",
       "  'kasusSemb': 2941,\n",
       "  'kasusMeni': 131},\n",
       " {'fid': 33,\n",
       "  'kodeProvi': 94,\n",
       "  'provinsi': 'Papua',\n",
       "  'kasusPosi': 5763,\n",
       "  'kasusSemb': 3688,\n",
       "  'kasusMeni': 80},\n",
       " {'fid': 6,\n",
       "  'kodeProvi': 16,\n",
       "  'provinsi': 'Sumatera Selatan',\n",
       "  'kasusPosi': 5734,\n",
       "  'kasusSemb': 4132,\n",
       "  'kasusMeni': 336},\n",
       " {'fid': 3,\n",
       "  'kodeProvi': 13,\n",
       "  'provinsi': 'Sumatera Barat',\n",
       "  'kasusPosi': 5363,\n",
       "  'kasusSemb': 2724,\n",
       "  'kasusMeni': 104},\n",
       " {'fid': 16,\n",
       "  'kodeProvi': 36,\n",
       "  'provinsi': 'Banten',\n",
       "  'kasusPosi': 5050,\n",
       "  'kasusSemb': 3218,\n",
       "  'kasusMeni': 162},\n",
       " {'fid': 25,\n",
       "  'kodeProvi': 71,\n",
       "  'provinsi': 'Sulawesi Utara',\n",
       "  'kasusPosi': 4390,\n",
       "  'kasusSemb': 3463,\n",
       "  'kasusMeni': 172},\n",
       " {'fid': 1,\n",
       "  'kodeProvi': 11,\n",
       "  'provinsi': 'Aceh',\n",
       "  'kasusPosi': 3982,\n",
       "  'kasusSemb': 1889,\n",
       "  'kasusMeni': 147},\n",
       " {'fid': 21,\n",
       "  'kodeProvi': 62,\n",
       "  'provinsi': 'Kalimantan Tengah',\n",
       "  'kasusPosi': 3474,\n",
       "  'kasusSemb': 2636,\n",
       "  'kasusMeni': 130},\n",
       " {'fid': 18,\n",
       "  'kodeProvi': 52,\n",
       "  'provinsi': 'Nusa Tenggara Barat',\n",
       "  'kasusPosi': 3218,\n",
       "  'kasusSemb': 2536,\n",
       "  'kasusMeni': 192},\n",
       " {'fid': 31,\n",
       "  'kodeProvi': 81,\n",
       "  'provinsi': 'Maluku',\n",
       "  'kasusPosi': 2654,\n",
       "  'kasusSemb': 1687,\n",
       "  'kasusMeni': 40},\n",
       " {'fid': 29,\n",
       "  'kodeProvi': 75,\n",
       "  'provinsi': 'Gorontalo',\n",
       "  'kasusPosi': 2534,\n",
       "  'kasusSemb': 2199,\n",
       "  'kasusMeni': 75},\n",
       " {'fid': 28,\n",
       "  'kodeProvi': 74,\n",
       "  'provinsi': 'Sulawesi Tenggara',\n",
       "  'kasusPosi': 2501,\n",
       "  'kasusSemb': 1779,\n",
       "  'kasusMeni': 53},\n",
       " {'fid': 14,\n",
       "  'kodeProvi': 34,\n",
       "  'provinsi': 'Daerah Istimewa Yogyakarta',\n",
       "  'kasusPosi': 2458,\n",
       "  'kasusSemb': 1677,\n",
       "  'kasusMeni': 64},\n",
       " {'fid': 32,\n",
       "  'kodeProvi': 82,\n",
       "  'provinsi': 'Maluku Utara',\n",
       "  'kasusPosi': 2045,\n",
       "  'kasusSemb': 1799,\n",
       "  'kasusMeni': 74},\n",
       " {'fid': 10,\n",
       "  'kodeProvi': 21,\n",
       "  'provinsi': 'Kepulauan Riau',\n",
       "  'kasusPosi': 2022,\n",
       "  'kasusSemb': 1227,\n",
       "  'kasusMeni': 56},\n",
       " {'fid': 34,\n",
       "  'kodeProvi': 91,\n",
       "  'provinsi': 'Papua Barat',\n",
       "  'kasusPosi': 1820,\n",
       "  'kasusSemb': 1039,\n",
       "  'kasusMeni': 29},\n",
       " {'fid': 20,\n",
       "  'kodeProvi': 61,\n",
       "  'provinsi': 'Kalimantan Barat',\n",
       "  'kasusPosi': 935,\n",
       "  'kasusSemb': 769,\n",
       "  'kasusMeni': 8},\n",
       " {'fid': 9,\n",
       "  'kodeProvi': 18,\n",
       "  'provinsi': 'Lampung',\n",
       "  'kasusPosi': 814,\n",
       "  'kasusSemb': 519,\n",
       "  'kasusMeni': 30},\n",
       " {'fid': 7,\n",
       "  'kodeProvi': 17,\n",
       "  'provinsi': 'Bengkulu',\n",
       "  'kasusPosi': 590,\n",
       "  'kasusSemb': 379,\n",
       "  'kasusMeni': 32},\n",
       " {'fid': 30,\n",
       "  'kodeProvi': 76,\n",
       "  'provinsi': 'Sulawesi Barat',\n",
       "  'kasusPosi': 567,\n",
       "  'kasusSemb': 407,\n",
       "  'kasusMeni': 11},\n",
       " {'fid': 24,\n",
       "  'kodeProvi': 65,\n",
       "  'provinsi': 'Kalimantan Utara',\n",
       "  'kasusPosi': 556,\n",
       "  'kasusSemb': 448,\n",
       "  'kasusMeni': 4},\n",
       " {'fid': 5,\n",
       "  'kodeProvi': 15,\n",
       "  'provinsi': 'Jambi',\n",
       "  'kasusPosi': 409,\n",
       "  'kasusSemb': 263,\n",
       "  'kasusMeni': 8},\n",
       " {'fid': 19,\n",
       "  'kodeProvi': 53,\n",
       "  'provinsi': 'Nusa Tenggara Timur',\n",
       "  'kasusPosi': 388,\n",
       "  'kasusSemb': 240,\n",
       "  'kasusMeni': 6},\n",
       " {'fid': 26,\n",
       "  'kodeProvi': 72,\n",
       "  'provinsi': 'Sulawesi Tengah',\n",
       "  'kasusPosi': 354,\n",
       "  'kasusSemb': 243,\n",
       "  'kasusMeni': 15},\n",
       " {'fid': 8,\n",
       "  'kodeProvi': 19,\n",
       "  'provinsi': 'Kepulauan Bangka Belitung',\n",
       "  'kasusPosi': 191,\n",
       "  'kasusSemb': 173,\n",
       "  'kasusMeni': 2},\n",
       " {'fid': 35,\n",
       "  'kodeProvi': 0,\n",
       "  'provinsi': 'Indonesia',\n",
       "  'kasusPosi': 0,\n",
       "  'kasusSemb': 0,\n",
       "  'kasusMeni': 0}]"
      ]
     },
     "execution_count": 69,
     "metadata": {},
     "output_type": "execute_result"
    }
   ],
   "source": [
    "url_provinsi = \"https://indonesia-covid-19.mathdro.id/api/provinsi\"\n",
    "respon_provinsi = urllib.request.urlopen(url_provinsi)\n",
    "data_provinsi = json.loads(respon_provinsi.read())\n",
    "data_provinsi = data_provinsi[\"data\"]\n",
    "data_provinsi"
   ]
  },
  {
   "cell_type": "markdown",
   "metadata": {},
   "source": [
    "<H4> Sajikan dalam DataFrame"
   ]
  },
  {
   "cell_type": "code",
   "execution_count": 70,
   "metadata": {},
   "outputs": [
    {
     "data": {
      "text/html": [
       "<div>\n",
       "<style scoped>\n",
       "    .dataframe tbody tr th:only-of-type {\n",
       "        vertical-align: middle;\n",
       "    }\n",
       "\n",
       "    .dataframe tbody tr th {\n",
       "        vertical-align: top;\n",
       "    }\n",
       "\n",
       "    .dataframe thead th {\n",
       "        text-align: right;\n",
       "    }\n",
       "</style>\n",
       "<table border=\"1\" class=\"dataframe\">\n",
       "  <thead>\n",
       "    <tr style=\"text-align: right;\">\n",
       "      <th></th>\n",
       "      <th>fid</th>\n",
       "      <th>kodeProvi</th>\n",
       "      <th>provinsi</th>\n",
       "      <th>kasusPosi</th>\n",
       "      <th>kasusSemb</th>\n",
       "      <th>kasusMeni</th>\n",
       "    </tr>\n",
       "  </thead>\n",
       "  <tbody>\n",
       "    <tr>\n",
       "      <th>0</th>\n",
       "      <td>11</td>\n",
       "      <td>31</td>\n",
       "      <td>DKI Jakarta</td>\n",
       "      <td>67902</td>\n",
       "      <td>54268</td>\n",
       "      <td>1661</td>\n",
       "    </tr>\n",
       "    <tr>\n",
       "      <th>1</th>\n",
       "      <td>15</td>\n",
       "      <td>35</td>\n",
       "      <td>Jawa Timur</td>\n",
       "      <td>42391</td>\n",
       "      <td>35205</td>\n",
       "      <td>3084</td>\n",
       "    </tr>\n",
       "    <tr>\n",
       "      <th>2</th>\n",
       "      <td>13</td>\n",
       "      <td>33</td>\n",
       "      <td>Jawa Tengah</td>\n",
       "      <td>21004</td>\n",
       "      <td>15043</td>\n",
       "      <td>1372</td>\n",
       "    </tr>\n",
       "    <tr>\n",
       "      <th>3</th>\n",
       "      <td>12</td>\n",
       "      <td>32</td>\n",
       "      <td>Jawa Barat</td>\n",
       "      <td>20131</td>\n",
       "      <td>12022</td>\n",
       "      <td>368</td>\n",
       "    </tr>\n",
       "    <tr>\n",
       "      <th>4</th>\n",
       "      <td>27</td>\n",
       "      <td>73</td>\n",
       "      <td>Sulawesi Selatan</td>\n",
       "      <td>14982</td>\n",
       "      <td>10961</td>\n",
       "      <td>406</td>\n",
       "    </tr>\n",
       "  </tbody>\n",
       "</table>\n",
       "</div>"
      ],
      "text/plain": [
       "   fid  kodeProvi          provinsi  kasusPosi  kasusSemb  kasusMeni\n",
       "0   11         31       DKI Jakarta      67902      54268       1661\n",
       "1   15         35        Jawa Timur      42391      35205       3084\n",
       "2   13         33       Jawa Tengah      21004      15043       1372\n",
       "3   12         32        Jawa Barat      20131      12022        368\n",
       "4   27         73  Sulawesi Selatan      14982      10961        406"
      ]
     },
     "execution_count": 70,
     "metadata": {},
     "output_type": "execute_result"
    }
   ],
   "source": [
    "df_provinsi = pd.DataFrame(data_provinsi)\n",
    "df_provinsi.head()"
   ]
  },
  {
   "cell_type": "markdown",
   "metadata": {},
   "source": [
    "#### Membaca Shape File dengan GeoPandas\n",
    "\n",
    "Gunakan file `idn_admbnda_adm1_bps_20200401.shp` untuk mengambil data batas wilayah setiap provinsi di Indonesia\n",
    "\n",
    "sumber data :  https://data.humdata.org/dataset/indonesia-administrative-boundary-polygons-lines-and-places-levels-0-4b"
   ]
  },
  {
   "cell_type": "code",
   "execution_count": 71,
   "metadata": {},
   "outputs": [],
   "source": [
    "fp = \"../geopandas/idn_admbnda_adm1_bps_20200401.shp\"\n",
    "map_df = gpd.read_file(fp)"
   ]
  },
  {
   "cell_type": "code",
   "execution_count": 72,
   "metadata": {},
   "outputs": [
    {
     "data": {
      "text/plain": [
       "<matplotlib.axes._subplots.AxesSubplot at 0x20b7b25e6d0>"
      ]
     },
     "execution_count": 72,
     "metadata": {},
     "output_type": "execute_result"
    },
    {
     "data": {
      "image/png": "[encoded data removed]",
      "text/plain": [
       "<Figure size 432x288 with 1 Axes>"
      ]
     },
     "metadata": {
      "needs_background": "light"
     },
     "output_type": "display_data"
    }
   ],
   "source": [
    "map_df.plot()"
   ]
  },
  {
   "cell_type": "code",
   "execution_count": 73,
   "metadata": {
    "scrolled": true
   },
   "outputs": [
    {
     "data": {
      "text/html": [
       "<div>\n",
       "<style scoped>\n",
       "    .dataframe tbody tr th:only-of-type {\n",
       "        vertical-align: middle;\n",
       "    }\n",
       "\n",
       "    .dataframe tbody tr th {\n",
       "        vertical-align: top;\n",
       "    }\n",
       "\n",
       "    .dataframe thead th {\n",
       "        text-align: right;\n",
       "    }\n",
       "</style>\n",
       "<table border=\"1\" class=\"dataframe\">\n",
       "  <thead>\n",
       "    <tr style=\"text-align: right;\">\n",
       "      <th></th>\n",
       "      <th>Shape_Leng</th>\n",
       "      <th>Shape_Area</th>\n",
       "      <th>ADM1_EN</th>\n",
       "      <th>ADM1_PCODE</th>\n",
       "      <th>ADM1_REF</th>\n",
       "      <th>ADM1ALT1EN</th>\n",
       "      <th>ADM1ALT2EN</th>\n",
       "      <th>ADM0_EN</th>\n",
       "      <th>ADM0_PCODE</th>\n",
       "      <th>date</th>\n",
       "      <th>validOn</th>\n",
       "      <th>validTo</th>\n",
       "      <th>geometry</th>\n",
       "    </tr>\n",
       "  </thead>\n",
       "  <tbody>\n",
       "    <tr>\n",
       "      <th>0</th>\n",
       "      <td>27.367364</td>\n",
       "      <td>4.625437</td>\n",
       "      <td>Aceh</td>\n",
       "      <td>ID11</td>\n",
       "      <td>None</td>\n",
       "      <td>None</td>\n",
       "      <td>None</td>\n",
       "      <td>Indonesia</td>\n",
       "      <td>ID</td>\n",
       "      <td>2019-12-20</td>\n",
       "      <td>2020-04-01</td>\n",
       "      <td>None</td>\n",
       "      <td>MULTIPOLYGON (((97.39178 2.03748, 97.39055 2.0...</td>\n",
       "    </tr>\n",
       "    <tr>\n",
       "      <th>1</th>\n",
       "      <td>6.026648</td>\n",
       "      <td>0.458717</td>\n",
       "      <td>Bali</td>\n",
       "      <td>ID51</td>\n",
       "      <td>None</td>\n",
       "      <td>None</td>\n",
       "      <td>None</td>\n",
       "      <td>Indonesia</td>\n",
       "      <td>ID</td>\n",
       "      <td>2019-12-20</td>\n",
       "      <td>2020-04-01</td>\n",
       "      <td>None</td>\n",
       "      <td>MULTIPOLYGON (((115.12509 -8.84761, 115.12499 ...</td>\n",
       "    </tr>\n",
       "    <tr>\n",
       "      <th>2</th>\n",
       "      <td>9.279900</td>\n",
       "      <td>0.764911</td>\n",
       "      <td>Banten</td>\n",
       "      <td>ID36</td>\n",
       "      <td>None</td>\n",
       "      <td>None</td>\n",
       "      <td>None</td>\n",
       "      <td>Indonesia</td>\n",
       "      <td>ID</td>\n",
       "      <td>2019-12-20</td>\n",
       "      <td>2020-04-01</td>\n",
       "      <td>None</td>\n",
       "      <td>MULTIPOLYGON (((105.54977 -6.99566, 105.55035 ...</td>\n",
       "    </tr>\n",
       "    <tr>\n",
       "      <th>3</th>\n",
       "      <td>11.653771</td>\n",
       "      <td>1.630129</td>\n",
       "      <td>Bengkulu</td>\n",
       "      <td>ID17</td>\n",
       "      <td>None</td>\n",
       "      <td>None</td>\n",
       "      <td>None</td>\n",
       "      <td>Indonesia</td>\n",
       "      <td>ID</td>\n",
       "      <td>2019-12-20</td>\n",
       "      <td>2020-04-01</td>\n",
       "      <td>None</td>\n",
       "      <td>MULTIPOLYGON (((102.38616 -5.47144, 102.38626 ...</td>\n",
       "    </tr>\n",
       "    <tr>\n",
       "      <th>4</th>\n",
       "      <td>3.341561</td>\n",
       "      <td>0.260130</td>\n",
       "      <td>Daerah Istimewa Yogyakarta</td>\n",
       "      <td>ID34</td>\n",
       "      <td>None</td>\n",
       "      <td>None</td>\n",
       "      <td>None</td>\n",
       "      <td>Indonesia</td>\n",
       "      <td>ID</td>\n",
       "      <td>2019-12-20</td>\n",
       "      <td>2020-04-01</td>\n",
       "      <td>None</td>\n",
       "      <td>MULTIPOLYGON (((110.81980 -8.20358, 110.81951 ...</td>\n",
       "    </tr>\n",
       "  </tbody>\n",
       "</table>\n",
       "</div>"
      ],
      "text/plain": [
       "   Shape_Leng  Shape_Area                     ADM1_EN ADM1_PCODE ADM1_REF  \\\n",
       "0   27.367364    4.625437                        Aceh       ID11     None   \n",
       "1    6.026648    0.458717                        Bali       ID51     None   \n",
       "2    9.279900    0.764911                      Banten       ID36     None   \n",
       "3   11.653771    1.630129                    Bengkulu       ID17     None   \n",
       "4    3.341561    0.260130  Daerah Istimewa Yogyakarta       ID34     None   \n",
       "\n",
       "  ADM1ALT1EN ADM1ALT2EN    ADM0_EN ADM0_PCODE        date     validOn validTo  \\\n",
       "0       None       None  Indonesia         ID  2019-12-20  2020-04-01    None   \n",
       "1       None       None  Indonesia         ID  2019-12-20  2020-04-01    None   \n",
       "2       None       None  Indonesia         ID  2019-12-20  2020-04-01    None   \n",
       "3       None       None  Indonesia         ID  2019-12-20  2020-04-01    None   \n",
       "4       None       None  Indonesia         ID  2019-12-20  2020-04-01    None   \n",
       "\n",
       "                                            geometry  \n",
       "0  MULTIPOLYGON (((97.39178 2.03748, 97.39055 2.0...  \n",
       "1  MULTIPOLYGON (((115.12509 -8.84761, 115.12499 ...  \n",
       "2  MULTIPOLYGON (((105.54977 -6.99566, 105.55035 ...  \n",
       "3  MULTIPOLYGON (((102.38616 -5.47144, 102.38626 ...  \n",
       "4  MULTIPOLYGON (((110.81980 -8.20358, 110.81951 ...  "
      ]
     },
     "execution_count": 73,
     "metadata": {},
     "output_type": "execute_result"
    }
   ],
   "source": [
    "map_df.head()"
   ]
  },
  {
   "cell_type": "markdown",
   "metadata": {},
   "source": [
    "#### Penyesuaian data\n",
    "\n",
    "Nama DKI Jakarta pada `df_provinsi` dan `map_df` tidak sama"
   ]
  },
  {
   "cell_type": "code",
   "execution_count": 74,
   "metadata": {},
   "outputs": [
    {
     "data": {
      "text/html": [
       "<div>\n",
       "<style scoped>\n",
       "    .dataframe tbody tr th:only-of-type {\n",
       "        vertical-align: middle;\n",
       "    }\n",
       "\n",
       "    .dataframe tbody tr th {\n",
       "        vertical-align: top;\n",
       "    }\n",
       "\n",
       "    .dataframe thead th {\n",
       "        text-align: right;\n",
       "    }\n",
       "</style>\n",
       "<table border=\"1\" class=\"dataframe\">\n",
       "  <thead>\n",
       "    <tr style=\"text-align: right;\">\n",
       "      <th></th>\n",
       "      <th>Shape_Leng</th>\n",
       "      <th>Shape_Area</th>\n",
       "      <th>ADM1_EN</th>\n",
       "      <th>ADM1_PCODE</th>\n",
       "      <th>ADM1_REF</th>\n",
       "      <th>ADM1ALT1EN</th>\n",
       "      <th>ADM1ALT2EN</th>\n",
       "      <th>ADM0_EN</th>\n",
       "      <th>ADM0_PCODE</th>\n",
       "      <th>date</th>\n",
       "      <th>validOn</th>\n",
       "      <th>validTo</th>\n",
       "      <th>geometry</th>\n",
       "    </tr>\n",
       "  </thead>\n",
       "  <tbody>\n",
       "    <tr>\n",
       "      <th>5</th>\n",
       "      <td>3.123689</td>\n",
       "      <td>0.053426</td>\n",
       "      <td>DKI Jakarta</td>\n",
       "      <td>ID31</td>\n",
       "      <td>None</td>\n",
       "      <td>None</td>\n",
       "      <td>None</td>\n",
       "      <td>Indonesia</td>\n",
       "      <td>ID</td>\n",
       "      <td>2019-12-20</td>\n",
       "      <td>2020-04-01</td>\n",
       "      <td>None</td>\n",
       "      <td>MULTIPOLYGON (((106.87677 -6.10030, 106.87596 ...</td>\n",
       "    </tr>\n",
       "  </tbody>\n",
       "</table>\n",
       "</div>"
      ],
      "text/plain": [
       "   Shape_Leng  Shape_Area      ADM1_EN ADM1_PCODE ADM1_REF ADM1ALT1EN  \\\n",
       "5    3.123689    0.053426  DKI Jakarta       ID31     None       None   \n",
       "\n",
       "  ADM1ALT2EN    ADM0_EN ADM0_PCODE        date     validOn validTo  \\\n",
       "5       None  Indonesia         ID  2019-12-20  2020-04-01    None   \n",
       "\n",
       "                                            geometry  \n",
       "5  MULTIPOLYGON (((106.87677 -6.10030, 106.87596 ...  "
      ]
     },
     "execution_count": 74,
     "metadata": {},
     "output_type": "execute_result"
    }
   ],
   "source": [
    "map_df = map_df.replace(\"Dki Jakarta\",\"DKI Jakarta\")\n",
    "map_df[map_df['ADM1_EN'] == \"DKI Jakarta\"]"
   ]
  },
  {
   "cell_type": "markdown",
   "metadata": {},
   "source": [
    "#### Gabungkan data\n",
    "kesamaan : `map_df` -> ADM1_EN sedangkan pada `df_provinsi` -> provinsi"
   ]
  },
  {
   "cell_type": "code",
   "execution_count": 75,
   "metadata": {},
   "outputs": [
    {
     "data": {
      "text/html": [
       "<div>\n",
       "<style scoped>\n",
       "    .dataframe tbody tr th:only-of-type {\n",
       "        vertical-align: middle;\n",
       "    }\n",
       "\n",
       "    .dataframe tbody tr th {\n",
       "        vertical-align: top;\n",
       "    }\n",
       "\n",
       "    .dataframe thead th {\n",
       "        text-align: right;\n",
       "    }\n",
       "</style>\n",
       "<table border=\"1\" class=\"dataframe\">\n",
       "  <thead>\n",
       "    <tr style=\"text-align: right;\">\n",
       "      <th></th>\n",
       "      <th>Shape_Leng</th>\n",
       "      <th>Shape_Area</th>\n",
       "      <th>ADM1_PCODE</th>\n",
       "      <th>ADM1_REF</th>\n",
       "      <th>ADM1ALT1EN</th>\n",
       "      <th>ADM1ALT2EN</th>\n",
       "      <th>ADM0_EN</th>\n",
       "      <th>ADM0_PCODE</th>\n",
       "      <th>date</th>\n",
       "      <th>validOn</th>\n",
       "      <th>validTo</th>\n",
       "      <th>geometry</th>\n",
       "      <th>fid</th>\n",
       "      <th>kodeProvi</th>\n",
       "      <th>kasusPosi</th>\n",
       "      <th>kasusSemb</th>\n",
       "      <th>kasusMeni</th>\n",
       "    </tr>\n",
       "    <tr>\n",
       "      <th>ADM1_EN</th>\n",
       "      <th></th>\n",
       "      <th></th>\n",
       "      <th></th>\n",
       "      <th></th>\n",
       "      <th></th>\n",
       "      <th></th>\n",
       "      <th></th>\n",
       "      <th></th>\n",
       "      <th></th>\n",
       "      <th></th>\n",
       "      <th></th>\n",
       "      <th></th>\n",
       "      <th></th>\n",
       "      <th></th>\n",
       "      <th></th>\n",
       "      <th></th>\n",
       "      <th></th>\n",
       "    </tr>\n",
       "  </thead>\n",
       "  <tbody>\n",
       "    <tr>\n",
       "      <th>Aceh</th>\n",
       "      <td>27.367364</td>\n",
       "      <td>4.625437</td>\n",
       "      <td>ID11</td>\n",
       "      <td>None</td>\n",
       "      <td>None</td>\n",
       "      <td>None</td>\n",
       "      <td>Indonesia</td>\n",
       "      <td>ID</td>\n",
       "      <td>2019-12-20</td>\n",
       "      <td>2020-04-01</td>\n",
       "      <td>None</td>\n",
       "      <td>MULTIPOLYGON (((97.39178 2.03748, 97.39055 2.0...</td>\n",
       "      <td>1</td>\n",
       "      <td>11</td>\n",
       "      <td>3982</td>\n",
       "      <td>1889</td>\n",
       "      <td>147</td>\n",
       "    </tr>\n",
       "    <tr>\n",
       "      <th>Bali</th>\n",
       "      <td>6.026648</td>\n",
       "      <td>0.458717</td>\n",
       "      <td>ID51</td>\n",
       "      <td>None</td>\n",
       "      <td>None</td>\n",
       "      <td>None</td>\n",
       "      <td>Indonesia</td>\n",
       "      <td>ID</td>\n",
       "      <td>2019-12-20</td>\n",
       "      <td>2020-04-01</td>\n",
       "      <td>None</td>\n",
       "      <td>MULTIPOLYGON (((115.12509 -8.84761, 115.12499 ...</td>\n",
       "      <td>17</td>\n",
       "      <td>51</td>\n",
       "      <td>8389</td>\n",
       "      <td>6828</td>\n",
       "      <td>245</td>\n",
       "    </tr>\n",
       "    <tr>\n",
       "      <th>Banten</th>\n",
       "      <td>9.279900</td>\n",
       "      <td>0.764911</td>\n",
       "      <td>ID36</td>\n",
       "      <td>None</td>\n",
       "      <td>None</td>\n",
       "      <td>None</td>\n",
       "      <td>Indonesia</td>\n",
       "      <td>ID</td>\n",
       "      <td>2019-12-20</td>\n",
       "      <td>2020-04-01</td>\n",
       "      <td>None</td>\n",
       "      <td>MULTIPOLYGON (((105.54977 -6.99566, 105.55035 ...</td>\n",
       "      <td>16</td>\n",
       "      <td>36</td>\n",
       "      <td>5050</td>\n",
       "      <td>3218</td>\n",
       "      <td>162</td>\n",
       "    </tr>\n",
       "    <tr>\n",
       "      <th>Bengkulu</th>\n",
       "      <td>11.653771</td>\n",
       "      <td>1.630129</td>\n",
       "      <td>ID17</td>\n",
       "      <td>None</td>\n",
       "      <td>None</td>\n",
       "      <td>None</td>\n",
       "      <td>Indonesia</td>\n",
       "      <td>ID</td>\n",
       "      <td>2019-12-20</td>\n",
       "      <td>2020-04-01</td>\n",
       "      <td>None</td>\n",
       "      <td>MULTIPOLYGON (((102.38616 -5.47144, 102.38626 ...</td>\n",
       "      <td>7</td>\n",
       "      <td>17</td>\n",
       "      <td>590</td>\n",
       "      <td>379</td>\n",
       "      <td>32</td>\n",
       "    </tr>\n",
       "    <tr>\n",
       "      <th>Daerah Istimewa Yogyakarta</th>\n",
       "      <td>3.341561</td>\n",
       "      <td>0.260130</td>\n",
       "      <td>ID34</td>\n",
       "      <td>None</td>\n",
       "      <td>None</td>\n",
       "      <td>None</td>\n",
       "      <td>Indonesia</td>\n",
       "      <td>ID</td>\n",
       "      <td>2019-12-20</td>\n",
       "      <td>2020-04-01</td>\n",
       "      <td>None</td>\n",
       "      <td>MULTIPOLYGON (((110.81980 -8.20358, 110.81951 ...</td>\n",
       "      <td>14</td>\n",
       "      <td>34</td>\n",
       "      <td>2458</td>\n",
       "      <td>1677</td>\n",
       "      <td>64</td>\n",
       "    </tr>\n",
       "    <tr>\n",
       "      <th>DKI Jakarta</th>\n",
       "      <td>3.123689</td>\n",
       "      <td>0.053426</td>\n",
       "      <td>ID31</td>\n",
       "      <td>None</td>\n",
       "      <td>None</td>\n",
       "      <td>None</td>\n",
       "      <td>Indonesia</td>\n",
       "      <td>ID</td>\n",
       "      <td>2019-12-20</td>\n",
       "      <td>2020-04-01</td>\n",
       "      <td>None</td>\n",
       "      <td>MULTIPOLYGON (((106.87677 -6.10030, 106.87596 ...</td>\n",
       "      <td>11</td>\n",
       "      <td>31</td>\n",
       "      <td>67902</td>\n",
       "      <td>54268</td>\n",
       "      <td>1661</td>\n",
       "    </tr>\n",
       "    <tr>\n",
       "      <th>Gorontalo</th>\n",
       "      <td>11.013243</td>\n",
       "      <td>0.977600</td>\n",
       "      <td>ID75</td>\n",
       "      <td>None</td>\n",
       "      <td>None</td>\n",
       "      <td>None</td>\n",
       "      <td>Indonesia</td>\n",
       "      <td>ID</td>\n",
       "      <td>2019-12-20</td>\n",
       "      <td>2020-04-01</td>\n",
       "      <td>None</td>\n",
       "      <td>MULTIPOLYGON (((121.42536 0.41243, 121.42355 0...</td>\n",
       "      <td>29</td>\n",
       "      <td>75</td>\n",
       "      <td>2534</td>\n",
       "      <td>2199</td>\n",
       "      <td>75</td>\n",
       "    </tr>\n",
       "    <tr>\n",
       "      <th>Jambi</th>\n",
       "      <td>11.835073</td>\n",
       "      <td>3.977711</td>\n",
       "      <td>ID15</td>\n",
       "      <td>None</td>\n",
       "      <td>None</td>\n",
       "      <td>None</td>\n",
       "      <td>Indonesia</td>\n",
       "      <td>ID</td>\n",
       "      <td>2019-12-20</td>\n",
       "      <td>2020-04-01</td>\n",
       "      <td>None</td>\n",
       "      <td>MULTIPOLYGON (((104.40714 -0.86371, 104.40590 ...</td>\n",
       "      <td>5</td>\n",
       "      <td>15</td>\n",
       "      <td>409</td>\n",
       "      <td>263</td>\n",
       "      <td>8</td>\n",
       "    </tr>\n",
       "    <tr>\n",
       "      <th>Jawa Barat</th>\n",
       "      <td>11.605868</td>\n",
       "      <td>3.032785</td>\n",
       "      <td>ID32</td>\n",
       "      <td>None</td>\n",
       "      <td>None</td>\n",
       "      <td>None</td>\n",
       "      <td>Indonesia</td>\n",
       "      <td>ID</td>\n",
       "      <td>2019-12-20</td>\n",
       "      <td>2020-04-01</td>\n",
       "      <td>None</td>\n",
       "      <td>MULTIPOLYGON (((108.68501 -6.76990, 108.68411 ...</td>\n",
       "      <td>12</td>\n",
       "      <td>32</td>\n",
       "      <td>20131</td>\n",
       "      <td>12022</td>\n",
       "      <td>368</td>\n",
       "    </tr>\n",
       "    <tr>\n",
       "      <th>Jawa Tengah</th>\n",
       "      <td>15.452527</td>\n",
       "      <td>2.819838</td>\n",
       "      <td>ID33</td>\n",
       "      <td>None</td>\n",
       "      <td>None</td>\n",
       "      <td>None</td>\n",
       "      <td>Indonesia</td>\n",
       "      <td>ID</td>\n",
       "      <td>2019-12-20</td>\n",
       "      <td>2020-04-01</td>\n",
       "      <td>None</td>\n",
       "      <td>MULTIPOLYGON (((108.88353 -7.74846, 108.88322 ...</td>\n",
       "      <td>13</td>\n",
       "      <td>33</td>\n",
       "      <td>21004</td>\n",
       "      <td>15043</td>\n",
       "      <td>1372</td>\n",
       "    </tr>\n",
       "    <tr>\n",
       "      <th>Jawa Timur</th>\n",
       "      <td>33.565748</td>\n",
       "      <td>3.938320</td>\n",
       "      <td>ID35</td>\n",
       "      <td>None</td>\n",
       "      <td>None</td>\n",
       "      <td>None</td>\n",
       "      <td>Indonesia</td>\n",
       "      <td>ID</td>\n",
       "      <td>2019-12-20</td>\n",
       "      <td>2020-04-01</td>\n",
       "      <td>None</td>\n",
       "      <td>MULTIPOLYGON (((114.20384 -8.65725, 114.20366 ...</td>\n",
       "      <td>15</td>\n",
       "      <td>35</td>\n",
       "      <td>42391</td>\n",
       "      <td>35205</td>\n",
       "      <td>3084</td>\n",
       "    </tr>\n",
       "    <tr>\n",
       "      <th>Kalimantan Barat</th>\n",
       "      <td>39.643679</td>\n",
       "      <td>11.962830</td>\n",
       "      <td>ID61</td>\n",
       "      <td>None</td>\n",
       "      <td>None</td>\n",
       "      <td>None</td>\n",
       "      <td>Indonesia</td>\n",
       "      <td>ID</td>\n",
       "      <td>2019-12-20</td>\n",
       "      <td>2020-04-01</td>\n",
       "      <td>None</td>\n",
       "      <td>MULTIPOLYGON (((110.20398 -3.06463, 110.20430 ...</td>\n",
       "      <td>20</td>\n",
       "      <td>61</td>\n",
       "      <td>935</td>\n",
       "      <td>769</td>\n",
       "      <td>8</td>\n",
       "    </tr>\n",
       "    <tr>\n",
       "      <th>Kalimantan Selatan</th>\n",
       "      <td>26.450937</td>\n",
       "      <td>2.989879</td>\n",
       "      <td>ID63</td>\n",
       "      <td>None</td>\n",
       "      <td>None</td>\n",
       "      <td>None</td>\n",
       "      <td>Indonesia</td>\n",
       "      <td>ID</td>\n",
       "      <td>2019-12-20</td>\n",
       "      <td>2020-04-01</td>\n",
       "      <td>None</td>\n",
       "      <td>MULTIPOLYGON (((115.66725 -4.74446, 115.66569 ...</td>\n",
       "      <td>22</td>\n",
       "      <td>63</td>\n",
       "      <td>10080</td>\n",
       "      <td>8503</td>\n",
       "      <td>410</td>\n",
       "    </tr>\n",
       "    <tr>\n",
       "      <th>Kalimantan Tengah</th>\n",
       "      <td>23.242003</td>\n",
       "      <td>12.531139</td>\n",
       "      <td>ID62</td>\n",
       "      <td>None</td>\n",
       "      <td>None</td>\n",
       "      <td>None</td>\n",
       "      <td>Indonesia</td>\n",
       "      <td>ID</td>\n",
       "      <td>2019-12-20</td>\n",
       "      <td>2020-04-01</td>\n",
       "      <td>None</td>\n",
       "      <td>MULTIPOLYGON (((114.25716 -3.38189, 114.25671 ...</td>\n",
       "      <td>21</td>\n",
       "      <td>62</td>\n",
       "      <td>3474</td>\n",
       "      <td>2636</td>\n",
       "      <td>130</td>\n",
       "    </tr>\n",
       "    <tr>\n",
       "      <th>Kalimantan Timur</th>\n",
       "      <td>58.195163</td>\n",
       "      <td>10.260775</td>\n",
       "      <td>ID64</td>\n",
       "      <td>None</td>\n",
       "      <td>None</td>\n",
       "      <td>None</td>\n",
       "      <td>Indonesia</td>\n",
       "      <td>ID</td>\n",
       "      <td>2019-12-20</td>\n",
       "      <td>2020-04-01</td>\n",
       "      <td>None</td>\n",
       "      <td>MULTIPOLYGON (((116.46151 -2.19154, 116.42979 ...</td>\n",
       "      <td>23</td>\n",
       "      <td>64</td>\n",
       "      <td>7851</td>\n",
       "      <td>5080</td>\n",
       "      <td>294</td>\n",
       "    </tr>\n",
       "    <tr>\n",
       "      <th>Kalimantan Utara</th>\n",
       "      <td>41.706376</td>\n",
       "      <td>5.692686</td>\n",
       "      <td>ID65</td>\n",
       "      <td>None</td>\n",
       "      <td>None</td>\n",
       "      <td>None</td>\n",
       "      <td>Indonesia</td>\n",
       "      <td>ID</td>\n",
       "      <td>2019-12-20</td>\n",
       "      <td>2020-04-01</td>\n",
       "      <td>None</td>\n",
       "      <td>MULTIPOLYGON (((117.62917 2.79781, 117.62802 2...</td>\n",
       "      <td>24</td>\n",
       "      <td>65</td>\n",
       "      <td>556</td>\n",
       "      <td>448</td>\n",
       "      <td>4</td>\n",
       "    </tr>\n",
       "    <tr>\n",
       "      <th>Kepulauan Bangka Belitung</th>\n",
       "      <td>20.100844</td>\n",
       "      <td>1.358492</td>\n",
       "      <td>ID19</td>\n",
       "      <td>None</td>\n",
       "      <td>None</td>\n",
       "      <td>None</td>\n",
       "      <td>Indonesia</td>\n",
       "      <td>ID</td>\n",
       "      <td>2019-12-20</td>\n",
       "      <td>2020-04-01</td>\n",
       "      <td>None</td>\n",
       "      <td>MULTIPOLYGON (((107.96210 -3.41137, 107.96256 ...</td>\n",
       "      <td>8</td>\n",
       "      <td>19</td>\n",
       "      <td>191</td>\n",
       "      <td>173</td>\n",
       "      <td>2</td>\n",
       "    </tr>\n",
       "    <tr>\n",
       "      <th>Kepulauan Riau</th>\n",
       "      <td>66.524760</td>\n",
       "      <td>0.670682</td>\n",
       "      <td>ID21</td>\n",
       "      <td>None</td>\n",
       "      <td>None</td>\n",
       "      <td>None</td>\n",
       "      <td>Indonesia</td>\n",
       "      <td>ID</td>\n",
       "      <td>2019-12-20</td>\n",
       "      <td>2020-04-01</td>\n",
       "      <td>None</td>\n",
       "      <td>MULTIPOLYGON (((105.25355 -1.29511, 105.25032 ...</td>\n",
       "      <td>10</td>\n",
       "      <td>21</td>\n",
       "      <td>2022</td>\n",
       "      <td>1227</td>\n",
       "      <td>56</td>\n",
       "    </tr>\n",
       "    <tr>\n",
       "      <th>Lampung</th>\n",
       "      <td>15.093057</td>\n",
       "      <td>2.739782</td>\n",
       "      <td>ID18</td>\n",
       "      <td>None</td>\n",
       "      <td>None</td>\n",
       "      <td>None</td>\n",
       "      <td>Indonesia</td>\n",
       "      <td>ID</td>\n",
       "      <td>2019-12-20</td>\n",
       "      <td>2020-04-01</td>\n",
       "      <td>None</td>\n",
       "      <td>MULTIPOLYGON (((105.44887 -6.13655, 105.45027 ...</td>\n",
       "      <td>9</td>\n",
       "      <td>18</td>\n",
       "      <td>814</td>\n",
       "      <td>519</td>\n",
       "      <td>30</td>\n",
       "    </tr>\n",
       "    <tr>\n",
       "      <th>Maluku</th>\n",
       "      <td>89.991730</td>\n",
       "      <td>3.768729</td>\n",
       "      <td>ID81</td>\n",
       "      <td>None</td>\n",
       "      <td>None</td>\n",
       "      <td>None</td>\n",
       "      <td>Indonesia</td>\n",
       "      <td>ID</td>\n",
       "      <td>2019-12-20</td>\n",
       "      <td>2020-04-01</td>\n",
       "      <td>None</td>\n",
       "      <td>MULTIPOLYGON (((128.50938 -8.34280, 128.50867 ...</td>\n",
       "      <td>31</td>\n",
       "      <td>81</td>\n",
       "      <td>2654</td>\n",
       "      <td>1687</td>\n",
       "      <td>40</td>\n",
       "    </tr>\n",
       "    <tr>\n",
       "      <th>Maluku Utara</th>\n",
       "      <td>59.712820</td>\n",
       "      <td>2.560468</td>\n",
       "      <td>ID82</td>\n",
       "      <td>None</td>\n",
       "      <td>None</td>\n",
       "      <td>None</td>\n",
       "      <td>Indonesia</td>\n",
       "      <td>ID</td>\n",
       "      <td>2019-12-20</td>\n",
       "      <td>2020-04-01</td>\n",
       "      <td>None</td>\n",
       "      <td>MULTIPOLYGON (((124.44805 -2.04014, 124.44803 ...</td>\n",
       "      <td>32</td>\n",
       "      <td>82</td>\n",
       "      <td>2045</td>\n",
       "      <td>1799</td>\n",
       "      <td>74</td>\n",
       "    </tr>\n",
       "    <tr>\n",
       "      <th>Nusa Tenggara Barat</th>\n",
       "      <td>26.916220</td>\n",
       "      <td>1.615713</td>\n",
       "      <td>ID52</td>\n",
       "      <td>None</td>\n",
       "      <td>None</td>\n",
       "      <td>None</td>\n",
       "      <td>Indonesia</td>\n",
       "      <td>ID</td>\n",
       "      <td>2019-12-20</td>\n",
       "      <td>2020-04-01</td>\n",
       "      <td>None</td>\n",
       "      <td>MULTIPOLYGON (((117.05418 -9.10635, 117.05385 ...</td>\n",
       "      <td>18</td>\n",
       "      <td>52</td>\n",
       "      <td>3218</td>\n",
       "      <td>2536</td>\n",
       "      <td>192</td>\n",
       "    </tr>\n",
       "    <tr>\n",
       "      <th>Nusa Tenggara Timur</th>\n",
       "      <td>52.346415</td>\n",
       "      <td>3.822870</td>\n",
       "      <td>ID53</td>\n",
       "      <td>None</td>\n",
       "      <td>None</td>\n",
       "      <td>None</td>\n",
       "      <td>Indonesia</td>\n",
       "      <td>ID</td>\n",
       "      <td>2019-12-20</td>\n",
       "      <td>2020-04-01</td>\n",
       "      <td>None</td>\n",
       "      <td>MULTIPOLYGON (((122.87141 -10.96885, 122.87312...</td>\n",
       "      <td>19</td>\n",
       "      <td>53</td>\n",
       "      <td>388</td>\n",
       "      <td>240</td>\n",
       "      <td>6</td>\n",
       "    </tr>\n",
       "    <tr>\n",
       "      <th>Papua</th>\n",
       "      <td>63.862877</td>\n",
       "      <td>25.607715</td>\n",
       "      <td>ID94</td>\n",
       "      <td>None</td>\n",
       "      <td>None</td>\n",
       "      <td>None</td>\n",
       "      <td>Indonesia</td>\n",
       "      <td>ID</td>\n",
       "      <td>2019-12-20</td>\n",
       "      <td>2020-04-01</td>\n",
       "      <td>None</td>\n",
       "      <td>MULTIPOLYGON (((138.96527 -8.35751, 138.96550 ...</td>\n",
       "      <td>33</td>\n",
       "      <td>94</td>\n",
       "      <td>5763</td>\n",
       "      <td>3688</td>\n",
       "      <td>80</td>\n",
       "    </tr>\n",
       "    <tr>\n",
       "      <th>Papua Barat</th>\n",
       "      <td>74.474660</td>\n",
       "      <td>8.010799</td>\n",
       "      <td>ID91</td>\n",
       "      <td>None</td>\n",
       "      <td>None</td>\n",
       "      <td>None</td>\n",
       "      <td>Indonesia</td>\n",
       "      <td>ID</td>\n",
       "      <td>2019-12-20</td>\n",
       "      <td>2020-04-01</td>\n",
       "      <td>None</td>\n",
       "      <td>MULTIPOLYGON (((132.90897 -4.12916, 132.90770 ...</td>\n",
       "      <td>34</td>\n",
       "      <td>91</td>\n",
       "      <td>1820</td>\n",
       "      <td>1039</td>\n",
       "      <td>29</td>\n",
       "    </tr>\n",
       "    <tr>\n",
       "      <th>Riau</th>\n",
       "      <td>34.130199</td>\n",
       "      <td>7.297050</td>\n",
       "      <td>ID14</td>\n",
       "      <td>None</td>\n",
       "      <td>None</td>\n",
       "      <td>None</td>\n",
       "      <td>Indonesia</td>\n",
       "      <td>ID</td>\n",
       "      <td>2019-12-20</td>\n",
       "      <td>2020-04-01</td>\n",
       "      <td>None</td>\n",
       "      <td>MULTIPOLYGON (((103.34186 -0.64204, 103.34394 ...</td>\n",
       "      <td>4</td>\n",
       "      <td>14</td>\n",
       "      <td>6315</td>\n",
       "      <td>2941</td>\n",
       "      <td>131</td>\n",
       "    </tr>\n",
       "    <tr>\n",
       "      <th>Sulawesi Barat</th>\n",
       "      <td>10.619764</td>\n",
       "      <td>1.347353</td>\n",
       "      <td>ID76</td>\n",
       "      <td>None</td>\n",
       "      <td>None</td>\n",
       "      <td>None</td>\n",
       "      <td>Indonesia</td>\n",
       "      <td>ID</td>\n",
       "      <td>2019-12-20</td>\n",
       "      <td>2020-04-01</td>\n",
       "      <td>None</td>\n",
       "      <td>MULTIPOLYGON (((119.35889 -3.48627, 119.35875 ...</td>\n",
       "      <td>30</td>\n",
       "      <td>76</td>\n",
       "      <td>567</td>\n",
       "      <td>407</td>\n",
       "      <td>11</td>\n",
       "    </tr>\n",
       "    <tr>\n",
       "      <th>Sulawesi Selatan</th>\n",
       "      <td>30.279534</td>\n",
       "      <td>3.701920</td>\n",
       "      <td>ID73</td>\n",
       "      <td>None</td>\n",
       "      <td>None</td>\n",
       "      <td>None</td>\n",
       "      <td>Indonesia</td>\n",
       "      <td>ID</td>\n",
       "      <td>2019-12-20</td>\n",
       "      <td>2020-04-01</td>\n",
       "      <td>None</td>\n",
       "      <td>MULTIPOLYGON (((117.20354 -7.75841, 117.20369 ...</td>\n",
       "      <td>27</td>\n",
       "      <td>73</td>\n",
       "      <td>14982</td>\n",
       "      <td>10961</td>\n",
       "      <td>406</td>\n",
       "    </tr>\n",
       "    <tr>\n",
       "      <th>Sulawesi Tengah</th>\n",
       "      <td>60.875536</td>\n",
       "      <td>4.971284</td>\n",
       "      <td>ID72</td>\n",
       "      <td>None</td>\n",
       "      <td>None</td>\n",
       "      <td>None</td>\n",
       "      <td>Indonesia</td>\n",
       "      <td>ID</td>\n",
       "      <td>2019-12-20</td>\n",
       "      <td>2020-04-01</td>\n",
       "      <td>None</td>\n",
       "      <td>MULTIPOLYGON (((123.15749 -3.55724, 123.15815 ...</td>\n",
       "      <td>26</td>\n",
       "      <td>72</td>\n",
       "      <td>354</td>\n",
       "      <td>243</td>\n",
       "      <td>15</td>\n",
       "    </tr>\n",
       "    <tr>\n",
       "      <th>Sulawesi Tenggara</th>\n",
       "      <td>38.508145</td>\n",
       "      <td>2.979239</td>\n",
       "      <td>ID74</td>\n",
       "      <td>None</td>\n",
       "      <td>None</td>\n",
       "      <td>None</td>\n",
       "      <td>Indonesia</td>\n",
       "      <td>ID</td>\n",
       "      <td>2019-12-20</td>\n",
       "      <td>2020-04-01</td>\n",
       "      <td>None</td>\n",
       "      <td>MULTIPOLYGON (((122.69036 -6.18312, 122.69030 ...</td>\n",
       "      <td>28</td>\n",
       "      <td>74</td>\n",
       "      <td>2501</td>\n",
       "      <td>1779</td>\n",
       "      <td>53</td>\n",
       "    </tr>\n",
       "    <tr>\n",
       "      <th>Sulawesi Utara</th>\n",
       "      <td>22.618672</td>\n",
       "      <td>1.180262</td>\n",
       "      <td>ID71</td>\n",
       "      <td>None</td>\n",
       "      <td>None</td>\n",
       "      <td>None</td>\n",
       "      <td>Indonesia</td>\n",
       "      <td>ID</td>\n",
       "      <td>2019-12-20</td>\n",
       "      <td>2020-04-01</td>\n",
       "      <td>None</td>\n",
       "      <td>MULTIPOLYGON (((124.35424 0.41820, 124.35418 0...</td>\n",
       "      <td>25</td>\n",
       "      <td>71</td>\n",
       "      <td>4390</td>\n",
       "      <td>3463</td>\n",
       "      <td>172</td>\n",
       "    </tr>\n",
       "    <tr>\n",
       "      <th>Sumatera Barat</th>\n",
       "      <td>27.734340</td>\n",
       "      <td>3.431119</td>\n",
       "      <td>ID13</td>\n",
       "      <td>None</td>\n",
       "      <td>None</td>\n",
       "      <td>None</td>\n",
       "      <td>Indonesia</td>\n",
       "      <td>ID</td>\n",
       "      <td>2019-12-20</td>\n",
       "      <td>2020-04-01</td>\n",
       "      <td>None</td>\n",
       "      <td>MULTIPOLYGON (((101.03528 -4.01625, 101.03507 ...</td>\n",
       "      <td>3</td>\n",
       "      <td>13</td>\n",
       "      <td>5363</td>\n",
       "      <td>2724</td>\n",
       "      <td>104</td>\n",
       "    </tr>\n",
       "    <tr>\n",
       "      <th>Sumatera Selatan</th>\n",
       "      <td>20.464621</td>\n",
       "      <td>7.076179</td>\n",
       "      <td>ID16</td>\n",
       "      <td>None</td>\n",
       "      <td>None</td>\n",
       "      <td>None</td>\n",
       "      <td>Indonesia</td>\n",
       "      <td>ID</td>\n",
       "      <td>2019-12-20</td>\n",
       "      <td>2020-04-01</td>\n",
       "      <td>None</td>\n",
       "      <td>MULTIPOLYGON (((106.16452 -3.29644, 106.16544 ...</td>\n",
       "      <td>6</td>\n",
       "      <td>16</td>\n",
       "      <td>5734</td>\n",
       "      <td>4132</td>\n",
       "      <td>336</td>\n",
       "    </tr>\n",
       "    <tr>\n",
       "      <th>Sumatera Utara</th>\n",
       "      <td>28.906909</td>\n",
       "      <td>5.880393</td>\n",
       "      <td>ID12</td>\n",
       "      <td>None</td>\n",
       "      <td>None</td>\n",
       "      <td>None</td>\n",
       "      <td>Indonesia</td>\n",
       "      <td>ID</td>\n",
       "      <td>2019-12-20</td>\n",
       "      <td>2020-04-01</td>\n",
       "      <td>None</td>\n",
       "      <td>MULTIPOLYGON (((98.50178 -0.59472, 98.50178 -0...</td>\n",
       "      <td>2</td>\n",
       "      <td>12</td>\n",
       "      <td>9843</td>\n",
       "      <td>6107</td>\n",
       "      <td>415</td>\n",
       "    </tr>\n",
       "  </tbody>\n",
       "</table>\n",
       "</div>"
      ],
      "text/plain": [
       "                            Shape_Leng  Shape_Area ADM1_PCODE ADM1_REF  \\\n",
       "ADM1_EN                                                                  \n",
       "Aceh                         27.367364    4.625437       ID11     None   \n",
       "Bali                          6.026648    0.458717       ID51     None   \n",
       "Banten                        9.279900    0.764911       ID36     None   \n",
       "Bengkulu                     11.653771    1.630129       ID17     None   \n",
       "Daerah Istimewa Yogyakarta    3.341561    0.260130       ID34     None   \n",
       "DKI Jakarta                   3.123689    0.053426       ID31     None   \n",
       "Gorontalo                    11.013243    0.977600       ID75     None   \n",
       "Jambi                        11.835073    3.977711       ID15     None   \n",
       "Jawa Barat                   11.605868    3.032785       ID32     None   \n",
       "Jawa Tengah                  15.452527    2.819838       ID33     None   \n",
       "Jawa Timur                   33.565748    3.938320       ID35     None   \n",
       "Kalimantan Barat             39.643679   11.962830       ID61     None   \n",
       "Kalimantan Selatan           26.450937    2.989879       ID63     None   \n",
       "Kalimantan Tengah            23.242003   12.531139       ID62     None   \n",
       "Kalimantan Timur             58.195163   10.260775       ID64     None   \n",
       "Kalimantan Utara             41.706376    5.692686       ID65     None   \n",
       "Kepulauan Bangka Belitung    20.100844    1.358492       ID19     None   \n",
       "Kepulauan Riau               66.524760    0.670682       ID21     None   \n",
       "Lampung                      15.093057    2.739782       ID18     None   \n",
       "Maluku                       89.991730    3.768729       ID81     None   \n",
       "Maluku Utara                 59.712820    2.560468       ID82     None   \n",
       "Nusa Tenggara Barat          26.916220    1.615713       ID52     None   \n",
       "Nusa Tenggara Timur          52.346415    3.822870       ID53     None   \n",
       "Papua                        63.862877   25.607715       ID94     None   \n",
       "Papua Barat                  74.474660    8.010799       ID91     None   \n",
       "Riau                         34.130199    7.297050       ID14     None   \n",
       "Sulawesi Barat               10.619764    1.347353       ID76     None   \n",
       "Sulawesi Selatan             30.279534    3.701920       ID73     None   \n",
       "Sulawesi Tengah              60.875536    4.971284       ID72     None   \n",
       "Sulawesi Tenggara            38.508145    2.979239       ID74     None   \n",
       "Sulawesi Utara               22.618672    1.180262       ID71     None   \n",
       "Sumatera Barat               27.734340    3.431119       ID13     None   \n",
       "Sumatera Selatan             20.464621    7.076179       ID16     None   \n",
       "Sumatera Utara               28.906909    5.880393       ID12     None   \n",
       "\n",
       "                           ADM1ALT1EN ADM1ALT2EN    ADM0_EN ADM0_PCODE  \\\n",
       "ADM1_EN                                                                  \n",
       "Aceh                             None       None  Indonesia         ID   \n",
       "Bali                             None       None  Indonesia         ID   \n",
       "Banten                           None       None  Indonesia         ID   \n",
       "Bengkulu                         None       None  Indonesia         ID   \n",
       "Daerah Istimewa Yogyakarta       None       None  Indonesia         ID   \n",
       "DKI Jakarta                      None       None  Indonesia         ID   \n",
       "Gorontalo                        None       None  Indonesia         ID   \n",
       "Jambi                            None       None  Indonesia         ID   \n",
       "Jawa Barat                       None       None  Indonesia         ID   \n",
       "Jawa Tengah                      None       None  Indonesia         ID   \n",
       "Jawa Timur                       None       None  Indonesia         ID   \n",
       "Kalimantan Barat                 None       None  Indonesia         ID   \n",
       "Kalimantan Selatan               None       None  Indonesia         ID   \n",
       "Kalimantan Tengah                None       None  Indonesia         ID   \n",
       "Kalimantan Timur                 None       None  Indonesia         ID   \n",
       "Kalimantan Utara                 None       None  Indonesia         ID   \n",
       "Kepulauan Bangka Belitung        None       None  Indonesia         ID   \n",
       "Kepulauan Riau                   None       None  Indonesia         ID   \n",
       "Lampung                          None       None  Indonesia         ID   \n",
       "Maluku                           None       None  Indonesia         ID   \n",
       "Maluku Utara                     None       None  Indonesia         ID   \n",
       "Nusa Tenggara Barat              None       None  Indonesia         ID   \n",
       "Nusa Tenggara Timur              None       None  Indonesia         ID   \n",
       "Papua                            None       None  Indonesia         ID   \n",
       "Papua Barat                      None       None  Indonesia         ID   \n",
       "Riau                             None       None  Indonesia         ID   \n",
       "Sulawesi Barat                   None       None  Indonesia         ID   \n",
       "Sulawesi Selatan                 None       None  Indonesia         ID   \n",
       "Sulawesi Tengah                  None       None  Indonesia         ID   \n",
       "Sulawesi Tenggara                None       None  Indonesia         ID   \n",
       "Sulawesi Utara                   None       None  Indonesia         ID   \n",
       "Sumatera Barat                   None       None  Indonesia         ID   \n",
       "Sumatera Selatan                 None       None  Indonesia         ID   \n",
       "Sumatera Utara                   None       None  Indonesia         ID   \n",
       "\n",
       "                                  date     validOn validTo  \\\n",
       "ADM1_EN                                                      \n",
       "Aceh                        2019-12-20  2020-04-01    None   \n",
       "Bali                        2019-12-20  2020-04-01    None   \n",
       "Banten                      2019-12-20  2020-04-01    None   \n",
       "Bengkulu                    2019-12-20  2020-04-01    None   \n",
       "Daerah Istimewa Yogyakarta  2019-12-20  2020-04-01    None   \n",
       "DKI Jakarta                 2019-12-20  2020-04-01    None   \n",
       "Gorontalo                   2019-12-20  2020-04-01    None   \n",
       "Jambi                       2019-12-20  2020-04-01    None   \n",
       "Jawa Barat                  2019-12-20  2020-04-01    None   \n",
       "Jawa Tengah                 2019-12-20  2020-04-01    None   \n",
       "Jawa Timur                  2019-12-20  2020-04-01    None   \n",
       "Kalimantan Barat            2019-12-20  2020-04-01    None   \n",
       "Kalimantan Selatan          2019-12-20  2020-04-01    None   \n",
       "Kalimantan Tengah           2019-12-20  2020-04-01    None   \n",
       "Kalimantan Timur            2019-12-20  2020-04-01    None   \n",
       "Kalimantan Utara            2019-12-20  2020-04-01    None   \n",
       "Kepulauan Bangka Belitung   2019-12-20  2020-04-01    None   \n",
       "Kepulauan Riau              2019-12-20  2020-04-01    None   \n",
       "Lampung                     2019-12-20  2020-04-01    None   \n",
       "Maluku                      2019-12-20  2020-04-01    None   \n",
       "Maluku Utara                2019-12-20  2020-04-01    None   \n",
       "Nusa Tenggara Barat         2019-12-20  2020-04-01    None   \n",
       "Nusa Tenggara Timur         2019-12-20  2020-04-01    None   \n",
       "Papua                       2019-12-20  2020-04-01    None   \n",
       "Papua Barat                 2019-12-20  2020-04-01    None   \n",
       "Riau                        2019-12-20  2020-04-01    None   \n",
       "Sulawesi Barat              2019-12-20  2020-04-01    None   \n",
       "Sulawesi Selatan            2019-12-20  2020-04-01    None   \n",
       "Sulawesi Tengah             2019-12-20  2020-04-01    None   \n",
       "Sulawesi Tenggara           2019-12-20  2020-04-01    None   \n",
       "Sulawesi Utara              2019-12-20  2020-04-01    None   \n",
       "Sumatera Barat              2019-12-20  2020-04-01    None   \n",
       "Sumatera Selatan            2019-12-20  2020-04-01    None   \n",
       "Sumatera Utara              2019-12-20  2020-04-01    None   \n",
       "\n",
       "                                                                     geometry  \\\n",
       "ADM1_EN                                                                         \n",
       "Aceh                        MULTIPOLYGON (((97.39178 2.03748, 97.39055 2.0...   \n",
       "Bali                        MULTIPOLYGON (((115.12509 -8.84761, 115.12499 ...   \n",
       "Banten                      MULTIPOLYGON (((105.54977 -6.99566, 105.55035 ...   \n",
       "Bengkulu                    MULTIPOLYGON (((102.38616 -5.47144, 102.38626 ...   \n",
       "Daerah Istimewa Yogyakarta  MULTIPOLYGON (((110.81980 -8.20358, 110.81951 ...   \n",
       "DKI Jakarta                 MULTIPOLYGON (((106.87677 -6.10030, 106.87596 ...   \n",
       "Gorontalo                   MULTIPOLYGON (((121.42536 0.41243, 121.42355 0...   \n",
       "Jambi                       MULTIPOLYGON (((104.40714 -0.86371, 104.40590 ...   \n",
       "Jawa Barat                  MULTIPOLYGON (((108.68501 -6.76990, 108.68411 ...   \n",
       "Jawa Tengah                 MULTIPOLYGON (((108.88353 -7.74846, 108.88322 ...   \n",
       "Jawa Timur                  MULTIPOLYGON (((114.20384 -8.65725, 114.20366 ...   \n",
       "Kalimantan Barat            MULTIPOLYGON (((110.20398 -3.06463, 110.20430 ...   \n",
       "Kalimantan Selatan          MULTIPOLYGON (((115.66725 -4.74446, 115.66569 ...   \n",
       "Kalimantan Tengah           MULTIPOLYGON (((114.25716 -3.38189, 114.25671 ...   \n",
       "Kalimantan Timur            MULTIPOLYGON (((116.46151 -2.19154, 116.42979 ...   \n",
       "Kalimantan Utara            MULTIPOLYGON (((117.62917 2.79781, 117.62802 2...   \n",
       "Kepulauan Bangka Belitung   MULTIPOLYGON (((107.96210 -3.41137, 107.96256 ...   \n",
       "Kepulauan Riau              MULTIPOLYGON (((105.25355 -1.29511, 105.25032 ...   \n",
       "Lampung                     MULTIPOLYGON (((105.44887 -6.13655, 105.45027 ...   \n",
       "Maluku                      MULTIPOLYGON (((128.50938 -8.34280, 128.50867 ...   \n",
       "Maluku Utara                MULTIPOLYGON (((124.44805 -2.04014, 124.44803 ...   \n",
       "Nusa Tenggara Barat         MULTIPOLYGON (((117.05418 -9.10635, 117.05385 ...   \n",
       "Nusa Tenggara Timur         MULTIPOLYGON (((122.87141 -10.96885, 122.87312...   \n",
       "Papua                       MULTIPOLYGON (((138.96527 -8.35751, 138.96550 ...   \n",
       "Papua Barat                 MULTIPOLYGON (((132.90897 -4.12916, 132.90770 ...   \n",
       "Riau                        MULTIPOLYGON (((103.34186 -0.64204, 103.34394 ...   \n",
       "Sulawesi Barat              MULTIPOLYGON (((119.35889 -3.48627, 119.35875 ...   \n",
       "Sulawesi Selatan            MULTIPOLYGON (((117.20354 -7.75841, 117.20369 ...   \n",
       "Sulawesi Tengah             MULTIPOLYGON (((123.15749 -3.55724, 123.15815 ...   \n",
       "Sulawesi Tenggara           MULTIPOLYGON (((122.69036 -6.18312, 122.69030 ...   \n",
       "Sulawesi Utara              MULTIPOLYGON (((124.35424 0.41820, 124.35418 0...   \n",
       "Sumatera Barat              MULTIPOLYGON (((101.03528 -4.01625, 101.03507 ...   \n",
       "Sumatera Selatan            MULTIPOLYGON (((106.16452 -3.29644, 106.16544 ...   \n",
       "Sumatera Utara              MULTIPOLYGON (((98.50178 -0.59472, 98.50178 -0...   \n",
       "\n",
       "                            fid  kodeProvi  kasusPosi  kasusSemb  kasusMeni  \n",
       "ADM1_EN                                                                      \n",
       "Aceh                          1         11       3982       1889        147  \n",
       "Bali                         17         51       8389       6828        245  \n",
       "Banten                       16         36       5050       3218        162  \n",
       "Bengkulu                      7         17        590        379         32  \n",
       "Daerah Istimewa Yogyakarta   14         34       2458       1677         64  \n",
       "DKI Jakarta                  11         31      67902      54268       1661  \n",
       "Gorontalo                    29         75       2534       2199         75  \n",
       "Jambi                         5         15        409        263          8  \n",
       "Jawa Barat                   12         32      20131      12022        368  \n",
       "Jawa Tengah                  13         33      21004      15043       1372  \n",
       "Jawa Timur                   15         35      42391      35205       3084  \n",
       "Kalimantan Barat             20         61        935        769          8  \n",
       "Kalimantan Selatan           22         63      10080       8503        410  \n",
       "Kalimantan Tengah            21         62       3474       2636        130  \n",
       "Kalimantan Timur             23         64       7851       5080        294  \n",
       "Kalimantan Utara             24         65        556        448          4  \n",
       "Kepulauan Bangka Belitung     8         19        191        173          2  \n",
       "Kepulauan Riau               10         21       2022       1227         56  \n",
       "Lampung                       9         18        814        519         30  \n",
       "Maluku                       31         81       2654       1687         40  \n",
       "Maluku Utara                 32         82       2045       1799         74  \n",
       "Nusa Tenggara Barat          18         52       3218       2536        192  \n",
       "Nusa Tenggara Timur          19         53        388        240          6  \n",
       "Papua                        33         94       5763       3688         80  \n",
       "Papua Barat                  34         91       1820       1039         29  \n",
       "Riau                          4         14       6315       2941        131  \n",
       "Sulawesi Barat               30         76        567        407         11  \n",
       "Sulawesi Selatan             27         73      14982      10961        406  \n",
       "Sulawesi Tengah              26         72        354        243         15  \n",
       "Sulawesi Tenggara            28         74       2501       1779         53  \n",
       "Sulawesi Utara               25         71       4390       3463        172  \n",
       "Sumatera Barat                3         13       5363       2724        104  \n",
       "Sumatera Selatan              6         16       5734       4132        336  \n",
       "Sumatera Utara                2         12       9843       6107        415  "
      ]
     },
     "execution_count": 75,
     "metadata": {},
     "output_type": "execute_result"
    }
   ],
   "source": [
    "merged = map_df.set_index('ADM1_EN').join(df_provinsi.set_index('provinsi'))\n",
    "merged"
   ]
  },
  {
   "cell_type": "markdown",
   "metadata": {},
   "source": [
    "## Analisis"
   ]
  },
  {
   "cell_type": "markdown",
   "metadata": {},
   "source": [
    "#### Provinsi dengan Kasus positif paling tinggi"
   ]
  },
  {
   "cell_type": "code",
   "execution_count": 105,
   "metadata": {},
   "outputs": [
    {
     "data": {
      "application/vnd.plotly.v1+json": {
       "config": {
        "plotlyServerURL": "https://plot.ly"
       },
       "data": [
        {
         "alignmentgroup": "True",
         "hovertemplate": "<b>%{hovertext}</b><br><br>ADM1_EN=%{x}<br>kasusPosi=%{text}<extra></extra>",
         "hovertext": [
          "DKI Jakarta",
          "Jawa Timur",
          "Jawa Tengah",
          "Jawa Barat",
          "Sulawesi Selatan",
          "Kalimantan Selatan",
          "Sumatera Utara",
          "Bali",
          "Kalimantan Timur",
          "Riau",
          "Papua",
          "Sumatera Selatan",
          "Sumatera Barat",
          "Banten",
          "Sulawesi Utara",
          "Aceh",
          "Kalimantan Tengah",
          "Nusa Tenggara Barat",
          "Maluku",
          "Gorontalo",
          "Sulawesi Tenggara",
          "Daerah Istimewa Yogyakarta",
          "Maluku Utara",
          "Kepulauan Riau",
          "Papua Barat",
          "Kalimantan Barat",
          "Lampung",
          "Bengkulu",
          "Sulawesi Barat",
          "Kalimantan Utara",
          "Jambi",
          "Nusa Tenggara Timur",
          "Sulawesi Tengah",
          "Kepulauan Bangka Belitung"
         ],
         "legendgroup": "",
         "marker": {
          "color": "#636efa"
         },
         "name": "",
         "offsetgroup": "",
         "orientation": "v",
         "showlegend": false,
         "text": [
          67902,
          42391,
          21004,
          20131,
          14982,
          10080,
          9843,
          8389,
          7851,
          6315,
          5763,
          5734,
          5363,
          5050,
          4390,
          3982,
          3474,
          3218,
          2654,
          2534,
          2501,
          2458,
          2045,
          2022,
          1820,
          935,
          814,
          590,
          567,
          556,
          409,
          388,
          354,
          191
         ],
         "textposition": "outside",
         "texttemplate": "%{text:}",
         "type": "bar",
         "x": [
          "DKI Jakarta",
          "Jawa Timur",
          "Jawa Tengah",
          "Jawa Barat",
          "Sulawesi Selatan",
          "Kalimantan Selatan",
          "Sumatera Utara",
          "Bali",
          "Kalimantan Timur",
          "Riau",
          "Papua",
          "Sumatera Selatan",
          "Sumatera Barat",
          "Banten",
          "Sulawesi Utara",
          "Aceh",
          "Kalimantan Tengah",
          "Nusa Tenggara Barat",
          "Maluku",
          "Gorontalo",
          "Sulawesi Tenggara",
          "Daerah Istimewa Yogyakarta",
          "Maluku Utara",
          "Kepulauan Riau",
          "Papua Barat",
          "Kalimantan Barat",
          "Lampung",
          "Bengkulu",
          "Sulawesi Barat",
          "Kalimantan Utara",
          "Jambi",
          "Nusa Tenggara Timur",
          "Sulawesi Tengah",
          "Kepulauan Bangka Belitung"
         ],
         "xaxis": "x",
         "y": [
          67902,
          42391,
          21004,
          20131,
          14982,
          10080,
          9843,
          8389,
          7851,
          6315,
          5763,
          5734,
          5363,
          5050,
          4390,
          3982,
          3474,
          3218,
          2654,
          2534,
          2501,
          2458,
          2045,
          2022,
          1820,
          935,
          814,
          590,
          567,
          556,
          409,
          388,
          354,
          191
         ],
         "yaxis": "y"
        }
       ],
       "layout": {
        "barmode": "relative",
        "height": 750,
        "legend": {
         "tracegroupgap": 0
        },
        "margin": {
         "t": 60
        },
        "template": {
         "data": {
          "bar": [
           {
            "error_x": {
             "color": "#2a3f5f"
            },
            "error_y": {
             "color": "#2a3f5f"
            },
            "marker": {
             "line": {
              "color": "#E5ECF6",
              "width": 0.5
             }
            },
            "type": "bar"
           }
          ],
          "barpolar": [
           {
            "marker": {
             "line": {
              "color": "#E5ECF6",
              "width": 0.5
             }
            },
            "type": "barpolar"
           }
          ],
          "carpet": [
           {
            "aaxis": {
             "endlinecolor": "#2a3f5f",
             "gridcolor": "white",
             "linecolor": "white",
             "minorgridcolor": "white",
             "startlinecolor": "#2a3f5f"
            },
            "baxis": {
             "endlinecolor": "#2a3f5f",
             "gridcolor": "white",
             "linecolor": "white",
             "minorgridcolor": "white",
             "startlinecolor": "#2a3f5f"
            },
            "type": "carpet"
           }
          ],
          "choropleth": [
           {
            "colorbar": {
             "outlinewidth": 0,
             "ticks": ""
            },
            "type": "choropleth"
           }
          ],
          "contour": [
           {
            "colorbar": {
             "outlinewidth": 0,
             "ticks": ""
            },
            "colorscale": [
             [
              0,
              "#0d0887"
             ],
             [
              0.1111111111111111,
              "#46039f"
             ],
             [
              0.2222222222222222,
              "#7201a8"
             ],
             [
              0.3333333333333333,
              "#9c179e"
             ],
             [
              0.4444444444444444,
              "#bd3786"
             ],
             [
              0.5555555555555556,
              "#d8576b"
             ],
             [
              0.6666666666666666,
              "#ed7953"
             ],
             [
              0.7777777777777778,
              "#fb9f3a"
             ],
             [
              0.8888888888888888,
              "#fdca26"
             ],
             [
              1,
              "#f0f921"
             ]
            ],
            "type": "contour"
           }
          ],
          "contourcarpet": [
           {
            "colorbar": {
             "outlinewidth": 0,
             "ticks": ""
            },
            "type": "contourcarpet"
           }
          ],
          "heatmap": [
           {
            "colorbar": {
             "outlinewidth": 0,
             "ticks": ""
            },
            "colorscale": [
             [
              0,
              "#0d0887"
             ],
             [
              0.1111111111111111,
              "#46039f"
             ],
             [
              0.2222222222222222,
              "#7201a8"
             ],
             [
              0.3333333333333333,
              "#9c179e"
             ],
             [
              0.4444444444444444,
              "#bd3786"
             ],
             [
              0.5555555555555556,
              "#d8576b"
             ],
             [
              0.6666666666666666,
              "#ed7953"
             ],
             [
              0.7777777777777778,
              "#fb9f3a"
             ],
             [
              0.8888888888888888,
              "#fdca26"
             ],
             [
              1,
              "#f0f921"
             ]
            ],
            "type": "heatmap"
           }
          ],
          "heatmapgl": [
           {
            "colorbar": {
             "outlinewidth": 0,
             "ticks": ""
            },
            "colorscale": [
             [
              0,
              "#0d0887"
             ],
             [
              0.1111111111111111,
              "#46039f"
             ],
             [
              0.2222222222222222,
              "#7201a8"
             ],
             [
              0.3333333333333333,
              "#9c179e"
             ],
             [
              0.4444444444444444,
              "#bd3786"
             ],
             [
              0.5555555555555556,
              "#d8576b"
             ],
             [
              0.6666666666666666,
              "#ed7953"
             ],
             [
              0.7777777777777778,
              "#fb9f3a"
             ],
             [
              0.8888888888888888,
              "#fdca26"
             ],
             [
              1,
              "#f0f921"
             ]
            ],
            "type": "heatmapgl"
           }
          ],
          "histogram": [
           {
            "marker": {
             "colorbar": {
              "outlinewidth": 0,
              "ticks": ""
             }
            },
            "type": "histogram"
           }
          ],
          "histogram2d": [
           {
            "colorbar": {
             "outlinewidth": 0,
             "ticks": ""
            },
            "colorscale": [
             [
              0,
              "#0d0887"
             ],
             [
              0.1111111111111111,
              "#46039f"
             ],
             [
              0.2222222222222222,
              "#7201a8"
             ],
             [
              0.3333333333333333,
              "#9c179e"
             ],
             [
              0.4444444444444444,
              "#bd3786"
             ],
             [
              0.5555555555555556,
              "#d8576b"
             ],
             [
              0.6666666666666666,
              "#ed7953"
             ],
             [
              0.7777777777777778,
              "#fb9f3a"
             ],
             [
              0.8888888888888888,
              "#fdca26"
             ],
             [
              1,
              "#f0f921"
             ]
            ],
            "type": "histogram2d"
           }
          ],
          "histogram2dcontour": [
           {
            "colorbar": {
             "outlinewidth": 0,
             "ticks": ""
            },
            "colorscale": [
             [
              0,
              "#0d0887"
             ],
             [
              0.1111111111111111,
              "#46039f"
             ],
             [
              0.2222222222222222,
              "#7201a8"
             ],
             [
              0.3333333333333333,
              "#9c179e"
             ],
             [
              0.4444444444444444,
              "#bd3786"
             ],
             [
              0.5555555555555556,
              "#d8576b"
             ],
             [
              0.6666666666666666,
              "#ed7953"
             ],
             [
              0.7777777777777778,
              "#fb9f3a"
             ],
             [
              0.8888888888888888,
              "#fdca26"
             ],
             [
              1,
              "#f0f921"
             ]
            ],
            "type": "histogram2dcontour"
           }
          ],
          "mesh3d": [
           {
            "colorbar": {
             "outlinewidth": 0,
             "ticks": ""
            },
            "type": "mesh3d"
           }
          ],
          "parcoords": [
           {
            "line": {
             "colorbar": {
              "outlinewidth": 0,
              "ticks": ""
             }
            },
            "type": "parcoords"
           }
          ],
          "pie": [
           {
            "automargin": true,
            "type": "pie"
           }
          ],
          "scatter": [
           {
            "marker": {
             "colorbar": {
              "outlinewidth": 0,
              "ticks": ""
             }
            },
            "type": "scatter"
           }
          ],
          "scatter3d": [
           {
            "line": {
             "colorbar": {
              "outlinewidth": 0,
              "ticks": ""
             }
            },
            "marker": {
             "colorbar": {
              "outlinewidth": 0,
              "ticks": ""
             }
            },
            "type": "scatter3d"
           }
          ],
          "scattercarpet": [
           {
            "marker": {
             "colorbar": {
              "outlinewidth": 0,
              "ticks": ""
             }
            },
            "type": "scattercarpet"
           }
          ],
          "scattergeo": [
           {
            "marker": {
             "colorbar": {
              "outlinewidth": 0,
              "ticks": ""
             }
            },
            "type": "scattergeo"
           }
          ],
          "scattergl": [
           {
            "marker": {
             "colorbar": {
              "outlinewidth": 0,
              "ticks": ""
             }
            },
            "type": "scattergl"
           }
          ],
          "scattermapbox": [
           {
            "marker": {
             "colorbar": {
              "outlinewidth": 0,
              "ticks": ""
             }
            },
            "type": "scattermapbox"
           }
          ],
          "scatterpolar": [
           {
            "marker": {
             "colorbar": {
              "outlinewidth": 0,
              "ticks": ""
             }
            },
            "type": "scatterpolar"
           }
          ],
          "scatterpolargl": [
           {
            "marker": {
             "colorbar": {
              "outlinewidth": 0,
              "ticks": ""
             }
            },
            "type": "scatterpolargl"
           }
          ],
          "scatterternary": [
           {
            "marker": {
             "colorbar": {
              "outlinewidth": 0,
              "ticks": ""
             }
            },
            "type": "scatterternary"
           }
          ],
          "surface": [
           {
            "colorbar": {
             "outlinewidth": 0,
             "ticks": ""
            },
            "colorscale": [
             [
              0,
              "#0d0887"
             ],
             [
              0.1111111111111111,
              "#46039f"
             ],
             [
              0.2222222222222222,
              "#7201a8"
             ],
             [
              0.3333333333333333,
              "#9c179e"
             ],
             [
              0.4444444444444444,
              "#bd3786"
             ],
             [
              0.5555555555555556,
              "#d8576b"
             ],
             [
              0.6666666666666666,
              "#ed7953"
             ],
             [
              0.7777777777777778,
              "#fb9f3a"
             ],
             [
              0.8888888888888888,
              "#fdca26"
             ],
             [
              1,
              "#f0f921"
             ]
            ],
            "type": "surface"
           }
          ],
          "table": [
           {
            "cells": {
             "fill": {
              "color": "#EBF0F8"
             },
             "line": {
              "color": "white"
             }
            },
            "header": {
             "fill": {
              "color": "#C8D4E3"
             },
             "line": {
              "color": "white"
             }
            },
            "type": "table"
           }
          ]
         },
         "layout": {
          "annotationdefaults": {
           "arrowcolor": "#2a3f5f",
           "arrowhead": 0,
           "arrowwidth": 1
          },
          "coloraxis": {
           "colorbar": {
            "outlinewidth": 0,
            "ticks": ""
           }
          },
          "colorscale": {
           "diverging": [
            [
             0,
             "#8e0152"
            ],
            [
             0.1,
             "#c51b7d"
            ],
            [
             0.2,
             "#de77ae"
            ],
            [
             0.3,
             "#f1b6da"
            ],
            [
             0.4,
             "#fde0ef"
            ],
            [
             0.5,
             "#f7f7f7"
            ],
            [
             0.6,
             "#e6f5d0"
            ],
            [
             0.7,
             "#b8e186"
            ],
            [
             0.8,
             "#7fbc41"
            ],
            [
             0.9,
             "#4d9221"
            ],
            [
             1,
             "#276419"
            ]
           ],
           "sequential": [
            [
             0,
             "#0d0887"
            ],
            [
             0.1111111111111111,
             "#46039f"
            ],
            [
             0.2222222222222222,
             "#7201a8"
            ],
            [
             0.3333333333333333,
             "#9c179e"
            ],
            [
             0.4444444444444444,
             "#bd3786"
            ],
            [
             0.5555555555555556,
             "#d8576b"
            ],
            [
             0.6666666666666666,
             "#ed7953"
            ],
            [
             0.7777777777777778,
             "#fb9f3a"
            ],
            [
             0.8888888888888888,
             "#fdca26"
            ],
            [
             1,
             "#f0f921"
            ]
           ],
           "sequentialminus": [
            [
             0,
             "#0d0887"
            ],
            [
             0.1111111111111111,
             "#46039f"
            ],
            [
             0.2222222222222222,
             "#7201a8"
            ],
            [
             0.3333333333333333,
             "#9c179e"
            ],
            [
             0.4444444444444444,
             "#bd3786"
            ],
            [
             0.5555555555555556,
             "#d8576b"
            ],
            [
             0.6666666666666666,
             "#ed7953"
            ],
            [
             0.7777777777777778,
             "#fb9f3a"
            ],
            [
             0.8888888888888888,
             "#fdca26"
            ],
            [
             1,
             "#f0f921"
            ]
           ]
          },
          "colorway": [
           "#636efa",
           "#EF553B",
           "#00cc96",
           "#ab63fa",
           "#FFA15A",
           "#19d3f3",
           "#FF6692",
           "#B6E880",
           "#FF97FF",
           "#FECB52"
          ],
          "font": {
           "color": "#2a3f5f"
          },
          "geo": {
           "bgcolor": "white",
           "lakecolor": "white",
           "landcolor": "#E5ECF6",
           "showlakes": true,
           "showland": true,
           "subunitcolor": "white"
          },
          "hoverlabel": {
           "align": "left"
          },
          "hovermode": "closest",
          "mapbox": {
           "style": "light"
          },
          "paper_bgcolor": "white",
          "plot_bgcolor": "#E5ECF6",
          "polar": {
           "angularaxis": {
            "gridcolor": "white",
            "linecolor": "white",
            "ticks": ""
           },
           "bgcolor": "#E5ECF6",
           "radialaxis": {
            "gridcolor": "white",
            "linecolor": "white",
            "ticks": ""
           }
          },
          "scene": {
           "xaxis": {
            "backgroundcolor": "#E5ECF6",
            "gridcolor": "white",
            "gridwidth": 2,
            "linecolor": "white",
            "showbackground": true,
            "ticks": "",
            "zerolinecolor": "white"
           },
           "yaxis": {
            "backgroundcolor": "#E5ECF6",
            "gridcolor": "white",
            "gridwidth": 2,
            "linecolor": "white",
            "showbackground": true,
            "ticks": "",
            "zerolinecolor": "white"
           },
           "zaxis": {
            "backgroundcolor": "#E5ECF6",
            "gridcolor": "white",
            "gridwidth": 2,
            "linecolor": "white",
            "showbackground": true,
            "ticks": "",
            "zerolinecolor": "white"
           }
          },
          "shapedefaults": {
           "line": {
            "color": "#2a3f5f"
           }
          },
          "ternary": {
           "aaxis": {
            "gridcolor": "white",
            "linecolor": "white",
            "ticks": ""
           },
           "baxis": {
            "gridcolor": "white",
            "linecolor": "white",
            "ticks": ""
           },
           "bgcolor": "#E5ECF6",
           "caxis": {
            "gridcolor": "white",
            "linecolor": "white",
            "ticks": ""
           }
          },
          "title": {
           "x": 0.05
          },
          "xaxis": {
           "automargin": true,
           "gridcolor": "white",
           "linecolor": "white",
           "ticks": "",
           "title": {
            "standoff": 15
           },
           "zerolinecolor": "white",
           "zerolinewidth": 2
          },
          "yaxis": {
           "automargin": true,
           "gridcolor": "white",
           "linecolor": "white",
           "ticks": "",
           "title": {
            "standoff": 15
           },
           "zerolinecolor": "white",
           "zerolinewidth": 2
          }
         }
        },
        "uniformtext": {
         "minsize": 4,
         "mode": "show"
        },
        "width": 1000,
        "xaxis": {
         "anchor": "y",
         "domain": [
          0,
          1
         ],
         "title": {
          "text": "Provinsi"
         }
        },
        "yaxis": {
         "anchor": "x",
         "domain": [
          0,
          1
         ],
         "title": {
          "text": "Jumlah kasus positif"
         }
        }
       }
      },
      "text/html": [
       "<div>\n",
       "        \n",
       "        \n",
       "            <div id=\"a3e48d76-7256-4546-97e5-ad7caa5816f4\" class=\"plotly-graph-div\" style=\"height:750px; width:1000px;\"></div>\n",
       "            <script type=\"text/javascript\">\n",
       "                require([\"plotly\"], function(Plotly) {\n",
       "                    window.PLOTLYENV=window.PLOTLYENV || {};\n",
       "                    \n",
       "                if (document.getElementById(\"a3e48d76-7256-4546-97e5-ad7caa5816f4\")) {\n",
       "                    Plotly.newPlot(\n",
       "                        'a3e48d76-7256-4546-97e5-ad7caa5816f4',\n",
       "                        [{\"alignmentgroup\": \"True\", \"hovertemplate\": \"<b>%{hovertext}</b><br><br>ADM1_EN=%{x}<br>kasusPosi=%{text}<extra></extra>\", \"hovertext\": [\"DKI Jakarta\", \"Jawa Timur\", \"Jawa Tengah\", \"Jawa Barat\", \"Sulawesi Selatan\", \"Kalimantan Selatan\", \"Sumatera Utara\", \"Bali\", \"Kalimantan Timur\", \"Riau\", \"Papua\", \"Sumatera Selatan\", \"Sumatera Barat\", \"Banten\", \"Sulawesi Utara\", \"Aceh\", \"Kalimantan Tengah\", \"Nusa Tenggara Barat\", \"Maluku\", \"Gorontalo\", \"Sulawesi Tenggara\", \"Daerah Istimewa Yogyakarta\", \"Maluku Utara\", \"Kepulauan Riau\", \"Papua Barat\", \"Kalimantan Barat\", \"Lampung\", \"Bengkulu\", \"Sulawesi Barat\", \"Kalimantan Utara\", \"Jambi\", \"Nusa Tenggara Timur\", \"Sulawesi Tengah\", \"Kepulauan Bangka Belitung\"], \"legendgroup\": \"\", \"marker\": {\"color\": \"#636efa\"}, \"name\": \"\", \"offsetgroup\": \"\", \"orientation\": \"v\", \"showlegend\": false, \"text\": [67902.0, 42391.0, 21004.0, 20131.0, 14982.0, 10080.0, 9843.0, 8389.0, 7851.0, 6315.0, 5763.0, 5734.0, 5363.0, 5050.0, 4390.0, 3982.0, 3474.0, 3218.0, 2654.0, 2534.0, 2501.0, 2458.0, 2045.0, 2022.0, 1820.0, 935.0, 814.0, 590.0, 567.0, 556.0, 409.0, 388.0, 354.0, 191.0], \"textposition\": \"outside\", \"texttemplate\": \"%{text:}\", \"type\": \"bar\", \"x\": [\"DKI Jakarta\", \"Jawa Timur\", \"Jawa Tengah\", \"Jawa Barat\", \"Sulawesi Selatan\", \"Kalimantan Selatan\", \"Sumatera Utara\", \"Bali\", \"Kalimantan Timur\", \"Riau\", \"Papua\", \"Sumatera Selatan\", \"Sumatera Barat\", \"Banten\", \"Sulawesi Utara\", \"Aceh\", \"Kalimantan Tengah\", \"Nusa Tenggara Barat\", \"Maluku\", \"Gorontalo\", \"Sulawesi Tenggara\", \"Daerah Istimewa Yogyakarta\", \"Maluku Utara\", \"Kepulauan Riau\", \"Papua Barat\", \"Kalimantan Barat\", \"Lampung\", \"Bengkulu\", \"Sulawesi Barat\", \"Kalimantan Utara\", \"Jambi\", \"Nusa Tenggara Timur\", \"Sulawesi Tengah\", \"Kepulauan Bangka Belitung\"], \"xaxis\": \"x\", \"y\": [67902, 42391, 21004, 20131, 14982, 10080, 9843, 8389, 7851, 6315, 5763, 5734, 5363, 5050, 4390, 3982, 3474, 3218, 2654, 2534, 2501, 2458, 2045, 2022, 1820, 935, 814, 590, 567, 556, 409, 388, 354, 191], \"yaxis\": \"y\"}],\n",
       "                        {\"barmode\": \"relative\", \"height\": 750, \"legend\": {\"tracegroupgap\": 0}, \"margin\": {\"t\": 60}, \"template\": {\"data\": {\"bar\": [{\"error_x\": {\"color\": \"#2a3f5f\"}, \"error_y\": {\"color\": \"#2a3f5f\"}, \"marker\": {\"line\": {\"color\": \"#E5ECF6\", \"width\": 0.5}}, \"type\": \"bar\"}], \"barpolar\": [{\"marker\": {\"line\": {\"color\": \"#E5ECF6\", \"width\": 0.5}}, \"type\": \"barpolar\"}], \"carpet\": [{\"aaxis\": {\"endlinecolor\": \"#2a3f5f\", \"gridcolor\": \"white\", \"linecolor\": \"white\", \"minorgridcolor\": \"white\", \"startlinecolor\": \"#2a3f5f\"}, \"baxis\": {\"endlinecolor\": \"#2a3f5f\", \"gridcolor\": \"white\", \"linecolor\": \"white\", \"minorgridcolor\": \"white\", \"startlinecolor\": \"#2a3f5f\"}, \"type\": \"carpet\"}], \"choropleth\": [{\"colorbar\": {\"outlinewidth\": 0, \"ticks\": \"\"}, \"type\": \"choropleth\"}], \"contour\": [{\"colorbar\": {\"outlinewidth\": 0, \"ticks\": \"\"}, \"colorscale\": [[0.0, \"#0d0887\"], [0.1111111111111111, \"#46039f\"], [0.2222222222222222, \"#7201a8\"], [0.3333333333333333, \"#9c179e\"], [0.4444444444444444, \"#bd3786\"], [0.5555555555555556, \"#d8576b\"], [0.6666666666666666, \"#ed7953\"], [0.7777777777777778, \"#fb9f3a\"], [0.8888888888888888, \"#fdca26\"], [1.0, \"#f0f921\"]], \"type\": \"contour\"}], \"contourcarpet\": [{\"colorbar\": {\"outlinewidth\": 0, \"ticks\": \"\"}, \"type\": \"contourcarpet\"}], \"heatmap\": [{\"colorbar\": {\"outlinewidth\": 0, \"ticks\": \"\"}, \"colorscale\": [[0.0, \"#0d0887\"], [0.1111111111111111, \"#46039f\"], [0.2222222222222222, \"#7201a8\"], [0.3333333333333333, \"#9c179e\"], [0.4444444444444444, \"#bd3786\"], [0.5555555555555556, \"#d8576b\"], [0.6666666666666666, \"#ed7953\"], [0.7777777777777778, \"#fb9f3a\"], [0.8888888888888888, \"#fdca26\"], [1.0, \"#f0f921\"]], \"type\": \"heatmap\"}], \"heatmapgl\": [{\"colorbar\": {\"outlinewidth\": 0, \"ticks\": \"\"}, \"colorscale\": [[0.0, \"#0d0887\"], [0.1111111111111111, \"#46039f\"], [0.2222222222222222, \"#7201a8\"], [0.3333333333333333, \"#9c179e\"], [0.4444444444444444, \"#bd3786\"], [0.5555555555555556, \"#d8576b\"], [0.6666666666666666, \"#ed7953\"], [0.7777777777777778, \"#fb9f3a\"], [0.8888888888888888, \"#fdca26\"], [1.0, \"#f0f921\"]], \"type\": \"heatmapgl\"}], \"histogram\": [{\"marker\": {\"colorbar\": {\"outlinewidth\": 0, \"ticks\": \"\"}}, \"type\": \"histogram\"}], \"histogram2d\": [{\"colorbar\": {\"outlinewidth\": 0, \"ticks\": \"\"}, \"colorscale\": [[0.0, \"#0d0887\"], [0.1111111111111111, \"#46039f\"], [0.2222222222222222, \"#7201a8\"], [0.3333333333333333, \"#9c179e\"], [0.4444444444444444, \"#bd3786\"], [0.5555555555555556, \"#d8576b\"], [0.6666666666666666, \"#ed7953\"], [0.7777777777777778, \"#fb9f3a\"], [0.8888888888888888, \"#fdca26\"], [1.0, \"#f0f921\"]], \"type\": \"histogram2d\"}], \"histogram2dcontour\": [{\"colorbar\": {\"outlinewidth\": 0, \"ticks\": \"\"}, \"colorscale\": [[0.0, \"#0d0887\"], [0.1111111111111111, \"#46039f\"], [0.2222222222222222, \"#7201a8\"], [0.3333333333333333, \"#9c179e\"], [0.4444444444444444, \"#bd3786\"], [0.5555555555555556, \"#d8576b\"], [0.6666666666666666, \"#ed7953\"], [0.7777777777777778, \"#fb9f3a\"], [0.8888888888888888, \"#fdca26\"], [1.0, \"#f0f921\"]], \"type\": \"histogram2dcontour\"}], \"mesh3d\": [{\"colorbar\": {\"outlinewidth\": 0, \"ticks\": \"\"}, \"type\": \"mesh3d\"}], \"parcoords\": [{\"line\": {\"colorbar\": {\"outlinewidth\": 0, \"ticks\": \"\"}}, \"type\": \"parcoords\"}], \"pie\": [{\"automargin\": true, \"type\": \"pie\"}], \"scatter\": [{\"marker\": {\"colorbar\": {\"outlinewidth\": 0, \"ticks\": \"\"}}, \"type\": \"scatter\"}], \"scatter3d\": [{\"line\": {\"colorbar\": {\"outlinewidth\": 0, \"ticks\": \"\"}}, \"marker\": {\"colorbar\": {\"outlinewidth\": 0, \"ticks\": \"\"}}, \"type\": \"scatter3d\"}], \"scattercarpet\": [{\"marker\": {\"colorbar\": {\"outlinewidth\": 0, \"ticks\": \"\"}}, \"type\": \"scattercarpet\"}], \"scattergeo\": [{\"marker\": {\"colorbar\": {\"outlinewidth\": 0, \"ticks\": \"\"}}, \"type\": \"scattergeo\"}], \"scattergl\": [{\"marker\": {\"colorbar\": {\"outlinewidth\": 0, \"ticks\": \"\"}}, \"type\": \"scattergl\"}], \"scattermapbox\": [{\"marker\": {\"colorbar\": {\"outlinewidth\": 0, \"ticks\": \"\"}}, \"type\": \"scattermapbox\"}], \"scatterpolar\": [{\"marker\": {\"colorbar\": {\"outlinewidth\": 0, \"ticks\": \"\"}}, \"type\": \"scatterpolar\"}], \"scatterpolargl\": [{\"marker\": {\"colorbar\": {\"outlinewidth\": 0, \"ticks\": \"\"}}, \"type\": \"scatterpolargl\"}], \"scatterternary\": [{\"marker\": {\"colorbar\": {\"outlinewidth\": 0, \"ticks\": \"\"}}, \"type\": \"scatterternary\"}], \"surface\": [{\"colorbar\": {\"outlinewidth\": 0, \"ticks\": \"\"}, \"colorscale\": [[0.0, \"#0d0887\"], [0.1111111111111111, \"#46039f\"], [0.2222222222222222, \"#7201a8\"], [0.3333333333333333, \"#9c179e\"], [0.4444444444444444, \"#bd3786\"], [0.5555555555555556, \"#d8576b\"], [0.6666666666666666, \"#ed7953\"], [0.7777777777777778, \"#fb9f3a\"], [0.8888888888888888, \"#fdca26\"], [1.0, \"#f0f921\"]], \"type\": \"surface\"}], \"table\": [{\"cells\": {\"fill\": {\"color\": \"#EBF0F8\"}, \"line\": {\"color\": \"white\"}}, \"header\": {\"fill\": {\"color\": \"#C8D4E3\"}, \"line\": {\"color\": \"white\"}}, \"type\": \"table\"}]}, \"layout\": {\"annotationdefaults\": {\"arrowcolor\": \"#2a3f5f\", \"arrowhead\": 0, \"arrowwidth\": 1}, \"coloraxis\": {\"colorbar\": {\"outlinewidth\": 0, \"ticks\": \"\"}}, \"colorscale\": {\"diverging\": [[0, \"#8e0152\"], [0.1, \"#c51b7d\"], [0.2, \"#de77ae\"], [0.3, \"#f1b6da\"], [0.4, \"#fde0ef\"], [0.5, \"#f7f7f7\"], [0.6, \"#e6f5d0\"], [0.7, \"#b8e186\"], [0.8, \"#7fbc41\"], [0.9, \"#4d9221\"], [1, \"#276419\"]], \"sequential\": [[0.0, \"#0d0887\"], [0.1111111111111111, \"#46039f\"], [0.2222222222222222, \"#7201a8\"], [0.3333333333333333, \"#9c179e\"], [0.4444444444444444, \"#bd3786\"], [0.5555555555555556, \"#d8576b\"], [0.6666666666666666, \"#ed7953\"], [0.7777777777777778, \"#fb9f3a\"], [0.8888888888888888, \"#fdca26\"], [1.0, \"#f0f921\"]], \"sequentialminus\": [[0.0, \"#0d0887\"], [0.1111111111111111, \"#46039f\"], [0.2222222222222222, \"#7201a8\"], [0.3333333333333333, \"#9c179e\"], [0.4444444444444444, \"#bd3786\"], [0.5555555555555556, \"#d8576b\"], [0.6666666666666666, \"#ed7953\"], [0.7777777777777778, \"#fb9f3a\"], [0.8888888888888888, \"#fdca26\"], [1.0, \"#f0f921\"]]}, \"colorway\": [\"#636efa\", \"#EF553B\", \"#00cc96\", \"#ab63fa\", \"#FFA15A\", \"#19d3f3\", \"#FF6692\", \"#B6E880\", \"#FF97FF\", \"#FECB52\"], \"font\": {\"color\": \"#2a3f5f\"}, \"geo\": {\"bgcolor\": \"white\", \"lakecolor\": \"white\", \"landcolor\": \"#E5ECF6\", \"showlakes\": true, \"showland\": true, \"subunitcolor\": \"white\"}, \"hoverlabel\": {\"align\": \"left\"}, \"hovermode\": \"closest\", \"mapbox\": {\"style\": \"light\"}, \"paper_bgcolor\": \"white\", \"plot_bgcolor\": \"#E5ECF6\", \"polar\": {\"angularaxis\": {\"gridcolor\": \"white\", \"linecolor\": \"white\", \"ticks\": \"\"}, \"bgcolor\": \"#E5ECF6\", \"radialaxis\": {\"gridcolor\": \"white\", \"linecolor\": \"white\", \"ticks\": \"\"}}, \"scene\": {\"xaxis\": {\"backgroundcolor\": \"#E5ECF6\", \"gridcolor\": \"white\", \"gridwidth\": 2, \"linecolor\": \"white\", \"showbackground\": true, \"ticks\": \"\", \"zerolinecolor\": \"white\"}, \"yaxis\": {\"backgroundcolor\": \"#E5ECF6\", \"gridcolor\": \"white\", \"gridwidth\": 2, \"linecolor\": \"white\", \"showbackground\": true, \"ticks\": \"\", \"zerolinecolor\": \"white\"}, \"zaxis\": {\"backgroundcolor\": \"#E5ECF6\", \"gridcolor\": \"white\", \"gridwidth\": 2, \"linecolor\": \"white\", \"showbackground\": true, \"ticks\": \"\", \"zerolinecolor\": \"white\"}}, \"shapedefaults\": {\"line\": {\"color\": \"#2a3f5f\"}}, \"ternary\": {\"aaxis\": {\"gridcolor\": \"white\", \"linecolor\": \"white\", \"ticks\": \"\"}, \"baxis\": {\"gridcolor\": \"white\", \"linecolor\": \"white\", \"ticks\": \"\"}, \"bgcolor\": \"#E5ECF6\", \"caxis\": {\"gridcolor\": \"white\", \"linecolor\": \"white\", \"ticks\": \"\"}}, \"title\": {\"x\": 0.05}, \"xaxis\": {\"automargin\": true, \"gridcolor\": \"white\", \"linecolor\": \"white\", \"ticks\": \"\", \"title\": {\"standoff\": 15}, \"zerolinecolor\": \"white\", \"zerolinewidth\": 2}, \"yaxis\": {\"automargin\": true, \"gridcolor\": \"white\", \"linecolor\": \"white\", \"ticks\": \"\", \"title\": {\"standoff\": 15}, \"zerolinecolor\": \"white\", \"zerolinewidth\": 2}}}, \"uniformtext\": {\"minsize\": 4, \"mode\": \"show\"}, \"width\": 1000, \"xaxis\": {\"anchor\": \"y\", \"domain\": [0.0, 1.0], \"title\": {\"text\": \"Provinsi\"}}, \"yaxis\": {\"anchor\": \"x\", \"domain\": [0.0, 1.0], \"title\": {\"text\": \"Jumlah kasus positif\"}}},\n",
       "                        {\"responsive\": true}\n",
       "                    ).then(function(){\n",
       "                            \n",
       "var gd = document.getElementById('a3e48d76-7256-4546-97e5-ad7caa5816f4');\n",
       "var x = new MutationObserver(function (mutations, observer) {{\n",
       "        var display = window.getComputedStyle(gd).display;\n",
       "        if (!display || display === 'none') {{\n",
       "            console.log([gd, 'removed!']);\n",
       "            Plotly.purge(gd);\n",
       "            observer.disconnect();\n",
       "        }}\n",
       "}});\n",
       "\n",
       "// Listen for the removal of the full notebook cells\n",
       "var notebookContainer = gd.closest('#notebook-container');\n",
       "if (notebookContainer) {{\n",
       "    x.observe(notebookContainer, {childList: true});\n",
       "}}\n",
       "\n",
       "// Listen for the clearing of the current output cell\n",
       "var outputEl = gd.closest('.output');\n",
       "if (outputEl) {{\n",
       "    x.observe(outputEl, {childList: true});\n",
       "}}\n",
       "\n",
       "                        })\n",
       "                };\n",
       "                });\n",
       "            </script>\n",
       "        </div>"
      ]
     },
     "metadata": {},
     "output_type": "display_data"
    }
   ],
   "source": [
    "berdasarkan_positif = merged.sort_values(by='kasusPosi', ascending=False)\n",
    "fig1 = px.bar(berdasarkan_positif, x=berdasarkan_positif.index, y='kasusPosi', text='kasusPosi', hover_name=berdasarkan_positif.index)\n",
    "fig1.update_traces(texttemplate='%{text:}', textposition='outside')\n",
    "fig1.update_layout(uniformtext_minsize=4, uniformtext_mode='show', width=1000, height=750, xaxis_title=\"Provinsi\", yaxis_title=\"Jumlah kasus positif\")\n",
    "\n",
    "fig1.show()"
   ]
  },
  {
   "cell_type": "markdown",
   "metadata": {},
   "source": [
    "#### Provinsi dengan tingkat kesembuhan terbaik"
   ]
  },
  {
   "cell_type": "code",
   "execution_count": 106,
   "metadata": {},
   "outputs": [
    {
     "data": {
      "application/vnd.plotly.v1+json": {
       "config": {
        "plotlyServerURL": "https://plot.ly"
       },
       "data": [
        {
         "alignmentgroup": "True",
         "hovertemplate": "<b>%{hovertext}</b><br><br>ADM1_EN=%{x}<br>kasusSemb=%{text}<extra></extra>",
         "hovertext": [
          "DKI Jakarta",
          "Jawa Timur",
          "Jawa Tengah",
          "Jawa Barat",
          "Sulawesi Selatan",
          "Kalimantan Selatan",
          "Bali",
          "Sumatera Utara",
          "Kalimantan Timur",
          "Sumatera Selatan",
          "Papua",
          "Sulawesi Utara",
          "Banten",
          "Riau",
          "Sumatera Barat",
          "Kalimantan Tengah",
          "Nusa Tenggara Barat",
          "Gorontalo",
          "Aceh",
          "Maluku Utara",
          "Sulawesi Tenggara",
          "Maluku",
          "Daerah Istimewa Yogyakarta",
          "Kepulauan Riau",
          "Papua Barat",
          "Kalimantan Barat",
          "Lampung",
          "Kalimantan Utara",
          "Sulawesi Barat",
          "Bengkulu",
          "Jambi",
          "Sulawesi Tengah",
          "Nusa Tenggara Timur",
          "Kepulauan Bangka Belitung"
         ],
         "legendgroup": "",
         "marker": {
          "color": "#636efa"
         },
         "name": "",
         "offsetgroup": "",
         "orientation": "v",
         "showlegend": false,
         "text": [
          54268,
          35205,
          15043,
          12022,
          10961,
          8503,
          6828,
          6107,
          5080,
          4132,
          3688,
          3463,
          3218,
          2941,
          2724,
          2636,
          2536,
          2199,
          1889,
          1799,
          1779,
          1687,
          1677,
          1227,
          1039,
          769,
          519,
          448,
          407,
          379,
          263,
          243,
          240,
          173
         ],
         "textposition": "outside",
         "texttemplate": "%{text:}",
         "type": "bar",
         "x": [
          "DKI Jakarta",
          "Jawa Timur",
          "Jawa Tengah",
          "Jawa Barat",
          "Sulawesi Selatan",
          "Kalimantan Selatan",
          "Bali",
          "Sumatera Utara",
          "Kalimantan Timur",
          "Sumatera Selatan",
          "Papua",
          "Sulawesi Utara",
          "Banten",
          "Riau",
          "Sumatera Barat",
          "Kalimantan Tengah",
          "Nusa Tenggara Barat",
          "Gorontalo",
          "Aceh",
          "Maluku Utara",
          "Sulawesi Tenggara",
          "Maluku",
          "Daerah Istimewa Yogyakarta",
          "Kepulauan Riau",
          "Papua Barat",
          "Kalimantan Barat",
          "Lampung",
          "Kalimantan Utara",
          "Sulawesi Barat",
          "Bengkulu",
          "Jambi",
          "Sulawesi Tengah",
          "Nusa Tenggara Timur",
          "Kepulauan Bangka Belitung"
         ],
         "xaxis": "x",
         "y": [
          54268,
          35205,
          15043,
          12022,
          10961,
          8503,
          6828,
          6107,
          5080,
          4132,
          3688,
          3463,
          3218,
          2941,
          2724,
          2636,
          2536,
          2199,
          1889,
          1799,
          1779,
          1687,
          1677,
          1227,
          1039,
          769,
          519,
          448,
          407,
          379,
          263,
          243,
          240,
          173
         ],
         "yaxis": "y"
        }
       ],
       "layout": {
        "barmode": "relative",
        "height": 750,
        "legend": {
         "tracegroupgap": 0
        },
        "margin": {
         "t": 60
        },
        "template": {
         "data": {
          "bar": [
           {
            "error_x": {
             "color": "#2a3f5f"
            },
            "error_y": {
             "color": "#2a3f5f"
            },
            "marker": {
             "line": {
              "color": "#E5ECF6",
              "width": 0.5
             }
            },
            "type": "bar"
           }
          ],
          "barpolar": [
           {
            "marker": {
             "line": {
              "color": "#E5ECF6",
              "width": 0.5
             }
            },
            "type": "barpolar"
           }
          ],
          "carpet": [
           {
            "aaxis": {
             "endlinecolor": "#2a3f5f",
             "gridcolor": "white",
             "linecolor": "white",
             "minorgridcolor": "white",
             "startlinecolor": "#2a3f5f"
            },
            "baxis": {
             "endlinecolor": "#2a3f5f",
             "gridcolor": "white",
             "linecolor": "white",
             "minorgridcolor": "white",
             "startlinecolor": "#2a3f5f"
            },
            "type": "carpet"
           }
          ],
          "choropleth": [
           {
            "colorbar": {
             "outlinewidth": 0,
             "ticks": ""
            },
            "type": "choropleth"
           }
          ],
          "contour": [
           {
            "colorbar": {
             "outlinewidth": 0,
             "ticks": ""
            },
            "colorscale": [
             [
              0,
              "#0d0887"
             ],
             [
              0.1111111111111111,
              "#46039f"
             ],
             [
              0.2222222222222222,
              "#7201a8"
             ],
             [
              0.3333333333333333,
              "#9c179e"
             ],
             [
              0.4444444444444444,
              "#bd3786"
             ],
             [
              0.5555555555555556,
              "#d8576b"
             ],
             [
              0.6666666666666666,
              "#ed7953"
             ],
             [
              0.7777777777777778,
              "#fb9f3a"
             ],
             [
              0.8888888888888888,
              "#fdca26"
             ],
             [
              1,
              "#f0f921"
             ]
            ],
            "type": "contour"
           }
          ],
          "contourcarpet": [
           {
            "colorbar": {
             "outlinewidth": 0,
             "ticks": ""
            },
            "type": "contourcarpet"
           }
          ],
          "heatmap": [
           {
            "colorbar": {
             "outlinewidth": 0,
             "ticks": ""
            },
            "colorscale": [
             [
              0,
              "#0d0887"
             ],
             [
              0.1111111111111111,
              "#46039f"
             ],
             [
              0.2222222222222222,
              "#7201a8"
             ],
             [
              0.3333333333333333,
              "#9c179e"
             ],
             [
              0.4444444444444444,
              "#bd3786"
             ],
             [
              0.5555555555555556,
              "#d8576b"
             ],
             [
              0.6666666666666666,
              "#ed7953"
             ],
             [
              0.7777777777777778,
              "#fb9f3a"
             ],
             [
              0.8888888888888888,
              "#fdca26"
             ],
             [
              1,
              "#f0f921"
             ]
            ],
            "type": "heatmap"
           }
          ],
          "heatmapgl": [
           {
            "colorbar": {
             "outlinewidth": 0,
             "ticks": ""
            },
            "colorscale": [
             [
              0,
              "#0d0887"
             ],
             [
              0.1111111111111111,
              "#46039f"
             ],
             [
              0.2222222222222222,
              "#7201a8"
             ],
             [
              0.3333333333333333,
              "#9c179e"
             ],
             [
              0.4444444444444444,
              "#bd3786"
             ],
             [
              0.5555555555555556,
              "#d8576b"
             ],
             [
              0.6666666666666666,
              "#ed7953"
             ],
             [
              0.7777777777777778,
              "#fb9f3a"
             ],
             [
              0.8888888888888888,
              "#fdca26"
             ],
             [
              1,
              "#f0f921"
             ]
            ],
            "type": "heatmapgl"
           }
          ],
          "histogram": [
           {
            "marker": {
             "colorbar": {
              "outlinewidth": 0,
              "ticks": ""
             }
            },
            "type": "histogram"
           }
          ],
          "histogram2d": [
           {
            "colorbar": {
             "outlinewidth": 0,
             "ticks": ""
            },
            "colorscale": [
             [
              0,
              "#0d0887"
             ],
             [
              0.1111111111111111,
              "#46039f"
             ],
             [
              0.2222222222222222,
              "#7201a8"
             ],
             [
              0.3333333333333333,
              "#9c179e"
             ],
             [
              0.4444444444444444,
              "#bd3786"
             ],
             [
              0.5555555555555556,
              "#d8576b"
             ],
             [
              0.6666666666666666,
              "#ed7953"
             ],
             [
              0.7777777777777778,
              "#fb9f3a"
             ],
             [
              0.8888888888888888,
              "#fdca26"
             ],
             [
              1,
              "#f0f921"
             ]
            ],
            "type": "histogram2d"
           }
          ],
          "histogram2dcontour": [
           {
            "colorbar": {
             "outlinewidth": 0,
             "ticks": ""
            },
            "colorscale": [
             [
              0,
              "#0d0887"
             ],
             [
              0.1111111111111111,
              "#46039f"
             ],
             [
              0.2222222222222222,
              "#7201a8"
             ],
             [
              0.3333333333333333,
              "#9c179e"
             ],
             [
              0.4444444444444444,
              "#bd3786"
             ],
             [
              0.5555555555555556,
              "#d8576b"
             ],
             [
              0.6666666666666666,
              "#ed7953"
             ],
             [
              0.7777777777777778,
              "#fb9f3a"
             ],
             [
              0.8888888888888888,
              "#fdca26"
             ],
             [
              1,
              "#f0f921"
             ]
            ],
            "type": "histogram2dcontour"
           }
          ],
          "mesh3d": [
           {
            "colorbar": {
             "outlinewidth": 0,
             "ticks": ""
            },
            "type": "mesh3d"
           }
          ],
          "parcoords": [
           {
            "line": {
             "colorbar": {
              "outlinewidth": 0,
              "ticks": ""
             }
            },
            "type": "parcoords"
           }
          ],
          "pie": [
           {
            "automargin": true,
            "type": "pie"
           }
          ],
          "scatter": [
           {
            "marker": {
             "colorbar": {
              "outlinewidth": 0,
              "ticks": ""
             }
            },
            "type": "scatter"
           }
          ],
          "scatter3d": [
           {
            "line": {
             "colorbar": {
              "outlinewidth": 0,
              "ticks": ""
             }
            },
            "marker": {
             "colorbar": {
              "outlinewidth": 0,
              "ticks": ""
             }
            },
            "type": "scatter3d"
           }
          ],
          "scattercarpet": [
           {
            "marker": {
             "colorbar": {
              "outlinewidth": 0,
              "ticks": ""
             }
            },
            "type": "scattercarpet"
           }
          ],
          "scattergeo": [
           {
            "marker": {
             "colorbar": {
              "outlinewidth": 0,
              "ticks": ""
             }
            },
            "type": "scattergeo"
           }
          ],
          "scattergl": [
           {
            "marker": {
             "colorbar": {
              "outlinewidth": 0,
              "ticks": ""
             }
            },
            "type": "scattergl"
           }
          ],
          "scattermapbox": [
           {
            "marker": {
             "colorbar": {
              "outlinewidth": 0,
              "ticks": ""
             }
            },
            "type": "scattermapbox"
           }
          ],
          "scatterpolar": [
           {
            "marker": {
             "colorbar": {
              "outlinewidth": 0,
              "ticks": ""
             }
            },
            "type": "scatterpolar"
           }
          ],
          "scatterpolargl": [
           {
            "marker": {
             "colorbar": {
              "outlinewidth": 0,
              "ticks": ""
             }
            },
            "type": "scatterpolargl"
           }
          ],
          "scatterternary": [
           {
            "marker": {
             "colorbar": {
              "outlinewidth": 0,
              "ticks": ""
             }
            },
            "type": "scatterternary"
           }
          ],
          "surface": [
           {
            "colorbar": {
             "outlinewidth": 0,
             "ticks": ""
            },
            "colorscale": [
             [
              0,
              "#0d0887"
             ],
             [
              0.1111111111111111,
              "#46039f"
             ],
             [
              0.2222222222222222,
              "#7201a8"
             ],
             [
              0.3333333333333333,
              "#9c179e"
             ],
             [
              0.4444444444444444,
              "#bd3786"
             ],
             [
              0.5555555555555556,
              "#d8576b"
             ],
             [
              0.6666666666666666,
              "#ed7953"
             ],
             [
              0.7777777777777778,
              "#fb9f3a"
             ],
             [
              0.8888888888888888,
              "#fdca26"
             ],
             [
              1,
              "#f0f921"
             ]
            ],
            "type": "surface"
           }
          ],
          "table": [
           {
            "cells": {
             "fill": {
              "color": "#EBF0F8"
             },
             "line": {
              "color": "white"
             }
            },
            "header": {
             "fill": {
              "color": "#C8D4E3"
             },
             "line": {
              "color": "white"
             }
            },
            "type": "table"
           }
          ]
         },
         "layout": {
          "annotationdefaults": {
           "arrowcolor": "#2a3f5f",
           "arrowhead": 0,
           "arrowwidth": 1
          },
          "coloraxis": {
           "colorbar": {
            "outlinewidth": 0,
            "ticks": ""
           }
          },
          "colorscale": {
           "diverging": [
            [
             0,
             "#8e0152"
            ],
            [
             0.1,
             "#c51b7d"
            ],
            [
             0.2,
             "#de77ae"
            ],
            [
             0.3,
             "#f1b6da"
            ],
            [
             0.4,
             "#fde0ef"
            ],
            [
             0.5,
             "#f7f7f7"
            ],
            [
             0.6,
             "#e6f5d0"
            ],
            [
             0.7,
             "#b8e186"
            ],
            [
             0.8,
             "#7fbc41"
            ],
            [
             0.9,
             "#4d9221"
            ],
            [
             1,
             "#276419"
            ]
           ],
           "sequential": [
            [
             0,
             "#0d0887"
            ],
            [
             0.1111111111111111,
             "#46039f"
            ],
            [
             0.2222222222222222,
             "#7201a8"
            ],
            [
             0.3333333333333333,
             "#9c179e"
            ],
            [
             0.4444444444444444,
             "#bd3786"
            ],
            [
             0.5555555555555556,
             "#d8576b"
            ],
            [
             0.6666666666666666,
             "#ed7953"
            ],
            [
             0.7777777777777778,
             "#fb9f3a"
            ],
            [
             0.8888888888888888,
             "#fdca26"
            ],
            [
             1,
             "#f0f921"
            ]
           ],
           "sequentialminus": [
            [
             0,
             "#0d0887"
            ],
            [
             0.1111111111111111,
             "#46039f"
            ],
            [
             0.2222222222222222,
             "#7201a8"
            ],
            [
             0.3333333333333333,
             "#9c179e"
            ],
            [
             0.4444444444444444,
             "#bd3786"
            ],
            [
             0.5555555555555556,
             "#d8576b"
            ],
            [
             0.6666666666666666,
             "#ed7953"
            ],
            [
             0.7777777777777778,
             "#fb9f3a"
            ],
            [
             0.8888888888888888,
             "#fdca26"
            ],
            [
             1,
             "#f0f921"
            ]
           ]
          },
          "colorway": [
           "#636efa",
           "#EF553B",
           "#00cc96",
           "#ab63fa",
           "#FFA15A",
           "#19d3f3",
           "#FF6692",
           "#B6E880",
           "#FF97FF",
           "#FECB52"
          ],
          "font": {
           "color": "#2a3f5f"
          },
          "geo": {
           "bgcolor": "white",
           "lakecolor": "white",
           "landcolor": "#E5ECF6",
           "showlakes": true,
           "showland": true,
           "subunitcolor": "white"
          },
          "hoverlabel": {
           "align": "left"
          },
          "hovermode": "closest",
          "mapbox": {
           "style": "light"
          },
          "paper_bgcolor": "white",
          "plot_bgcolor": "#E5ECF6",
          "polar": {
           "angularaxis": {
            "gridcolor": "white",
            "linecolor": "white",
            "ticks": ""
           },
           "bgcolor": "#E5ECF6",
           "radialaxis": {
            "gridcolor": "white",
            "linecolor": "white",
            "ticks": ""
           }
          },
          "scene": {
           "xaxis": {
            "backgroundcolor": "#E5ECF6",
            "gridcolor": "white",
            "gridwidth": 2,
            "linecolor": "white",
            "showbackground": true,
            "ticks": "",
            "zerolinecolor": "white"
           },
           "yaxis": {
            "backgroundcolor": "#E5ECF6",
            "gridcolor": "white",
            "gridwidth": 2,
            "linecolor": "white",
            "showbackground": true,
            "ticks": "",
            "zerolinecolor": "white"
           },
           "zaxis": {
            "backgroundcolor": "#E5ECF6",
            "gridcolor": "white",
            "gridwidth": 2,
            "linecolor": "white",
            "showbackground": true,
            "ticks": "",
            "zerolinecolor": "white"
           }
          },
          "shapedefaults": {
           "line": {
            "color": "#2a3f5f"
           }
          },
          "ternary": {
           "aaxis": {
            "gridcolor": "white",
            "linecolor": "white",
            "ticks": ""
           },
           "baxis": {
            "gridcolor": "white",
            "linecolor": "white",
            "ticks": ""
           },
           "bgcolor": "#E5ECF6",
           "caxis": {
            "gridcolor": "white",
            "linecolor": "white",
            "ticks": ""
           }
          },
          "title": {
           "x": 0.05
          },
          "xaxis": {
           "automargin": true,
           "gridcolor": "white",
           "linecolor": "white",
           "ticks": "",
           "title": {
            "standoff": 15
           },
           "zerolinecolor": "white",
           "zerolinewidth": 2
          },
          "yaxis": {
           "automargin": true,
           "gridcolor": "white",
           "linecolor": "white",
           "ticks": "",
           "title": {
            "standoff": 15
           },
           "zerolinecolor": "white",
           "zerolinewidth": 2
          }
         }
        },
        "uniformtext": {
         "minsize": 4,
         "mode": "hide"
        },
        "width": 1000,
        "xaxis": {
         "anchor": "y",
         "domain": [
          0,
          1
         ],
         "title": {
          "text": "Provinsi"
         }
        },
        "yaxis": {
         "anchor": "x",
         "domain": [
          0,
          1
         ],
         "title": {
          "text": "Jumlah kasus sembuh"
         }
        }
       }
      },
      "text/html": [
       "<div>\n",
       "        \n",
       "        \n",
       "            <div id=\"b47f4389-8b56-42f4-a2a9-1eddb8753fc7\" class=\"plotly-graph-div\" style=\"height:750px; width:1000px;\"></div>\n",
       "            <script type=\"text/javascript\">\n",
       "                require([\"plotly\"], function(Plotly) {\n",
       "                    window.PLOTLYENV=window.PLOTLYENV || {};\n",
       "                    \n",
       "                if (document.getElementById(\"b47f4389-8b56-42f4-a2a9-1eddb8753fc7\")) {\n",
       "                    Plotly.newPlot(\n",
       "                        'b47f4389-8b56-42f4-a2a9-1eddb8753fc7',\n",
       "                        [{\"alignmentgroup\": \"True\", \"hovertemplate\": \"<b>%{hovertext}</b><br><br>ADM1_EN=%{x}<br>kasusSemb=%{text}<extra></extra>\", \"hovertext\": [\"DKI Jakarta\", \"Jawa Timur\", \"Jawa Tengah\", \"Jawa Barat\", \"Sulawesi Selatan\", \"Kalimantan Selatan\", \"Bali\", \"Sumatera Utara\", \"Kalimantan Timur\", \"Sumatera Selatan\", \"Papua\", \"Sulawesi Utara\", \"Banten\", \"Riau\", \"Sumatera Barat\", \"Kalimantan Tengah\", \"Nusa Tenggara Barat\", \"Gorontalo\", \"Aceh\", \"Maluku Utara\", \"Sulawesi Tenggara\", \"Maluku\", \"Daerah Istimewa Yogyakarta\", \"Kepulauan Riau\", \"Papua Barat\", \"Kalimantan Barat\", \"Lampung\", \"Kalimantan Utara\", \"Sulawesi Barat\", \"Bengkulu\", \"Jambi\", \"Sulawesi Tengah\", \"Nusa Tenggara Timur\", \"Kepulauan Bangka Belitung\"], \"legendgroup\": \"\", \"marker\": {\"color\": \"#636efa\"}, \"name\": \"\", \"offsetgroup\": \"\", \"orientation\": \"v\", \"showlegend\": false, \"text\": [54268.0, 35205.0, 15043.0, 12022.0, 10961.0, 8503.0, 6828.0, 6107.0, 5080.0, 4132.0, 3688.0, 3463.0, 3218.0, 2941.0, 2724.0, 2636.0, 2536.0, 2199.0, 1889.0, 1799.0, 1779.0, 1687.0, 1677.0, 1227.0, 1039.0, 769.0, 519.0, 448.0, 407.0, 379.0, 263.0, 243.0, 240.0, 173.0], \"textposition\": \"outside\", \"texttemplate\": \"%{text:}\", \"type\": \"bar\", \"x\": [\"DKI Jakarta\", \"Jawa Timur\", \"Jawa Tengah\", \"Jawa Barat\", \"Sulawesi Selatan\", \"Kalimantan Selatan\", \"Bali\", \"Sumatera Utara\", \"Kalimantan Timur\", \"Sumatera Selatan\", \"Papua\", \"Sulawesi Utara\", \"Banten\", \"Riau\", \"Sumatera Barat\", \"Kalimantan Tengah\", \"Nusa Tenggara Barat\", \"Gorontalo\", \"Aceh\", \"Maluku Utara\", \"Sulawesi Tenggara\", \"Maluku\", \"Daerah Istimewa Yogyakarta\", \"Kepulauan Riau\", \"Papua Barat\", \"Kalimantan Barat\", \"Lampung\", \"Kalimantan Utara\", \"Sulawesi Barat\", \"Bengkulu\", \"Jambi\", \"Sulawesi Tengah\", \"Nusa Tenggara Timur\", \"Kepulauan Bangka Belitung\"], \"xaxis\": \"x\", \"y\": [54268, 35205, 15043, 12022, 10961, 8503, 6828, 6107, 5080, 4132, 3688, 3463, 3218, 2941, 2724, 2636, 2536, 2199, 1889, 1799, 1779, 1687, 1677, 1227, 1039, 769, 519, 448, 407, 379, 263, 243, 240, 173], \"yaxis\": \"y\"}],\n",
       "                        {\"barmode\": \"relative\", \"height\": 750, \"legend\": {\"tracegroupgap\": 0}, \"margin\": {\"t\": 60}, \"template\": {\"data\": {\"bar\": [{\"error_x\": {\"color\": \"#2a3f5f\"}, \"error_y\": {\"color\": \"#2a3f5f\"}, \"marker\": {\"line\": {\"color\": \"#E5ECF6\", \"width\": 0.5}}, \"type\": \"bar\"}], \"barpolar\": [{\"marker\": {\"line\": {\"color\": \"#E5ECF6\", \"width\": 0.5}}, \"type\": \"barpolar\"}], \"carpet\": [{\"aaxis\": {\"endlinecolor\": \"#2a3f5f\", \"gridcolor\": \"white\", \"linecolor\": \"white\", \"minorgridcolor\": \"white\", \"startlinecolor\": \"#2a3f5f\"}, \"baxis\": {\"endlinecolor\": \"#2a3f5f\", \"gridcolor\": \"white\", \"linecolor\": \"white\", \"minorgridcolor\": \"white\", \"startlinecolor\": \"#2a3f5f\"}, \"type\": \"carpet\"}], \"choropleth\": [{\"colorbar\": {\"outlinewidth\": 0, \"ticks\": \"\"}, \"type\": \"choropleth\"}], \"contour\": [{\"colorbar\": {\"outlinewidth\": 0, \"ticks\": \"\"}, \"colorscale\": [[0.0, \"#0d0887\"], [0.1111111111111111, \"#46039f\"], [0.2222222222222222, \"#7201a8\"], [0.3333333333333333, \"#9c179e\"], [0.4444444444444444, \"#bd3786\"], [0.5555555555555556, \"#d8576b\"], [0.6666666666666666, \"#ed7953\"], [0.7777777777777778, \"#fb9f3a\"], [0.8888888888888888, \"#fdca26\"], [1.0, \"#f0f921\"]], \"type\": \"contour\"}], \"contourcarpet\": [{\"colorbar\": {\"outlinewidth\": 0, \"ticks\": \"\"}, \"type\": \"contourcarpet\"}], \"heatmap\": [{\"colorbar\": {\"outlinewidth\": 0, \"ticks\": \"\"}, \"colorscale\": [[0.0, \"#0d0887\"], [0.1111111111111111, \"#46039f\"], [0.2222222222222222, \"#7201a8\"], [0.3333333333333333, \"#9c179e\"], [0.4444444444444444, \"#bd3786\"], [0.5555555555555556, \"#d8576b\"], [0.6666666666666666, \"#ed7953\"], [0.7777777777777778, \"#fb9f3a\"], [0.8888888888888888, \"#fdca26\"], [1.0, \"#f0f921\"]], \"type\": \"heatmap\"}], \"heatmapgl\": [{\"colorbar\": {\"outlinewidth\": 0, \"ticks\": \"\"}, \"colorscale\": [[0.0, \"#0d0887\"], [0.1111111111111111, \"#46039f\"], [0.2222222222222222, \"#7201a8\"], [0.3333333333333333, \"#9c179e\"], [0.4444444444444444, \"#bd3786\"], [0.5555555555555556, \"#d8576b\"], [0.6666666666666666, \"#ed7953\"], [0.7777777777777778, \"#fb9f3a\"], [0.8888888888888888, \"#fdca26\"], [1.0, \"#f0f921\"]], \"type\": \"heatmapgl\"}], \"histogram\": [{\"marker\": {\"colorbar\": {\"outlinewidth\": 0, \"ticks\": \"\"}}, \"type\": \"histogram\"}], \"histogram2d\": [{\"colorbar\": {\"outlinewidth\": 0, \"ticks\": \"\"}, \"colorscale\": [[0.0, \"#0d0887\"], [0.1111111111111111, \"#46039f\"], [0.2222222222222222, \"#7201a8\"], [0.3333333333333333, \"#9c179e\"], [0.4444444444444444, \"#bd3786\"], [0.5555555555555556, \"#d8576b\"], [0.6666666666666666, \"#ed7953\"], [0.7777777777777778, \"#fb9f3a\"], [0.8888888888888888, \"#fdca26\"], [1.0, \"#f0f921\"]], \"type\": \"histogram2d\"}], \"histogram2dcontour\": [{\"colorbar\": {\"outlinewidth\": 0, \"ticks\": \"\"}, \"colorscale\": [[0.0, \"#0d0887\"], [0.1111111111111111, \"#46039f\"], [0.2222222222222222, \"#7201a8\"], [0.3333333333333333, \"#9c179e\"], [0.4444444444444444, \"#bd3786\"], [0.5555555555555556, \"#d8576b\"], [0.6666666666666666, \"#ed7953\"], [0.7777777777777778, \"#fb9f3a\"], [0.8888888888888888, \"#fdca26\"], [1.0, \"#f0f921\"]], \"type\": \"histogram2dcontour\"}], \"mesh3d\": [{\"colorbar\": {\"outlinewidth\": 0, \"ticks\": \"\"}, \"type\": \"mesh3d\"}], \"parcoords\": [{\"line\": {\"colorbar\": {\"outlinewidth\": 0, \"ticks\": \"\"}}, \"type\": \"parcoords\"}], \"pie\": [{\"automargin\": true, \"type\": \"pie\"}], \"scatter\": [{\"marker\": {\"colorbar\": {\"outlinewidth\": 0, \"ticks\": \"\"}}, \"type\": \"scatter\"}], \"scatter3d\": [{\"line\": {\"colorbar\": {\"outlinewidth\": 0, \"ticks\": \"\"}}, \"marker\": {\"colorbar\": {\"outlinewidth\": 0, \"ticks\": \"\"}}, \"type\": \"scatter3d\"}], \"scattercarpet\": [{\"marker\": {\"colorbar\": {\"outlinewidth\": 0, \"ticks\": \"\"}}, \"type\": \"scattercarpet\"}], \"scattergeo\": [{\"marker\": {\"colorbar\": {\"outlinewidth\": 0, \"ticks\": \"\"}}, \"type\": \"scattergeo\"}], \"scattergl\": [{\"marker\": {\"colorbar\": {\"outlinewidth\": 0, \"ticks\": \"\"}}, \"type\": \"scattergl\"}], \"scattermapbox\": [{\"marker\": {\"colorbar\": {\"outlinewidth\": 0, \"ticks\": \"\"}}, \"type\": \"scattermapbox\"}], \"scatterpolar\": [{\"marker\": {\"colorbar\": {\"outlinewidth\": 0, \"ticks\": \"\"}}, \"type\": \"scatterpolar\"}], \"scatterpolargl\": [{\"marker\": {\"colorbar\": {\"outlinewidth\": 0, \"ticks\": \"\"}}, \"type\": \"scatterpolargl\"}], \"scatterternary\": [{\"marker\": {\"colorbar\": {\"outlinewidth\": 0, \"ticks\": \"\"}}, \"type\": \"scatterternary\"}], \"surface\": [{\"colorbar\": {\"outlinewidth\": 0, \"ticks\": \"\"}, \"colorscale\": [[0.0, \"#0d0887\"], [0.1111111111111111, \"#46039f\"], [0.2222222222222222, \"#7201a8\"], [0.3333333333333333, \"#9c179e\"], [0.4444444444444444, \"#bd3786\"], [0.5555555555555556, \"#d8576b\"], [0.6666666666666666, \"#ed7953\"], [0.7777777777777778, \"#fb9f3a\"], [0.8888888888888888, \"#fdca26\"], [1.0, \"#f0f921\"]], \"type\": \"surface\"}], \"table\": [{\"cells\": {\"fill\": {\"color\": \"#EBF0F8\"}, \"line\": {\"color\": \"white\"}}, \"header\": {\"fill\": {\"color\": \"#C8D4E3\"}, \"line\": {\"color\": \"white\"}}, \"type\": \"table\"}]}, \"layout\": {\"annotationdefaults\": {\"arrowcolor\": \"#2a3f5f\", \"arrowhead\": 0, \"arrowwidth\": 1}, \"coloraxis\": {\"colorbar\": {\"outlinewidth\": 0, \"ticks\": \"\"}}, \"colorscale\": {\"diverging\": [[0, \"#8e0152\"], [0.1, \"#c51b7d\"], [0.2, \"#de77ae\"], [0.3, \"#f1b6da\"], [0.4, \"#fde0ef\"], [0.5, \"#f7f7f7\"], [0.6, \"#e6f5d0\"], [0.7, \"#b8e186\"], [0.8, \"#7fbc41\"], [0.9, \"#4d9221\"], [1, \"#276419\"]], \"sequential\": [[0.0, \"#0d0887\"], [0.1111111111111111, \"#46039f\"], [0.2222222222222222, \"#7201a8\"], [0.3333333333333333, \"#9c179e\"], [0.4444444444444444, \"#bd3786\"], [0.5555555555555556, \"#d8576b\"], [0.6666666666666666, \"#ed7953\"], [0.7777777777777778, \"#fb9f3a\"], [0.8888888888888888, \"#fdca26\"], [1.0, \"#f0f921\"]], \"sequentialminus\": [[0.0, \"#0d0887\"], [0.1111111111111111, \"#46039f\"], [0.2222222222222222, \"#7201a8\"], [0.3333333333333333, \"#9c179e\"], [0.4444444444444444, \"#bd3786\"], [0.5555555555555556, \"#d8576b\"], [0.6666666666666666, \"#ed7953\"], [0.7777777777777778, \"#fb9f3a\"], [0.8888888888888888, \"#fdca26\"], [1.0, \"#f0f921\"]]}, \"colorway\": [\"#636efa\", \"#EF553B\", \"#00cc96\", \"#ab63fa\", \"#FFA15A\", \"#19d3f3\", \"#FF6692\", \"#B6E880\", \"#FF97FF\", \"#FECB52\"], \"font\": {\"color\": \"#2a3f5f\"}, \"geo\": {\"bgcolor\": \"white\", \"lakecolor\": \"white\", \"landcolor\": \"#E5ECF6\", \"showlakes\": true, \"showland\": true, \"subunitcolor\": \"white\"}, \"hoverlabel\": {\"align\": \"left\"}, \"hovermode\": \"closest\", \"mapbox\": {\"style\": \"light\"}, \"paper_bgcolor\": \"white\", \"plot_bgcolor\": \"#E5ECF6\", \"polar\": {\"angularaxis\": {\"gridcolor\": \"white\", \"linecolor\": \"white\", \"ticks\": \"\"}, \"bgcolor\": \"#E5ECF6\", \"radialaxis\": {\"gridcolor\": \"white\", \"linecolor\": \"white\", \"ticks\": \"\"}}, \"scene\": {\"xaxis\": {\"backgroundcolor\": \"#E5ECF6\", \"gridcolor\": \"white\", \"gridwidth\": 2, \"linecolor\": \"white\", \"showbackground\": true, \"ticks\": \"\", \"zerolinecolor\": \"white\"}, \"yaxis\": {\"backgroundcolor\": \"#E5ECF6\", \"gridcolor\": \"white\", \"gridwidth\": 2, \"linecolor\": \"white\", \"showbackground\": true, \"ticks\": \"\", \"zerolinecolor\": \"white\"}, \"zaxis\": {\"backgroundcolor\": \"#E5ECF6\", \"gridcolor\": \"white\", \"gridwidth\": 2, \"linecolor\": \"white\", \"showbackground\": true, \"ticks\": \"\", \"zerolinecolor\": \"white\"}}, \"shapedefaults\": {\"line\": {\"color\": \"#2a3f5f\"}}, \"ternary\": {\"aaxis\": {\"gridcolor\": \"white\", \"linecolor\": \"white\", \"ticks\": \"\"}, \"baxis\": {\"gridcolor\": \"white\", \"linecolor\": \"white\", \"ticks\": \"\"}, \"bgcolor\": \"#E5ECF6\", \"caxis\": {\"gridcolor\": \"white\", \"linecolor\": \"white\", \"ticks\": \"\"}}, \"title\": {\"x\": 0.05}, \"xaxis\": {\"automargin\": true, \"gridcolor\": \"white\", \"linecolor\": \"white\", \"ticks\": \"\", \"title\": {\"standoff\": 15}, \"zerolinecolor\": \"white\", \"zerolinewidth\": 2}, \"yaxis\": {\"automargin\": true, \"gridcolor\": \"white\", \"linecolor\": \"white\", \"ticks\": \"\", \"title\": {\"standoff\": 15}, \"zerolinecolor\": \"white\", \"zerolinewidth\": 2}}}, \"uniformtext\": {\"minsize\": 4, \"mode\": \"hide\"}, \"width\": 1000, \"xaxis\": {\"anchor\": \"y\", \"domain\": [0.0, 1.0], \"title\": {\"text\": \"Provinsi\"}}, \"yaxis\": {\"anchor\": \"x\", \"domain\": [0.0, 1.0], \"title\": {\"text\": \"Jumlah kasus sembuh\"}}},\n",
       "                        {\"responsive\": true}\n",
       "                    ).then(function(){\n",
       "                            \n",
       "var gd = document.getElementById('b47f4389-8b56-42f4-a2a9-1eddb8753fc7');\n",
       "var x = new MutationObserver(function (mutations, observer) {{\n",
       "        var display = window.getComputedStyle(gd).display;\n",
       "        if (!display || display === 'none') {{\n",
       "            console.log([gd, 'removed!']);\n",
       "            Plotly.purge(gd);\n",
       "            observer.disconnect();\n",
       "        }}\n",
       "}});\n",
       "\n",
       "// Listen for the removal of the full notebook cells\n",
       "var notebookContainer = gd.closest('#notebook-container');\n",
       "if (notebookContainer) {{\n",
       "    x.observe(notebookContainer, {childList: true});\n",
       "}}\n",
       "\n",
       "// Listen for the clearing of the current output cell\n",
       "var outputEl = gd.closest('.output');\n",
       "if (outputEl) {{\n",
       "    x.observe(outputEl, {childList: true});\n",
       "}}\n",
       "\n",
       "                        })\n",
       "                };\n",
       "                });\n",
       "            </script>\n",
       "        </div>"
      ]
     },
     "metadata": {},
     "output_type": "display_data"
    }
   ],
   "source": [
    "berdasarkan_kesembuhan = merged.sort_values(by='kasusSemb', ascending=False)\n",
    "fig2 = px.bar(berdasarkan_kesembuhan, x=berdasarkan_kesembuhan.index, y='kasusSemb', text='kasusSemb',hover_name=berdasarkan_kesembuhan.index)\n",
    "fig2.update_traces(texttemplate='%{text:}', textposition='outside')\n",
    "fig2.update_layout(uniformtext_minsize=4, uniformtext_mode='hide', width=1000, height=750, xaxis_title=\"Provinsi\", yaxis_title=\"Jumlah kasus sembuh\")\n",
    "\n",
    "fig2.show()"
   ]
  },
  {
   "cell_type": "markdown",
   "metadata": {},
   "source": [
    "#### Provinsi dengan Kasus kematian tertinggi"
   ]
  },
  {
   "cell_type": "code",
   "execution_count": 107,
   "metadata": {
    "scrolled": false
   },
   "outputs": [
    {
     "data": {
      "application/vnd.plotly.v1+json": {
       "config": {
        "plotlyServerURL": "https://plot.ly"
       },
       "data": [
        {
         "alignmentgroup": "True",
         "hovertemplate": "<b>%{hovertext}</b><br><br>ADM1_EN=%{x}<br>kasusMeni=%{text}<extra></extra>",
         "hovertext": [
          "Jawa Timur",
          "DKI Jakarta",
          "Jawa Tengah",
          "Sumatera Utara",
          "Kalimantan Selatan",
          "Sulawesi Selatan",
          "Jawa Barat",
          "Sumatera Selatan",
          "Kalimantan Timur",
          "Bali",
          "Nusa Tenggara Barat",
          "Sulawesi Utara",
          "Banten",
          "Aceh",
          "Riau",
          "Kalimantan Tengah",
          "Sumatera Barat",
          "Papua",
          "Gorontalo",
          "Maluku Utara",
          "Daerah Istimewa Yogyakarta",
          "Kepulauan Riau",
          "Sulawesi Tenggara",
          "Maluku",
          "Bengkulu",
          "Lampung",
          "Papua Barat",
          "Sulawesi Tengah",
          "Sulawesi Barat",
          "Jambi",
          "Kalimantan Barat",
          "Nusa Tenggara Timur",
          "Kalimantan Utara",
          "Kepulauan Bangka Belitung"
         ],
         "legendgroup": "",
         "marker": {
          "color": "#636efa"
         },
         "name": "",
         "offsetgroup": "",
         "orientation": "v",
         "showlegend": false,
         "text": [
          3084,
          1661,
          1372,
          415,
          410,
          406,
          368,
          336,
          294,
          245,
          192,
          172,
          162,
          147,
          131,
          130,
          104,
          80,
          75,
          74,
          64,
          56,
          53,
          40,
          32,
          30,
          29,
          15,
          11,
          8,
          8,
          6,
          4,
          2
         ],
         "textposition": "outside",
         "texttemplate": "%{text:}",
         "type": "bar",
         "x": [
          "Jawa Timur",
          "DKI Jakarta",
          "Jawa Tengah",
          "Sumatera Utara",
          "Kalimantan Selatan",
          "Sulawesi Selatan",
          "Jawa Barat",
          "Sumatera Selatan",
          "Kalimantan Timur",
          "Bali",
          "Nusa Tenggara Barat",
          "Sulawesi Utara",
          "Banten",
          "Aceh",
          "Riau",
          "Kalimantan Tengah",
          "Sumatera Barat",
          "Papua",
          "Gorontalo",
          "Maluku Utara",
          "Daerah Istimewa Yogyakarta",
          "Kepulauan Riau",
          "Sulawesi Tenggara",
          "Maluku",
          "Bengkulu",
          "Lampung",
          "Papua Barat",
          "Sulawesi Tengah",
          "Sulawesi Barat",
          "Jambi",
          "Kalimantan Barat",
          "Nusa Tenggara Timur",
          "Kalimantan Utara",
          "Kepulauan Bangka Belitung"
         ],
         "xaxis": "x",
         "y": [
          3084,
          1661,
          1372,
          415,
          410,
          406,
          368,
          336,
          294,
          245,
          192,
          172,
          162,
          147,
          131,
          130,
          104,
          80,
          75,
          74,
          64,
          56,
          53,
          40,
          32,
          30,
          29,
          15,
          11,
          8,
          8,
          6,
          4,
          2
         ],
         "yaxis": "y"
        }
       ],
       "layout": {
        "barmode": "relative",
        "height": 500,
        "legend": {
         "tracegroupgap": 0
        },
        "margin": {
         "t": 60
        },
        "template": {
         "data": {
          "bar": [
           {
            "error_x": {
             "color": "#2a3f5f"
            },
            "error_y": {
             "color": "#2a3f5f"
            },
            "marker": {
             "line": {
              "color": "#E5ECF6",
              "width": 0.5
             }
            },
            "type": "bar"
           }
          ],
          "barpolar": [
           {
            "marker": {
             "line": {
              "color": "#E5ECF6",
              "width": 0.5
             }
            },
            "type": "barpolar"
           }
          ],
          "carpet": [
           {
            "aaxis": {
             "endlinecolor": "#2a3f5f",
             "gridcolor": "white",
             "linecolor": "white",
             "minorgridcolor": "white",
             "startlinecolor": "#2a3f5f"
            },
            "baxis": {
             "endlinecolor": "#2a3f5f",
             "gridcolor": "white",
             "linecolor": "white",
             "minorgridcolor": "white",
             "startlinecolor": "#2a3f5f"
            },
            "type": "carpet"
           }
          ],
          "choropleth": [
           {
            "colorbar": {
             "outlinewidth": 0,
             "ticks": ""
            },
            "type": "choropleth"
           }
          ],
          "contour": [
           {
            "colorbar": {
             "outlinewidth": 0,
             "ticks": ""
            },
            "colorscale": [
             [
              0,
              "#0d0887"
             ],
             [
              0.1111111111111111,
              "#46039f"
             ],
             [
              0.2222222222222222,
              "#7201a8"
             ],
             [
              0.3333333333333333,
              "#9c179e"
             ],
             [
              0.4444444444444444,
              "#bd3786"
             ],
             [
              0.5555555555555556,
              "#d8576b"
             ],
             [
              0.6666666666666666,
              "#ed7953"
             ],
             [
              0.7777777777777778,
              "#fb9f3a"
             ],
             [
              0.8888888888888888,
              "#fdca26"
             ],
             [
              1,
              "#f0f921"
             ]
            ],
            "type": "contour"
           }
          ],
          "contourcarpet": [
           {
            "colorbar": {
             "outlinewidth": 0,
             "ticks": ""
            },
            "type": "contourcarpet"
           }
          ],
          "heatmap": [
           {
            "colorbar": {
             "outlinewidth": 0,
             "ticks": ""
            },
            "colorscale": [
             [
              0,
              "#0d0887"
             ],
             [
              0.1111111111111111,
              "#46039f"
             ],
             [
              0.2222222222222222,
              "#7201a8"
             ],
             [
              0.3333333333333333,
              "#9c179e"
             ],
             [
              0.4444444444444444,
              "#bd3786"
             ],
             [
              0.5555555555555556,
              "#d8576b"
             ],
             [
              0.6666666666666666,
              "#ed7953"
             ],
             [
              0.7777777777777778,
              "#fb9f3a"
             ],
             [
              0.8888888888888888,
              "#fdca26"
             ],
             [
              1,
              "#f0f921"
             ]
            ],
            "type": "heatmap"
           }
          ],
          "heatmapgl": [
           {
            "colorbar": {
             "outlinewidth": 0,
             "ticks": ""
            },
            "colorscale": [
             [
              0,
              "#0d0887"
             ],
             [
              0.1111111111111111,
              "#46039f"
             ],
             [
              0.2222222222222222,
              "#7201a8"
             ],
             [
              0.3333333333333333,
              "#9c179e"
             ],
             [
              0.4444444444444444,
              "#bd3786"
             ],
             [
              0.5555555555555556,
              "#d8576b"
             ],
             [
              0.6666666666666666,
              "#ed7953"
             ],
             [
              0.7777777777777778,
              "#fb9f3a"
             ],
             [
              0.8888888888888888,
              "#fdca26"
             ],
             [
              1,
              "#f0f921"
             ]
            ],
            "type": "heatmapgl"
           }
          ],
          "histogram": [
           {
            "marker": {
             "colorbar": {
              "outlinewidth": 0,
              "ticks": ""
             }
            },
            "type": "histogram"
           }
          ],
          "histogram2d": [
           {
            "colorbar": {
             "outlinewidth": 0,
             "ticks": ""
            },
            "colorscale": [
             [
              0,
              "#0d0887"
             ],
             [
              0.1111111111111111,
              "#46039f"
             ],
             [
              0.2222222222222222,
              "#7201a8"
             ],
             [
              0.3333333333333333,
              "#9c179e"
             ],
             [
              0.4444444444444444,
              "#bd3786"
             ],
             [
              0.5555555555555556,
              "#d8576b"
             ],
             [
              0.6666666666666666,
              "#ed7953"
             ],
             [
              0.7777777777777778,
              "#fb9f3a"
             ],
             [
              0.8888888888888888,
              "#fdca26"
             ],
             [
              1,
              "#f0f921"
             ]
            ],
            "type": "histogram2d"
           }
          ],
          "histogram2dcontour": [
           {
            "colorbar": {
             "outlinewidth": 0,
             "ticks": ""
            },
            "colorscale": [
             [
              0,
              "#0d0887"
             ],
             [
              0.1111111111111111,
              "#46039f"
             ],
             [
              0.2222222222222222,
              "#7201a8"
             ],
             [
              0.3333333333333333,
              "#9c179e"
             ],
             [
              0.4444444444444444,
              "#bd3786"
             ],
             [
              0.5555555555555556,
              "#d8576b"
             ],
             [
              0.6666666666666666,
              "#ed7953"
             ],
             [
              0.7777777777777778,
              "#fb9f3a"
             ],
             [
              0.8888888888888888,
              "#fdca26"
             ],
             [
              1,
              "#f0f921"
             ]
            ],
            "type": "histogram2dcontour"
           }
          ],
          "mesh3d": [
           {
            "colorbar": {
             "outlinewidth": 0,
             "ticks": ""
            },
            "type": "mesh3d"
           }
          ],
          "parcoords": [
           {
            "line": {
             "colorbar": {
              "outlinewidth": 0,
              "ticks": ""
             }
            },
            "type": "parcoords"
           }
          ],
          "pie": [
           {
            "automargin": true,
            "type": "pie"
           }
          ],
          "scatter": [
           {
            "marker": {
             "colorbar": {
              "outlinewidth": 0,
              "ticks": ""
             }
            },
            "type": "scatter"
           }
          ],
          "scatter3d": [
           {
            "line": {
             "colorbar": {
              "outlinewidth": 0,
              "ticks": ""
             }
            },
            "marker": {
             "colorbar": {
              "outlinewidth": 0,
              "ticks": ""
             }
            },
            "type": "scatter3d"
           }
          ],
          "scattercarpet": [
           {
            "marker": {
             "colorbar": {
              "outlinewidth": 0,
              "ticks": ""
             }
            },
            "type": "scattercarpet"
           }
          ],
          "scattergeo": [
           {
            "marker": {
             "colorbar": {
              "outlinewidth": 0,
              "ticks": ""
             }
            },
            "type": "scattergeo"
           }
          ],
          "scattergl": [
           {
            "marker": {
             "colorbar": {
              "outlinewidth": 0,
              "ticks": ""
             }
            },
            "type": "scattergl"
           }
          ],
          "scattermapbox": [
           {
            "marker": {
             "colorbar": {
              "outlinewidth": 0,
              "ticks": ""
             }
            },
            "type": "scattermapbox"
           }
          ],
          "scatterpolar": [
           {
            "marker": {
             "colorbar": {
              "outlinewidth": 0,
              "ticks": ""
             }
            },
            "type": "scatterpolar"
           }
          ],
          "scatterpolargl": [
           {
            "marker": {
             "colorbar": {
              "outlinewidth": 0,
              "ticks": ""
             }
            },
            "type": "scatterpolargl"
           }
          ],
          "scatterternary": [
           {
            "marker": {
             "colorbar": {
              "outlinewidth": 0,
              "ticks": ""
             }
            },
            "type": "scatterternary"
           }
          ],
          "surface": [
           {
            "colorbar": {
             "outlinewidth": 0,
             "ticks": ""
            },
            "colorscale": [
             [
              0,
              "#0d0887"
             ],
             [
              0.1111111111111111,
              "#46039f"
             ],
             [
              0.2222222222222222,
              "#7201a8"
             ],
             [
              0.3333333333333333,
              "#9c179e"
             ],
             [
              0.4444444444444444,
              "#bd3786"
             ],
             [
              0.5555555555555556,
              "#d8576b"
             ],
             [
              0.6666666666666666,
              "#ed7953"
             ],
             [
              0.7777777777777778,
              "#fb9f3a"
             ],
             [
              0.8888888888888888,
              "#fdca26"
             ],
             [
              1,
              "#f0f921"
             ]
            ],
            "type": "surface"
           }
          ],
          "table": [
           {
            "cells": {
             "fill": {
              "color": "#EBF0F8"
             },
             "line": {
              "color": "white"
             }
            },
            "header": {
             "fill": {
              "color": "#C8D4E3"
             },
             "line": {
              "color": "white"
             }
            },
            "type": "table"
           }
          ]
         },
         "layout": {
          "annotationdefaults": {
           "arrowcolor": "#2a3f5f",
           "arrowhead": 0,
           "arrowwidth": 1
          },
          "coloraxis": {
           "colorbar": {
            "outlinewidth": 0,
            "ticks": ""
           }
          },
          "colorscale": {
           "diverging": [
            [
             0,
             "#8e0152"
            ],
            [
             0.1,
             "#c51b7d"
            ],
            [
             0.2,
             "#de77ae"
            ],
            [
             0.3,
             "#f1b6da"
            ],
            [
             0.4,
             "#fde0ef"
            ],
            [
             0.5,
             "#f7f7f7"
            ],
            [
             0.6,
             "#e6f5d0"
            ],
            [
             0.7,
             "#b8e186"
            ],
            [
             0.8,
             "#7fbc41"
            ],
            [
             0.9,
             "#4d9221"
            ],
            [
             1,
             "#276419"
            ]
           ],
           "sequential": [
            [
             0,
             "#0d0887"
            ],
            [
             0.1111111111111111,
             "#46039f"
            ],
            [
             0.2222222222222222,
             "#7201a8"
            ],
            [
             0.3333333333333333,
             "#9c179e"
            ],
            [
             0.4444444444444444,
             "#bd3786"
            ],
            [
             0.5555555555555556,
             "#d8576b"
            ],
            [
             0.6666666666666666,
             "#ed7953"
            ],
            [
             0.7777777777777778,
             "#fb9f3a"
            ],
            [
             0.8888888888888888,
             "#fdca26"
            ],
            [
             1,
             "#f0f921"
            ]
           ],
           "sequentialminus": [
            [
             0,
             "#0d0887"
            ],
            [
             0.1111111111111111,
             "#46039f"
            ],
            [
             0.2222222222222222,
             "#7201a8"
            ],
            [
             0.3333333333333333,
             "#9c179e"
            ],
            [
             0.4444444444444444,
             "#bd3786"
            ],
            [
             0.5555555555555556,
             "#d8576b"
            ],
            [
             0.6666666666666666,
             "#ed7953"
            ],
            [
             0.7777777777777778,
             "#fb9f3a"
            ],
            [
             0.8888888888888888,
             "#fdca26"
            ],
            [
             1,
             "#f0f921"
            ]
           ]
          },
          "colorway": [
           "#636efa",
           "#EF553B",
           "#00cc96",
           "#ab63fa",
           "#FFA15A",
           "#19d3f3",
           "#FF6692",
           "#B6E880",
           "#FF97FF",
           "#FECB52"
          ],
          "font": {
           "color": "#2a3f5f"
          },
          "geo": {
           "bgcolor": "white",
           "lakecolor": "white",
           "landcolor": "#E5ECF6",
           "showlakes": true,
           "showland": true,
           "subunitcolor": "white"
          },
          "hoverlabel": {
           "align": "left"
          },
          "hovermode": "closest",
          "mapbox": {
           "style": "light"
          },
          "paper_bgcolor": "white",
          "plot_bgcolor": "#E5ECF6",
          "polar": {
           "angularaxis": {
            "gridcolor": "white",
            "linecolor": "white",
            "ticks": ""
           },
           "bgcolor": "#E5ECF6",
           "radialaxis": {
            "gridcolor": "white",
            "linecolor": "white",
            "ticks": ""
           }
          },
          "scene": {
           "xaxis": {
            "backgroundcolor": "#E5ECF6",
            "gridcolor": "white",
            "gridwidth": 2,
            "linecolor": "white",
            "showbackground": true,
            "ticks": "",
            "zerolinecolor": "white"
           },
           "yaxis": {
            "backgroundcolor": "#E5ECF6",
            "gridcolor": "white",
            "gridwidth": 2,
            "linecolor": "white",
            "showbackground": true,
            "ticks": "",
            "zerolinecolor": "white"
           },
           "zaxis": {
            "backgroundcolor": "#E5ECF6",
            "gridcolor": "white",
            "gridwidth": 2,
            "linecolor": "white",
            "showbackground": true,
            "ticks": "",
            "zerolinecolor": "white"
           }
          },
          "shapedefaults": {
           "line": {
            "color": "#2a3f5f"
           }
          },
          "ternary": {
           "aaxis": {
            "gridcolor": "white",
            "linecolor": "white",
            "ticks": ""
           },
           "baxis": {
            "gridcolor": "white",
            "linecolor": "white",
            "ticks": ""
           },
           "bgcolor": "#E5ECF6",
           "caxis": {
            "gridcolor": "white",
            "linecolor": "white",
            "ticks": ""
           }
          },
          "title": {
           "x": 0.05
          },
          "xaxis": {
           "automargin": true,
           "gridcolor": "white",
           "linecolor": "white",
           "ticks": "",
           "title": {
            "standoff": 15
           },
           "zerolinecolor": "white",
           "zerolinewidth": 2
          },
          "yaxis": {
           "automargin": true,
           "gridcolor": "white",
           "linecolor": "white",
           "ticks": "",
           "title": {
            "standoff": 15
           },
           "zerolinecolor": "white",
           "zerolinewidth": 2
          }
         }
        },
        "uniformtext": {
         "minsize": 4,
         "mode": "hide"
        },
        "xaxis": {
         "anchor": "y",
         "domain": [
          0,
          1
         ],
         "title": {
          "text": "Provinsi"
         }
        },
        "yaxis": {
         "anchor": "x",
         "domain": [
          0,
          1
         ],
         "title": {
          "text": "Jumlah kasus meninggal"
         }
        }
       }
      },
      "text/html": [
       "<div>\n",
       "        \n",
       "        \n",
       "            <div id=\"9fcc74aa-beb7-4bd8-831a-b4116363ff66\" class=\"plotly-graph-div\" style=\"height:500px; width:100%;\"></div>\n",
       "            <script type=\"text/javascript\">\n",
       "                require([\"plotly\"], function(Plotly) {\n",
       "                    window.PLOTLYENV=window.PLOTLYENV || {};\n",
       "                    \n",
       "                if (document.getElementById(\"9fcc74aa-beb7-4bd8-831a-b4116363ff66\")) {\n",
       "                    Plotly.newPlot(\n",
       "                        '9fcc74aa-beb7-4bd8-831a-b4116363ff66',\n",
       "                        [{\"alignmentgroup\": \"True\", \"hovertemplate\": \"<b>%{hovertext}</b><br><br>ADM1_EN=%{x}<br>kasusMeni=%{text}<extra></extra>\", \"hovertext\": [\"Jawa Timur\", \"DKI Jakarta\", \"Jawa Tengah\", \"Sumatera Utara\", \"Kalimantan Selatan\", \"Sulawesi Selatan\", \"Jawa Barat\", \"Sumatera Selatan\", \"Kalimantan Timur\", \"Bali\", \"Nusa Tenggara Barat\", \"Sulawesi Utara\", \"Banten\", \"Aceh\", \"Riau\", \"Kalimantan Tengah\", \"Sumatera Barat\", \"Papua\", \"Gorontalo\", \"Maluku Utara\", \"Daerah Istimewa Yogyakarta\", \"Kepulauan Riau\", \"Sulawesi Tenggara\", \"Maluku\", \"Bengkulu\", \"Lampung\", \"Papua Barat\", \"Sulawesi Tengah\", \"Sulawesi Barat\", \"Jambi\", \"Kalimantan Barat\", \"Nusa Tenggara Timur\", \"Kalimantan Utara\", \"Kepulauan Bangka Belitung\"], \"legendgroup\": \"\", \"marker\": {\"color\": \"#636efa\"}, \"name\": \"\", \"offsetgroup\": \"\", \"orientation\": \"v\", \"showlegend\": false, \"text\": [3084.0, 1661.0, 1372.0, 415.0, 410.0, 406.0, 368.0, 336.0, 294.0, 245.0, 192.0, 172.0, 162.0, 147.0, 131.0, 130.0, 104.0, 80.0, 75.0, 74.0, 64.0, 56.0, 53.0, 40.0, 32.0, 30.0, 29.0, 15.0, 11.0, 8.0, 8.0, 6.0, 4.0, 2.0], \"textposition\": \"outside\", \"texttemplate\": \"%{text:}\", \"type\": \"bar\", \"x\": [\"Jawa Timur\", \"DKI Jakarta\", \"Jawa Tengah\", \"Sumatera Utara\", \"Kalimantan Selatan\", \"Sulawesi Selatan\", \"Jawa Barat\", \"Sumatera Selatan\", \"Kalimantan Timur\", \"Bali\", \"Nusa Tenggara Barat\", \"Sulawesi Utara\", \"Banten\", \"Aceh\", \"Riau\", \"Kalimantan Tengah\", \"Sumatera Barat\", \"Papua\", \"Gorontalo\", \"Maluku Utara\", \"Daerah Istimewa Yogyakarta\", \"Kepulauan Riau\", \"Sulawesi Tenggara\", \"Maluku\", \"Bengkulu\", \"Lampung\", \"Papua Barat\", \"Sulawesi Tengah\", \"Sulawesi Barat\", \"Jambi\", \"Kalimantan Barat\", \"Nusa Tenggara Timur\", \"Kalimantan Utara\", \"Kepulauan Bangka Belitung\"], \"xaxis\": \"x\", \"y\": [3084, 1661, 1372, 415, 410, 406, 368, 336, 294, 245, 192, 172, 162, 147, 131, 130, 104, 80, 75, 74, 64, 56, 53, 40, 32, 30, 29, 15, 11, 8, 8, 6, 4, 2], \"yaxis\": \"y\"}],\n",
       "                        {\"barmode\": \"relative\", \"height\": 500, \"legend\": {\"tracegroupgap\": 0}, \"margin\": {\"t\": 60}, \"template\": {\"data\": {\"bar\": [{\"error_x\": {\"color\": \"#2a3f5f\"}, \"error_y\": {\"color\": \"#2a3f5f\"}, \"marker\": {\"line\": {\"color\": \"#E5ECF6\", \"width\": 0.5}}, \"type\": \"bar\"}], \"barpolar\": [{\"marker\": {\"line\": {\"color\": \"#E5ECF6\", \"width\": 0.5}}, \"type\": \"barpolar\"}], \"carpet\": [{\"aaxis\": {\"endlinecolor\": \"#2a3f5f\", \"gridcolor\": \"white\", \"linecolor\": \"white\", \"minorgridcolor\": \"white\", \"startlinecolor\": \"#2a3f5f\"}, \"baxis\": {\"endlinecolor\": \"#2a3f5f\", \"gridcolor\": \"white\", \"linecolor\": \"white\", \"minorgridcolor\": \"white\", \"startlinecolor\": \"#2a3f5f\"}, \"type\": \"carpet\"}], \"choropleth\": [{\"colorbar\": {\"outlinewidth\": 0, \"ticks\": \"\"}, \"type\": \"choropleth\"}], \"contour\": [{\"colorbar\": {\"outlinewidth\": 0, \"ticks\": \"\"}, \"colorscale\": [[0.0, \"#0d0887\"], [0.1111111111111111, \"#46039f\"], [0.2222222222222222, \"#7201a8\"], [0.3333333333333333, \"#9c179e\"], [0.4444444444444444, \"#bd3786\"], [0.5555555555555556, \"#d8576b\"], [0.6666666666666666, \"#ed7953\"], [0.7777777777777778, \"#fb9f3a\"], [0.8888888888888888, \"#fdca26\"], [1.0, \"#f0f921\"]], \"type\": \"contour\"}], \"contourcarpet\": [{\"colorbar\": {\"outlinewidth\": 0, \"ticks\": \"\"}, \"type\": \"contourcarpet\"}], \"heatmap\": [{\"colorbar\": {\"outlinewidth\": 0, \"ticks\": \"\"}, \"colorscale\": [[0.0, \"#0d0887\"], [0.1111111111111111, \"#46039f\"], [0.2222222222222222, \"#7201a8\"], [0.3333333333333333, \"#9c179e\"], [0.4444444444444444, \"#bd3786\"], [0.5555555555555556, \"#d8576b\"], [0.6666666666666666, \"#ed7953\"], [0.7777777777777778, \"#fb9f3a\"], [0.8888888888888888, \"#fdca26\"], [1.0, \"#f0f921\"]], \"type\": \"heatmap\"}], \"heatmapgl\": [{\"colorbar\": {\"outlinewidth\": 0, \"ticks\": \"\"}, \"colorscale\": [[0.0, \"#0d0887\"], [0.1111111111111111, \"#46039f\"], [0.2222222222222222, \"#7201a8\"], [0.3333333333333333, \"#9c179e\"], [0.4444444444444444, \"#bd3786\"], [0.5555555555555556, \"#d8576b\"], [0.6666666666666666, \"#ed7953\"], [0.7777777777777778, \"#fb9f3a\"], [0.8888888888888888, \"#fdca26\"], [1.0, \"#f0f921\"]], \"type\": \"heatmapgl\"}], \"histogram\": [{\"marker\": {\"colorbar\": {\"outlinewidth\": 0, \"ticks\": \"\"}}, \"type\": \"histogram\"}], \"histogram2d\": [{\"colorbar\": {\"outlinewidth\": 0, \"ticks\": \"\"}, \"colorscale\": [[0.0, \"#0d0887\"], [0.1111111111111111, \"#46039f\"], [0.2222222222222222, \"#7201a8\"], [0.3333333333333333, \"#9c179e\"], [0.4444444444444444, \"#bd3786\"], [0.5555555555555556, \"#d8576b\"], [0.6666666666666666, \"#ed7953\"], [0.7777777777777778, \"#fb9f3a\"], [0.8888888888888888, \"#fdca26\"], [1.0, \"#f0f921\"]], \"type\": \"histogram2d\"}], \"histogram2dcontour\": [{\"colorbar\": {\"outlinewidth\": 0, \"ticks\": \"\"}, \"colorscale\": [[0.0, \"#0d0887\"], [0.1111111111111111, \"#46039f\"], [0.2222222222222222, \"#7201a8\"], [0.3333333333333333, \"#9c179e\"], [0.4444444444444444, \"#bd3786\"], [0.5555555555555556, \"#d8576b\"], [0.6666666666666666, \"#ed7953\"], [0.7777777777777778, \"#fb9f3a\"], [0.8888888888888888, \"#fdca26\"], [1.0, \"#f0f921\"]], \"type\": \"histogram2dcontour\"}], \"mesh3d\": [{\"colorbar\": {\"outlinewidth\": 0, \"ticks\": \"\"}, \"type\": \"mesh3d\"}], \"parcoords\": [{\"line\": {\"colorbar\": {\"outlinewidth\": 0, \"ticks\": \"\"}}, \"type\": \"parcoords\"}], \"pie\": [{\"automargin\": true, \"type\": \"pie\"}], \"scatter\": [{\"marker\": {\"colorbar\": {\"outlinewidth\": 0, \"ticks\": \"\"}}, \"type\": \"scatter\"}], \"scatter3d\": [{\"line\": {\"colorbar\": {\"outlinewidth\": 0, \"ticks\": \"\"}}, \"marker\": {\"colorbar\": {\"outlinewidth\": 0, \"ticks\": \"\"}}, \"type\": \"scatter3d\"}], \"scattercarpet\": [{\"marker\": {\"colorbar\": {\"outlinewidth\": 0, \"ticks\": \"\"}}, \"type\": \"scattercarpet\"}], \"scattergeo\": [{\"marker\": {\"colorbar\": {\"outlinewidth\": 0, \"ticks\": \"\"}}, \"type\": \"scattergeo\"}], \"scattergl\": [{\"marker\": {\"colorbar\": {\"outlinewidth\": 0, \"ticks\": \"\"}}, \"type\": \"scattergl\"}], \"scattermapbox\": [{\"marker\": {\"colorbar\": {\"outlinewidth\": 0, \"ticks\": \"\"}}, \"type\": \"scattermapbox\"}], \"scatterpolar\": [{\"marker\": {\"colorbar\": {\"outlinewidth\": 0, \"ticks\": \"\"}}, \"type\": \"scatterpolar\"}], \"scatterpolargl\": [{\"marker\": {\"colorbar\": {\"outlinewidth\": 0, \"ticks\": \"\"}}, \"type\": \"scatterpolargl\"}], \"scatterternary\": [{\"marker\": {\"colorbar\": {\"outlinewidth\": 0, \"ticks\": \"\"}}, \"type\": \"scatterternary\"}], \"surface\": [{\"colorbar\": {\"outlinewidth\": 0, \"ticks\": \"\"}, \"colorscale\": [[0.0, \"#0d0887\"], [0.1111111111111111, \"#46039f\"], [0.2222222222222222, \"#7201a8\"], [0.3333333333333333, \"#9c179e\"], [0.4444444444444444, \"#bd3786\"], [0.5555555555555556, \"#d8576b\"], [0.6666666666666666, \"#ed7953\"], [0.7777777777777778, \"#fb9f3a\"], [0.8888888888888888, \"#fdca26\"], [1.0, \"#f0f921\"]], \"type\": \"surface\"}], \"table\": [{\"cells\": {\"fill\": {\"color\": \"#EBF0F8\"}, \"line\": {\"color\": \"white\"}}, \"header\": {\"fill\": {\"color\": \"#C8D4E3\"}, \"line\": {\"color\": \"white\"}}, \"type\": \"table\"}]}, \"layout\": {\"annotationdefaults\": {\"arrowcolor\": \"#2a3f5f\", \"arrowhead\": 0, \"arrowwidth\": 1}, \"coloraxis\": {\"colorbar\": {\"outlinewidth\": 0, \"ticks\": \"\"}}, \"colorscale\": {\"diverging\": [[0, \"#8e0152\"], [0.1, \"#c51b7d\"], [0.2, \"#de77ae\"], [0.3, \"#f1b6da\"], [0.4, \"#fde0ef\"], [0.5, \"#f7f7f7\"], [0.6, \"#e6f5d0\"], [0.7, \"#b8e186\"], [0.8, \"#7fbc41\"], [0.9, \"#4d9221\"], [1, \"#276419\"]], \"sequential\": [[0.0, \"#0d0887\"], [0.1111111111111111, \"#46039f\"], [0.2222222222222222, \"#7201a8\"], [0.3333333333333333, \"#9c179e\"], [0.4444444444444444, \"#bd3786\"], [0.5555555555555556, \"#d8576b\"], [0.6666666666666666, \"#ed7953\"], [0.7777777777777778, \"#fb9f3a\"], [0.8888888888888888, \"#fdca26\"], [1.0, \"#f0f921\"]], \"sequentialminus\": [[0.0, \"#0d0887\"], [0.1111111111111111, \"#46039f\"], [0.2222222222222222, \"#7201a8\"], [0.3333333333333333, \"#9c179e\"], [0.4444444444444444, \"#bd3786\"], [0.5555555555555556, \"#d8576b\"], [0.6666666666666666, \"#ed7953\"], [0.7777777777777778, \"#fb9f3a\"], [0.8888888888888888, \"#fdca26\"], [1.0, \"#f0f921\"]]}, \"colorway\": [\"#636efa\", \"#EF553B\", \"#00cc96\", \"#ab63fa\", \"#FFA15A\", \"#19d3f3\", \"#FF6692\", \"#B6E880\", \"#FF97FF\", \"#FECB52\"], \"font\": {\"color\": \"#2a3f5f\"}, \"geo\": {\"bgcolor\": \"white\", \"lakecolor\": \"white\", \"landcolor\": \"#E5ECF6\", \"showlakes\": true, \"showland\": true, \"subunitcolor\": \"white\"}, \"hoverlabel\": {\"align\": \"left\"}, \"hovermode\": \"closest\", \"mapbox\": {\"style\": \"light\"}, \"paper_bgcolor\": \"white\", \"plot_bgcolor\": \"#E5ECF6\", \"polar\": {\"angularaxis\": {\"gridcolor\": \"white\", \"linecolor\": \"white\", \"ticks\": \"\"}, \"bgcolor\": \"#E5ECF6\", \"radialaxis\": {\"gridcolor\": \"white\", \"linecolor\": \"white\", \"ticks\": \"\"}}, \"scene\": {\"xaxis\": {\"backgroundcolor\": \"#E5ECF6\", \"gridcolor\": \"white\", \"gridwidth\": 2, \"linecolor\": \"white\", \"showbackground\": true, \"ticks\": \"\", \"zerolinecolor\": \"white\"}, \"yaxis\": {\"backgroundcolor\": \"#E5ECF6\", \"gridcolor\": \"white\", \"gridwidth\": 2, \"linecolor\": \"white\", \"showbackground\": true, \"ticks\": \"\", \"zerolinecolor\": \"white\"}, \"zaxis\": {\"backgroundcolor\": \"#E5ECF6\", \"gridcolor\": \"white\", \"gridwidth\": 2, \"linecolor\": \"white\", \"showbackground\": true, \"ticks\": \"\", \"zerolinecolor\": \"white\"}}, \"shapedefaults\": {\"line\": {\"color\": \"#2a3f5f\"}}, \"ternary\": {\"aaxis\": {\"gridcolor\": \"white\", \"linecolor\": \"white\", \"ticks\": \"\"}, \"baxis\": {\"gridcolor\": \"white\", \"linecolor\": \"white\", \"ticks\": \"\"}, \"bgcolor\": \"#E5ECF6\", \"caxis\": {\"gridcolor\": \"white\", \"linecolor\": \"white\", \"ticks\": \"\"}}, \"title\": {\"x\": 0.05}, \"xaxis\": {\"automargin\": true, \"gridcolor\": \"white\", \"linecolor\": \"white\", \"ticks\": \"\", \"title\": {\"standoff\": 15}, \"zerolinecolor\": \"white\", \"zerolinewidth\": 2}, \"yaxis\": {\"automargin\": true, \"gridcolor\": \"white\", \"linecolor\": \"white\", \"ticks\": \"\", \"title\": {\"standoff\": 15}, \"zerolinecolor\": \"white\", \"zerolinewidth\": 2}}}, \"uniformtext\": {\"minsize\": 4, \"mode\": \"hide\"}, \"xaxis\": {\"anchor\": \"y\", \"domain\": [0.0, 1.0], \"title\": {\"text\": \"Provinsi\"}}, \"yaxis\": {\"anchor\": \"x\", \"domain\": [0.0, 1.0], \"title\": {\"text\": \"Jumlah kasus meninggal\"}}},\n",
       "                        {\"responsive\": true}\n",
       "                    ).then(function(){\n",
       "                            \n",
       "var gd = document.getElementById('9fcc74aa-beb7-4bd8-831a-b4116363ff66');\n",
       "var x = new MutationObserver(function (mutations, observer) {{\n",
       "        var display = window.getComputedStyle(gd).display;\n",
       "        if (!display || display === 'none') {{\n",
       "            console.log([gd, 'removed!']);\n",
       "            Plotly.purge(gd);\n",
       "            observer.disconnect();\n",
       "        }}\n",
       "}});\n",
       "\n",
       "// Listen for the removal of the full notebook cells\n",
       "var notebookContainer = gd.closest('#notebook-container');\n",
       "if (notebookContainer) {{\n",
       "    x.observe(notebookContainer, {childList: true});\n",
       "}}\n",
       "\n",
       "// Listen for the clearing of the current output cell\n",
       "var outputEl = gd.closest('.output');\n",
       "if (outputEl) {{\n",
       "    x.observe(outputEl, {childList: true});\n",
       "}}\n",
       "\n",
       "                        })\n",
       "                };\n",
       "                });\n",
       "            </script>\n",
       "        </div>"
      ]
     },
     "metadata": {},
     "output_type": "display_data"
    }
   ],
   "source": [
    "berdasarkan_kematian = merged.sort_values(by='kasusMeni', ascending=False)\n",
    "fig3 = px.bar(berdasarkan_kematian, x=berdasarkan_kematian.index, y='kasusMeni', text='kasusMeni', hover_name=berdasarkan_kematian.index)\n",
    "fig3.update_traces(texttemplate='%{text:}', textposition='outside')\n",
    "fig3.update_layout(uniformtext_minsize=4, uniformtext_mode='hide',height=500, xaxis_title=\"Provinsi\", yaxis_title=\"Jumlah kasus meninggal\")\n",
    "\n",
    "fig3.show()"
   ]
  },
  {
   "cell_type": "markdown",
   "metadata": {},
   "source": [
    "#### Compare data"
   ]
  },
  {
   "cell_type": "code",
   "execution_count": 112,
   "metadata": {},
   "outputs": [
    {
     "data": {
      "application/vnd.plotly.v1+json": {
       "config": {
        "plotlyServerURL": "https://plot.ly"
       },
       "data": [
        {
         "name": "Positif",
         "type": "bar",
         "x": [
          "Aceh",
          "Bali",
          "Banten",
          "Bengkulu",
          "Daerah Istimewa Yogyakarta",
          "DKI Jakarta",
          "Gorontalo",
          "Jambi",
          "Jawa Barat",
          "Jawa Tengah",
          "Jawa Timur",
          "Kalimantan Barat",
          "Kalimantan Selatan",
          "Kalimantan Tengah",
          "Kalimantan Timur",
          "Kalimantan Utara",
          "Kepulauan Bangka Belitung",
          "Kepulauan Riau",
          "Lampung",
          "Maluku",
          "Maluku Utara",
          "Nusa Tenggara Barat",
          "Nusa Tenggara Timur",
          "Papua",
          "Papua Barat",
          "Riau",
          "Sulawesi Barat",
          "Sulawesi Selatan",
          "Sulawesi Tengah",
          "Sulawesi Tenggara",
          "Sulawesi Utara",
          "Sumatera Barat",
          "Sumatera Selatan",
          "Sumatera Utara"
         ],
         "y": [
          3982,
          8389,
          5050,
          590,
          2458,
          67902,
          2534,
          409,
          20131,
          21004,
          42391,
          935,
          10080,
          3474,
          7851,
          556,
          191,
          2022,
          814,
          2654,
          2045,
          3218,
          388,
          5763,
          1820,
          6315,
          567,
          14982,
          354,
          2501,
          4390,
          5363,
          5734,
          9843
         ]
        },
        {
         "name": "Meninggal",
         "type": "bar",
         "x": [
          "Aceh",
          "Bali",
          "Banten",
          "Bengkulu",
          "Daerah Istimewa Yogyakarta",
          "DKI Jakarta",
          "Gorontalo",
          "Jambi",
          "Jawa Barat",
          "Jawa Tengah",
          "Jawa Timur",
          "Kalimantan Barat",
          "Kalimantan Selatan",
          "Kalimantan Tengah",
          "Kalimantan Timur",
          "Kalimantan Utara",
          "Kepulauan Bangka Belitung",
          "Kepulauan Riau",
          "Lampung",
          "Maluku",
          "Maluku Utara",
          "Nusa Tenggara Barat",
          "Nusa Tenggara Timur",
          "Papua",
          "Papua Barat",
          "Riau",
          "Sulawesi Barat",
          "Sulawesi Selatan",
          "Sulawesi Tengah",
          "Sulawesi Tenggara",
          "Sulawesi Utara",
          "Sumatera Barat",
          "Sumatera Selatan",
          "Sumatera Utara"
         ],
         "y": [
          147,
          245,
          162,
          32,
          64,
          1661,
          75,
          8,
          368,
          1372,
          3084,
          8,
          410,
          130,
          294,
          4,
          2,
          56,
          30,
          40,
          74,
          192,
          6,
          80,
          29,
          131,
          11,
          406,
          15,
          53,
          172,
          104,
          336,
          415
         ]
        },
        {
         "name": "Sembuh",
         "type": "bar",
         "x": [
          "Aceh",
          "Bali",
          "Banten",
          "Bengkulu",
          "Daerah Istimewa Yogyakarta",
          "DKI Jakarta",
          "Gorontalo",
          "Jambi",
          "Jawa Barat",
          "Jawa Tengah",
          "Jawa Timur",
          "Kalimantan Barat",
          "Kalimantan Selatan",
          "Kalimantan Tengah",
          "Kalimantan Timur",
          "Kalimantan Utara",
          "Kepulauan Bangka Belitung",
          "Kepulauan Riau",
          "Lampung",
          "Maluku",
          "Maluku Utara",
          "Nusa Tenggara Barat",
          "Nusa Tenggara Timur",
          "Papua",
          "Papua Barat",
          "Riau",
          "Sulawesi Barat",
          "Sulawesi Selatan",
          "Sulawesi Tengah",
          "Sulawesi Tenggara",
          "Sulawesi Utara",
          "Sumatera Barat",
          "Sumatera Selatan",
          "Sumatera Utara"
         ],
         "y": [
          1889,
          6828,
          3218,
          379,
          1677,
          54268,
          2199,
          263,
          12022,
          15043,
          35205,
          769,
          8503,
          2636,
          5080,
          448,
          173,
          1227,
          519,
          1687,
          1799,
          2536,
          240,
          3688,
          1039,
          2941,
          407,
          10961,
          243,
          1779,
          3463,
          2724,
          4132,
          6107
         ]
        }
       ],
       "layout": {
        "template": {
         "data": {
          "bar": [
           {
            "error_x": {
             "color": "#2a3f5f"
            },
            "error_y": {
             "color": "#2a3f5f"
            },
            "marker": {
             "line": {
              "color": "#E5ECF6",
              "width": 0.5
             }
            },
            "type": "bar"
           }
          ],
          "barpolar": [
           {
            "marker": {
             "line": {
              "color": "#E5ECF6",
              "width": 0.5
             }
            },
            "type": "barpolar"
           }
          ],
          "carpet": [
           {
            "aaxis": {
             "endlinecolor": "#2a3f5f",
             "gridcolor": "white",
             "linecolor": "white",
             "minorgridcolor": "white",
             "startlinecolor": "#2a3f5f"
            },
            "baxis": {
             "endlinecolor": "#2a3f5f",
             "gridcolor": "white",
             "linecolor": "white",
             "minorgridcolor": "white",
             "startlinecolor": "#2a3f5f"
            },
            "type": "carpet"
           }
          ],
          "choropleth": [
           {
            "colorbar": {
             "outlinewidth": 0,
             "ticks": ""
            },
            "type": "choropleth"
           }
          ],
          "contour": [
           {
            "colorbar": {
             "outlinewidth": 0,
             "ticks": ""
            },
            "colorscale": [
             [
              0,
              "#0d0887"
             ],
             [
              0.1111111111111111,
              "#46039f"
             ],
             [
              0.2222222222222222,
              "#7201a8"
             ],
             [
              0.3333333333333333,
              "#9c179e"
             ],
             [
              0.4444444444444444,
              "#bd3786"
             ],
             [
              0.5555555555555556,
              "#d8576b"
             ],
             [
              0.6666666666666666,
              "#ed7953"
             ],
             [
              0.7777777777777778,
              "#fb9f3a"
             ],
             [
              0.8888888888888888,
              "#fdca26"
             ],
             [
              1,
              "#f0f921"
             ]
            ],
            "type": "contour"
           }
          ],
          "contourcarpet": [
           {
            "colorbar": {
             "outlinewidth": 0,
             "ticks": ""
            },
            "type": "contourcarpet"
           }
          ],
          "heatmap": [
           {
            "colorbar": {
             "outlinewidth": 0,
             "ticks": ""
            },
            "colorscale": [
             [
              0,
              "#0d0887"
             ],
             [
              0.1111111111111111,
              "#46039f"
             ],
             [
              0.2222222222222222,
              "#7201a8"
             ],
             [
              0.3333333333333333,
              "#9c179e"
             ],
             [
              0.4444444444444444,
              "#bd3786"
             ],
             [
              0.5555555555555556,
              "#d8576b"
             ],
             [
              0.6666666666666666,
              "#ed7953"
             ],
             [
              0.7777777777777778,
              "#fb9f3a"
             ],
             [
              0.8888888888888888,
              "#fdca26"
             ],
             [
              1,
              "#f0f921"
             ]
            ],
            "type": "heatmap"
           }
          ],
          "heatmapgl": [
           {
            "colorbar": {
             "outlinewidth": 0,
             "ticks": ""
            },
            "colorscale": [
             [
              0,
              "#0d0887"
             ],
             [
              0.1111111111111111,
              "#46039f"
             ],
             [
              0.2222222222222222,
              "#7201a8"
             ],
             [
              0.3333333333333333,
              "#9c179e"
             ],
             [
              0.4444444444444444,
              "#bd3786"
             ],
             [
              0.5555555555555556,
              "#d8576b"
             ],
             [
              0.6666666666666666,
              "#ed7953"
             ],
             [
              0.7777777777777778,
              "#fb9f3a"
             ],
             [
              0.8888888888888888,
              "#fdca26"
             ],
             [
              1,
              "#f0f921"
             ]
            ],
            "type": "heatmapgl"
           }
          ],
          "histogram": [
           {
            "marker": {
             "colorbar": {
              "outlinewidth": 0,
              "ticks": ""
             }
            },
            "type": "histogram"
           }
          ],
          "histogram2d": [
           {
            "colorbar": {
             "outlinewidth": 0,
             "ticks": ""
            },
            "colorscale": [
             [
              0,
              "#0d0887"
             ],
             [
              0.1111111111111111,
              "#46039f"
             ],
             [
              0.2222222222222222,
              "#7201a8"
             ],
             [
              0.3333333333333333,
              "#9c179e"
             ],
             [
              0.4444444444444444,
              "#bd3786"
             ],
             [
              0.5555555555555556,
              "#d8576b"
             ],
             [
              0.6666666666666666,
              "#ed7953"
             ],
             [
              0.7777777777777778,
              "#fb9f3a"
             ],
             [
              0.8888888888888888,
              "#fdca26"
             ],
             [
              1,
              "#f0f921"
             ]
            ],
            "type": "histogram2d"
           }
          ],
          "histogram2dcontour": [
           {
            "colorbar": {
             "outlinewidth": 0,
             "ticks": ""
            },
            "colorscale": [
             [
              0,
              "#0d0887"
             ],
             [
              0.1111111111111111,
              "#46039f"
             ],
             [
              0.2222222222222222,
              "#7201a8"
             ],
             [
              0.3333333333333333,
              "#9c179e"
             ],
             [
              0.4444444444444444,
              "#bd3786"
             ],
             [
              0.5555555555555556,
              "#d8576b"
             ],
             [
              0.6666666666666666,
              "#ed7953"
             ],
             [
              0.7777777777777778,
              "#fb9f3a"
             ],
             [
              0.8888888888888888,
              "#fdca26"
             ],
             [
              1,
              "#f0f921"
             ]
            ],
            "type": "histogram2dcontour"
           }
          ],
          "mesh3d": [
           {
            "colorbar": {
             "outlinewidth": 0,
             "ticks": ""
            },
            "type": "mesh3d"
           }
          ],
          "parcoords": [
           {
            "line": {
             "colorbar": {
              "outlinewidth": 0,
              "ticks": ""
             }
            },
            "type": "parcoords"
           }
          ],
          "pie": [
           {
            "automargin": true,
            "type": "pie"
           }
          ],
          "scatter": [
           {
            "marker": {
             "colorbar": {
              "outlinewidth": 0,
              "ticks": ""
             }
            },
            "type": "scatter"
           }
          ],
          "scatter3d": [
           {
            "line": {
             "colorbar": {
              "outlinewidth": 0,
              "ticks": ""
             }
            },
            "marker": {
             "colorbar": {
              "outlinewidth": 0,
              "ticks": ""
             }
            },
            "type": "scatter3d"
           }
          ],
          "scattercarpet": [
           {
            "marker": {
             "colorbar": {
              "outlinewidth": 0,
              "ticks": ""
             }
            },
            "type": "scattercarpet"
           }
          ],
          "scattergeo": [
           {
            "marker": {
             "colorbar": {
              "outlinewidth": 0,
              "ticks": ""
             }
            },
            "type": "scattergeo"
           }
          ],
          "scattergl": [
           {
            "marker": {
             "colorbar": {
              "outlinewidth": 0,
              "ticks": ""
             }
            },
            "type": "scattergl"
           }
          ],
          "scattermapbox": [
           {
            "marker": {
             "colorbar": {
              "outlinewidth": 0,
              "ticks": ""
             }
            },
            "type": "scattermapbox"
           }
          ],
          "scatterpolar": [
           {
            "marker": {
             "colorbar": {
              "outlinewidth": 0,
              "ticks": ""
             }
            },
            "type": "scatterpolar"
           }
          ],
          "scatterpolargl": [
           {
            "marker": {
             "colorbar": {
              "outlinewidth": 0,
              "ticks": ""
             }
            },
            "type": "scatterpolargl"
           }
          ],
          "scatterternary": [
           {
            "marker": {
             "colorbar": {
              "outlinewidth": 0,
              "ticks": ""
             }
            },
            "type": "scatterternary"
           }
          ],
          "surface": [
           {
            "colorbar": {
             "outlinewidth": 0,
             "ticks": ""
            },
            "colorscale": [
             [
              0,
              "#0d0887"
             ],
             [
              0.1111111111111111,
              "#46039f"
             ],
             [
              0.2222222222222222,
              "#7201a8"
             ],
             [
              0.3333333333333333,
              "#9c179e"
             ],
             [
              0.4444444444444444,
              "#bd3786"
             ],
             [
              0.5555555555555556,
              "#d8576b"
             ],
             [
              0.6666666666666666,
              "#ed7953"
             ],
             [
              0.7777777777777778,
              "#fb9f3a"
             ],
             [
              0.8888888888888888,
              "#fdca26"
             ],
             [
              1,
              "#f0f921"
             ]
            ],
            "type": "surface"
           }
          ],
          "table": [
           {
            "cells": {
             "fill": {
              "color": "#EBF0F8"
             },
             "line": {
              "color": "white"
             }
            },
            "header": {
             "fill": {
              "color": "#C8D4E3"
             },
             "line": {
              "color": "white"
             }
            },
            "type": "table"
           }
          ]
         },
         "layout": {
          "annotationdefaults": {
           "arrowcolor": "#2a3f5f",
           "arrowhead": 0,
           "arrowwidth": 1
          },
          "coloraxis": {
           "colorbar": {
            "outlinewidth": 0,
            "ticks": ""
           }
          },
          "colorscale": {
           "diverging": [
            [
             0,
             "#8e0152"
            ],
            [
             0.1,
             "#c51b7d"
            ],
            [
             0.2,
             "#de77ae"
            ],
            [
             0.3,
             "#f1b6da"
            ],
            [
             0.4,
             "#fde0ef"
            ],
            [
             0.5,
             "#f7f7f7"
            ],
            [
             0.6,
             "#e6f5d0"
            ],
            [
             0.7,
             "#b8e186"
            ],
            [
             0.8,
             "#7fbc41"
            ],
            [
             0.9,
             "#4d9221"
            ],
            [
             1,
             "#276419"
            ]
           ],
           "sequential": [
            [
             0,
             "#0d0887"
            ],
            [
             0.1111111111111111,
             "#46039f"
            ],
            [
             0.2222222222222222,
             "#7201a8"
            ],
            [
             0.3333333333333333,
             "#9c179e"
            ],
            [
             0.4444444444444444,
             "#bd3786"
            ],
            [
             0.5555555555555556,
             "#d8576b"
            ],
            [
             0.6666666666666666,
             "#ed7953"
            ],
            [
             0.7777777777777778,
             "#fb9f3a"
            ],
            [
             0.8888888888888888,
             "#fdca26"
            ],
            [
             1,
             "#f0f921"
            ]
           ],
           "sequentialminus": [
            [
             0,
             "#0d0887"
            ],
            [
             0.1111111111111111,
             "#46039f"
            ],
            [
             0.2222222222222222,
             "#7201a8"
            ],
            [
             0.3333333333333333,
             "#9c179e"
            ],
            [
             0.4444444444444444,
             "#bd3786"
            ],
            [
             0.5555555555555556,
             "#d8576b"
            ],
            [
             0.6666666666666666,
             "#ed7953"
            ],
            [
             0.7777777777777778,
             "#fb9f3a"
            ],
            [
             0.8888888888888888,
             "#fdca26"
            ],
            [
             1,
             "#f0f921"
            ]
           ]
          },
          "colorway": [
           "#636efa",
           "#EF553B",
           "#00cc96",
           "#ab63fa",
           "#FFA15A",
           "#19d3f3",
           "#FF6692",
           "#B6E880",
           "#FF97FF",
           "#FECB52"
          ],
          "font": {
           "color": "#2a3f5f"
          },
          "geo": {
           "bgcolor": "white",
           "lakecolor": "white",
           "landcolor": "#E5ECF6",
           "showlakes": true,
           "showland": true,
           "subunitcolor": "white"
          },
          "hoverlabel": {
           "align": "left"
          },
          "hovermode": "closest",
          "mapbox": {
           "style": "light"
          },
          "paper_bgcolor": "white",
          "plot_bgcolor": "#E5ECF6",
          "polar": {
           "angularaxis": {
            "gridcolor": "white",
            "linecolor": "white",
            "ticks": ""
           },
           "bgcolor": "#E5ECF6",
           "radialaxis": {
            "gridcolor": "white",
            "linecolor": "white",
            "ticks": ""
           }
          },
          "scene": {
           "xaxis": {
            "backgroundcolor": "#E5ECF6",
            "gridcolor": "white",
            "gridwidth": 2,
            "linecolor": "white",
            "showbackground": true,
            "ticks": "",
            "zerolinecolor": "white"
           },
           "yaxis": {
            "backgroundcolor": "#E5ECF6",
            "gridcolor": "white",
            "gridwidth": 2,
            "linecolor": "white",
            "showbackground": true,
            "ticks": "",
            "zerolinecolor": "white"
           },
           "zaxis": {
            "backgroundcolor": "#E5ECF6",
            "gridcolor": "white",
            "gridwidth": 2,
            "linecolor": "white",
            "showbackground": true,
            "ticks": "",
            "zerolinecolor": "white"
           }
          },
          "shapedefaults": {
           "line": {
            "color": "#2a3f5f"
           }
          },
          "ternary": {
           "aaxis": {
            "gridcolor": "white",
            "linecolor": "white",
            "ticks": ""
           },
           "baxis": {
            "gridcolor": "white",
            "linecolor": "white",
            "ticks": ""
           },
           "bgcolor": "#E5ECF6",
           "caxis": {
            "gridcolor": "white",
            "linecolor": "white",
            "ticks": ""
           }
          },
          "title": {
           "x": 0.05
          },
          "xaxis": {
           "automargin": true,
           "gridcolor": "white",
           "linecolor": "white",
           "ticks": "",
           "title": {
            "standoff": 15
           },
           "zerolinecolor": "white",
           "zerolinewidth": 2
          },
          "yaxis": {
           "automargin": true,
           "gridcolor": "white",
           "linecolor": "white",
           "ticks": "",
           "title": {
            "standoff": 15
           },
           "zerolinecolor": "white",
           "zerolinewidth": 2
          }
         }
        },
        "title": {
         "text": "Perbandingan Kasus positif, kematian, dan kesembuhan"
        },
        "yaxis": {
         "title": {
          "text": "Total"
         }
        }
       }
      },
      "text/html": [
       "<div>\n",
       "        \n",
       "        \n",
       "            <div id=\"ba672230-b6b3-4515-9186-2c8331e3cdc9\" class=\"plotly-graph-div\" style=\"height:525px; width:100%;\"></div>\n",
       "            <script type=\"text/javascript\">\n",
       "                require([\"plotly\"], function(Plotly) {\n",
       "                    window.PLOTLYENV=window.PLOTLYENV || {};\n",
       "                    \n",
       "                if (document.getElementById(\"ba672230-b6b3-4515-9186-2c8331e3cdc9\")) {\n",
       "                    Plotly.newPlot(\n",
       "                        'ba672230-b6b3-4515-9186-2c8331e3cdc9',\n",
       "                        [{\"name\": \"Positif\", \"type\": \"bar\", \"x\": [\"Aceh\", \"Bali\", \"Banten\", \"Bengkulu\", \"Daerah Istimewa Yogyakarta\", \"DKI Jakarta\", \"Gorontalo\", \"Jambi\", \"Jawa Barat\", \"Jawa Tengah\", \"Jawa Timur\", \"Kalimantan Barat\", \"Kalimantan Selatan\", \"Kalimantan Tengah\", \"Kalimantan Timur\", \"Kalimantan Utara\", \"Kepulauan Bangka Belitung\", \"Kepulauan Riau\", \"Lampung\", \"Maluku\", \"Maluku Utara\", \"Nusa Tenggara Barat\", \"Nusa Tenggara Timur\", \"Papua\", \"Papua Barat\", \"Riau\", \"Sulawesi Barat\", \"Sulawesi Selatan\", \"Sulawesi Tengah\", \"Sulawesi Tenggara\", \"Sulawesi Utara\", \"Sumatera Barat\", \"Sumatera Selatan\", \"Sumatera Utara\"], \"y\": [3982, 8389, 5050, 590, 2458, 67902, 2534, 409, 20131, 21004, 42391, 935, 10080, 3474, 7851, 556, 191, 2022, 814, 2654, 2045, 3218, 388, 5763, 1820, 6315, 567, 14982, 354, 2501, 4390, 5363, 5734, 9843]}, {\"name\": \"Meninggal\", \"type\": \"bar\", \"x\": [\"Aceh\", \"Bali\", \"Banten\", \"Bengkulu\", \"Daerah Istimewa Yogyakarta\", \"DKI Jakarta\", \"Gorontalo\", \"Jambi\", \"Jawa Barat\", \"Jawa Tengah\", \"Jawa Timur\", \"Kalimantan Barat\", \"Kalimantan Selatan\", \"Kalimantan Tengah\", \"Kalimantan Timur\", \"Kalimantan Utara\", \"Kepulauan Bangka Belitung\", \"Kepulauan Riau\", \"Lampung\", \"Maluku\", \"Maluku Utara\", \"Nusa Tenggara Barat\", \"Nusa Tenggara Timur\", \"Papua\", \"Papua Barat\", \"Riau\", \"Sulawesi Barat\", \"Sulawesi Selatan\", \"Sulawesi Tengah\", \"Sulawesi Tenggara\", \"Sulawesi Utara\", \"Sumatera Barat\", \"Sumatera Selatan\", \"Sumatera Utara\"], \"y\": [147, 245, 162, 32, 64, 1661, 75, 8, 368, 1372, 3084, 8, 410, 130, 294, 4, 2, 56, 30, 40, 74, 192, 6, 80, 29, 131, 11, 406, 15, 53, 172, 104, 336, 415]}, {\"name\": \"Sembuh\", \"type\": \"bar\", \"x\": [\"Aceh\", \"Bali\", \"Banten\", \"Bengkulu\", \"Daerah Istimewa Yogyakarta\", \"DKI Jakarta\", \"Gorontalo\", \"Jambi\", \"Jawa Barat\", \"Jawa Tengah\", \"Jawa Timur\", \"Kalimantan Barat\", \"Kalimantan Selatan\", \"Kalimantan Tengah\", \"Kalimantan Timur\", \"Kalimantan Utara\", \"Kepulauan Bangka Belitung\", \"Kepulauan Riau\", \"Lampung\", \"Maluku\", \"Maluku Utara\", \"Nusa Tenggara Barat\", \"Nusa Tenggara Timur\", \"Papua\", \"Papua Barat\", \"Riau\", \"Sulawesi Barat\", \"Sulawesi Selatan\", \"Sulawesi Tengah\", \"Sulawesi Tenggara\", \"Sulawesi Utara\", \"Sumatera Barat\", \"Sumatera Selatan\", \"Sumatera Utara\"], \"y\": [1889, 6828, 3218, 379, 1677, 54268, 2199, 263, 12022, 15043, 35205, 769, 8503, 2636, 5080, 448, 173, 1227, 519, 1687, 1799, 2536, 240, 3688, 1039, 2941, 407, 10961, 243, 1779, 3463, 2724, 4132, 6107]}],\n",
       "                        {\"template\": {\"data\": {\"bar\": [{\"error_x\": {\"color\": \"#2a3f5f\"}, \"error_y\": {\"color\": \"#2a3f5f\"}, \"marker\": {\"line\": {\"color\": \"#E5ECF6\", \"width\": 0.5}}, \"type\": \"bar\"}], \"barpolar\": [{\"marker\": {\"line\": {\"color\": \"#E5ECF6\", \"width\": 0.5}}, \"type\": \"barpolar\"}], \"carpet\": [{\"aaxis\": {\"endlinecolor\": \"#2a3f5f\", \"gridcolor\": \"white\", \"linecolor\": \"white\", \"minorgridcolor\": \"white\", \"startlinecolor\": \"#2a3f5f\"}, \"baxis\": {\"endlinecolor\": \"#2a3f5f\", \"gridcolor\": \"white\", \"linecolor\": \"white\", \"minorgridcolor\": \"white\", \"startlinecolor\": \"#2a3f5f\"}, \"type\": \"carpet\"}], \"choropleth\": [{\"colorbar\": {\"outlinewidth\": 0, \"ticks\": \"\"}, \"type\": \"choropleth\"}], \"contour\": [{\"colorbar\": {\"outlinewidth\": 0, \"ticks\": \"\"}, \"colorscale\": [[0.0, \"#0d0887\"], [0.1111111111111111, \"#46039f\"], [0.2222222222222222, \"#7201a8\"], [0.3333333333333333, \"#9c179e\"], [0.4444444444444444, \"#bd3786\"], [0.5555555555555556, \"#d8576b\"], [0.6666666666666666, \"#ed7953\"], [0.7777777777777778, \"#fb9f3a\"], [0.8888888888888888, \"#fdca26\"], [1.0, \"#f0f921\"]], \"type\": \"contour\"}], \"contourcarpet\": [{\"colorbar\": {\"outlinewidth\": 0, \"ticks\": \"\"}, \"type\": \"contourcarpet\"}], \"heatmap\": [{\"colorbar\": {\"outlinewidth\": 0, \"ticks\": \"\"}, \"colorscale\": [[0.0, \"#0d0887\"], [0.1111111111111111, \"#46039f\"], [0.2222222222222222, \"#7201a8\"], [0.3333333333333333, \"#9c179e\"], [0.4444444444444444, \"#bd3786\"], [0.5555555555555556, \"#d8576b\"], [0.6666666666666666, \"#ed7953\"], [0.7777777777777778, \"#fb9f3a\"], [0.8888888888888888, \"#fdca26\"], [1.0, \"#f0f921\"]], \"type\": \"heatmap\"}], \"heatmapgl\": [{\"colorbar\": {\"outlinewidth\": 0, \"ticks\": \"\"}, \"colorscale\": [[0.0, \"#0d0887\"], [0.1111111111111111, \"#46039f\"], [0.2222222222222222, \"#7201a8\"], [0.3333333333333333, \"#9c179e\"], [0.4444444444444444, \"#bd3786\"], [0.5555555555555556, \"#d8576b\"], [0.6666666666666666, \"#ed7953\"], [0.7777777777777778, \"#fb9f3a\"], [0.8888888888888888, \"#fdca26\"], [1.0, \"#f0f921\"]], \"type\": \"heatmapgl\"}], \"histogram\": [{\"marker\": {\"colorbar\": {\"outlinewidth\": 0, \"ticks\": \"\"}}, \"type\": \"histogram\"}], \"histogram2d\": [{\"colorbar\": {\"outlinewidth\": 0, \"ticks\": \"\"}, \"colorscale\": [[0.0, \"#0d0887\"], [0.1111111111111111, \"#46039f\"], [0.2222222222222222, \"#7201a8\"], [0.3333333333333333, \"#9c179e\"], [0.4444444444444444, \"#bd3786\"], [0.5555555555555556, \"#d8576b\"], [0.6666666666666666, \"#ed7953\"], [0.7777777777777778, \"#fb9f3a\"], [0.8888888888888888, \"#fdca26\"], [1.0, \"#f0f921\"]], \"type\": \"histogram2d\"}], \"histogram2dcontour\": [{\"colorbar\": {\"outlinewidth\": 0, \"ticks\": \"\"}, \"colorscale\": [[0.0, \"#0d0887\"], [0.1111111111111111, \"#46039f\"], [0.2222222222222222, \"#7201a8\"], [0.3333333333333333, \"#9c179e\"], [0.4444444444444444, \"#bd3786\"], [0.5555555555555556, \"#d8576b\"], [0.6666666666666666, \"#ed7953\"], [0.7777777777777778, \"#fb9f3a\"], [0.8888888888888888, \"#fdca26\"], [1.0, \"#f0f921\"]], \"type\": \"histogram2dcontour\"}], \"mesh3d\": [{\"colorbar\": {\"outlinewidth\": 0, \"ticks\": \"\"}, \"type\": \"mesh3d\"}], \"parcoords\": [{\"line\": {\"colorbar\": {\"outlinewidth\": 0, \"ticks\": \"\"}}, \"type\": \"parcoords\"}], \"pie\": [{\"automargin\": true, \"type\": \"pie\"}], \"scatter\": [{\"marker\": {\"colorbar\": {\"outlinewidth\": 0, \"ticks\": \"\"}}, \"type\": \"scatter\"}], \"scatter3d\": [{\"line\": {\"colorbar\": {\"outlinewidth\": 0, \"ticks\": \"\"}}, \"marker\": {\"colorbar\": {\"outlinewidth\": 0, \"ticks\": \"\"}}, \"type\": \"scatter3d\"}], \"scattercarpet\": [{\"marker\": {\"colorbar\": {\"outlinewidth\": 0, \"ticks\": \"\"}}, \"type\": \"scattercarpet\"}], \"scattergeo\": [{\"marker\": {\"colorbar\": {\"outlinewidth\": 0, \"ticks\": \"\"}}, \"type\": \"scattergeo\"}], \"scattergl\": [{\"marker\": {\"colorbar\": {\"outlinewidth\": 0, \"ticks\": \"\"}}, \"type\": \"scattergl\"}], \"scattermapbox\": [{\"marker\": {\"colorbar\": {\"outlinewidth\": 0, \"ticks\": \"\"}}, \"type\": \"scattermapbox\"}], \"scatterpolar\": [{\"marker\": {\"colorbar\": {\"outlinewidth\": 0, \"ticks\": \"\"}}, \"type\": \"scatterpolar\"}], \"scatterpolargl\": [{\"marker\": {\"colorbar\": {\"outlinewidth\": 0, \"ticks\": \"\"}}, \"type\": \"scatterpolargl\"}], \"scatterternary\": [{\"marker\": {\"colorbar\": {\"outlinewidth\": 0, \"ticks\": \"\"}}, \"type\": \"scatterternary\"}], \"surface\": [{\"colorbar\": {\"outlinewidth\": 0, \"ticks\": \"\"}, \"colorscale\": [[0.0, \"#0d0887\"], [0.1111111111111111, \"#46039f\"], [0.2222222222222222, \"#7201a8\"], [0.3333333333333333, \"#9c179e\"], [0.4444444444444444, \"#bd3786\"], [0.5555555555555556, \"#d8576b\"], [0.6666666666666666, \"#ed7953\"], [0.7777777777777778, \"#fb9f3a\"], [0.8888888888888888, \"#fdca26\"], [1.0, \"#f0f921\"]], \"type\": \"surface\"}], \"table\": [{\"cells\": {\"fill\": {\"color\": \"#EBF0F8\"}, \"line\": {\"color\": \"white\"}}, \"header\": {\"fill\": {\"color\": \"#C8D4E3\"}, \"line\": {\"color\": \"white\"}}, \"type\": \"table\"}]}, \"layout\": {\"annotationdefaults\": {\"arrowcolor\": \"#2a3f5f\", \"arrowhead\": 0, \"arrowwidth\": 1}, \"coloraxis\": {\"colorbar\": {\"outlinewidth\": 0, \"ticks\": \"\"}}, \"colorscale\": {\"diverging\": [[0, \"#8e0152\"], [0.1, \"#c51b7d\"], [0.2, \"#de77ae\"], [0.3, \"#f1b6da\"], [0.4, \"#fde0ef\"], [0.5, \"#f7f7f7\"], [0.6, \"#e6f5d0\"], [0.7, \"#b8e186\"], [0.8, \"#7fbc41\"], [0.9, \"#4d9221\"], [1, \"#276419\"]], \"sequential\": [[0.0, \"#0d0887\"], [0.1111111111111111, \"#46039f\"], [0.2222222222222222, \"#7201a8\"], [0.3333333333333333, \"#9c179e\"], [0.4444444444444444, \"#bd3786\"], [0.5555555555555556, \"#d8576b\"], [0.6666666666666666, \"#ed7953\"], [0.7777777777777778, \"#fb9f3a\"], [0.8888888888888888, \"#fdca26\"], [1.0, \"#f0f921\"]], \"sequentialminus\": [[0.0, \"#0d0887\"], [0.1111111111111111, \"#46039f\"], [0.2222222222222222, \"#7201a8\"], [0.3333333333333333, \"#9c179e\"], [0.4444444444444444, \"#bd3786\"], [0.5555555555555556, \"#d8576b\"], [0.6666666666666666, \"#ed7953\"], [0.7777777777777778, \"#fb9f3a\"], [0.8888888888888888, \"#fdca26\"], [1.0, \"#f0f921\"]]}, \"colorway\": [\"#636efa\", \"#EF553B\", \"#00cc96\", \"#ab63fa\", \"#FFA15A\", \"#19d3f3\", \"#FF6692\", \"#B6E880\", \"#FF97FF\", \"#FECB52\"], \"font\": {\"color\": \"#2a3f5f\"}, \"geo\": {\"bgcolor\": \"white\", \"lakecolor\": \"white\", \"landcolor\": \"#E5ECF6\", \"showlakes\": true, \"showland\": true, \"subunitcolor\": \"white\"}, \"hoverlabel\": {\"align\": \"left\"}, \"hovermode\": \"closest\", \"mapbox\": {\"style\": \"light\"}, \"paper_bgcolor\": \"white\", \"plot_bgcolor\": \"#E5ECF6\", \"polar\": {\"angularaxis\": {\"gridcolor\": \"white\", \"linecolor\": \"white\", \"ticks\": \"\"}, \"bgcolor\": \"#E5ECF6\", \"radialaxis\": {\"gridcolor\": \"white\", \"linecolor\": \"white\", \"ticks\": \"\"}}, \"scene\": {\"xaxis\": {\"backgroundcolor\": \"#E5ECF6\", \"gridcolor\": \"white\", \"gridwidth\": 2, \"linecolor\": \"white\", \"showbackground\": true, \"ticks\": \"\", \"zerolinecolor\": \"white\"}, \"yaxis\": {\"backgroundcolor\": \"#E5ECF6\", \"gridcolor\": \"white\", \"gridwidth\": 2, \"linecolor\": \"white\", \"showbackground\": true, \"ticks\": \"\", \"zerolinecolor\": \"white\"}, \"zaxis\": {\"backgroundcolor\": \"#E5ECF6\", \"gridcolor\": \"white\", \"gridwidth\": 2, \"linecolor\": \"white\", \"showbackground\": true, \"ticks\": \"\", \"zerolinecolor\": \"white\"}}, \"shapedefaults\": {\"line\": {\"color\": \"#2a3f5f\"}}, \"ternary\": {\"aaxis\": {\"gridcolor\": \"white\", \"linecolor\": \"white\", \"ticks\": \"\"}, \"baxis\": {\"gridcolor\": \"white\", \"linecolor\": \"white\", \"ticks\": \"\"}, \"bgcolor\": \"#E5ECF6\", \"caxis\": {\"gridcolor\": \"white\", \"linecolor\": \"white\", \"ticks\": \"\"}}, \"title\": {\"x\": 0.05}, \"xaxis\": {\"automargin\": true, \"gridcolor\": \"white\", \"linecolor\": \"white\", \"ticks\": \"\", \"title\": {\"standoff\": 15}, \"zerolinecolor\": \"white\", \"zerolinewidth\": 2}, \"yaxis\": {\"automargin\": true, \"gridcolor\": \"white\", \"linecolor\": \"white\", \"ticks\": \"\", \"title\": {\"standoff\": 15}, \"zerolinecolor\": \"white\", \"zerolinewidth\": 2}}}, \"title\": {\"text\": \"Perbandingan Kasus positif, kematian, dan kesembuhan\"}, \"yaxis\": {\"title\": {\"text\": \"Total\"}}},\n",
       "                        {\"responsive\": true}\n",
       "                    ).then(function(){\n",
       "                            \n",
       "var gd = document.getElementById('ba672230-b6b3-4515-9186-2c8331e3cdc9');\n",
       "var x = new MutationObserver(function (mutations, observer) {{\n",
       "        var display = window.getComputedStyle(gd).display;\n",
       "        if (!display || display === 'none') {{\n",
       "            console.log([gd, 'removed!']);\n",
       "            Plotly.purge(gd);\n",
       "            observer.disconnect();\n",
       "        }}\n",
       "}});\n",
       "\n",
       "// Listen for the removal of the full notebook cells\n",
       "var notebookContainer = gd.closest('#notebook-container');\n",
       "if (notebookContainer) {{\n",
       "    x.observe(notebookContainer, {childList: true});\n",
       "}}\n",
       "\n",
       "// Listen for the clearing of the current output cell\n",
       "var outputEl = gd.closest('.output');\n",
       "if (outputEl) {{\n",
       "    x.observe(outputEl, {childList: true});\n",
       "}}\n",
       "\n",
       "                        })\n",
       "                };\n",
       "                });\n",
       "            </script>\n",
       "        </div>"
      ]
     },
     "metadata": {},
     "output_type": "display_data"
    }
   ],
   "source": [
    "fig4 = go.Figure(\n",
    "    data=[\n",
    "        go.Bar(\n",
    "            name=\"Positif\",\n",
    "            x=merged.index,\n",
    "            y=merged[\"kasusPosi\"],\n",
    "            \n",
    "        ),\n",
    "        go.Bar(\n",
    "            name=\"Meninggal\",\n",
    "            x=merged.index,\n",
    "            y=merged[\"kasusMeni\"],\n",
    "            \n",
    "        ),\n",
    "        go.Bar(\n",
    "            name=\"Sembuh\",\n",
    "            x=merged.index,\n",
    "            y=merged[\"kasusSemb\"],\n",
    "            \n",
    "        ),\n",
    "    ],\n",
    "    layout=go.Layout(\n",
    "        title=\"Perbandingan Kasus positif, kematian, dan kesembuhan\",\n",
    "        yaxis_title=\"Total\"\n",
    "    )\n",
    ")\n",
    "fig4.show()"
   ]
  },
  {
   "cell_type": "markdown",
   "metadata": {},
   "source": [
    "#### Mapping Kasus"
   ]
  },
  {
   "cell_type": "code",
   "execution_count": 79,
   "metadata": {},
   "outputs": [
    {
     "name": "stdout",
     "output_type": "stream",
     "text": [
      "Nilai minimumnya adalah 191, sedangkan nilai maksimumnya adalah 67902\n",
      "Nilai minimumnya adalah 173, sedangkan nilai maksimumnya adalah 54268\n",
      "Nilai minimumnya adalah 2, sedangkan nilai maksimumnya adalah 3084\n"
     ]
    }
   ],
   "source": [
    "v_positif = 'kasusPosi'\n",
    "vmin_positif = merged['kasusPosi'].min()\n",
    "vmax_positif = merged['kasusPosi'].max()\n",
    "\n",
    "v_sembuh = 'kasusSemb'\n",
    "vmin_sembuh = merged['kasusSemb'].min()\n",
    "vmax_sembuh = merged['kasusSemb'].max()\n",
    "\n",
    "v_meninggal = 'kasusMeni'\n",
    "vmin_meninggal = merged['kasusMeni'].min()\n",
    "vmax_meninggal = merged['kasusMeni'].max()\n",
    "\n",
    "\n",
    "print('Nilai minimumnya adalah {}, sedangkan nilai maksimumnya adalah {}'.format(vmin_positif,vmax_positif))\n",
    "print('Nilai minimumnya adalah {}, sedangkan nilai maksimumnya adalah {}'.format(vmin_sembuh,vmax_sembuh))\n",
    "print('Nilai minimumnya adalah {}, sedangkan nilai maksimumnya adalah {}'.format(vmin_meninggal,vmax_meninggal))"
   ]
  },
  {
   "cell_type": "markdown",
   "metadata": {},
   "source": [
    "- Terkonfirmasi"
   ]
  },
  {
   "cell_type": "code",
   "execution_count": 80,
   "metadata": {},
   "outputs": [
    {
     "data": {
      "image/png": "[encoded data removed]",
      "text/plain": [
       "<Figure size 432x288 with 2 Axes>"
      ]
     },
     "metadata": {},
     "output_type": "display_data"
    }
   ],
   "source": [
    "fig1 = plt.figure()\n",
    "ax = fig1.add_axes([0, 0, 1, 1])\n",
    "ax.axis('off')\n",
    "fig1.set_facecolor(\"#ffffff\")\n",
    "fig1.patch.set_facecolor(\"#ffffff\")\n",
    "ax.axis('off')\n",
    "ax.margins(0)\n",
    "ax.apply_aspect()\n",
    "\n",
    "bbox = ax.get_window_extent().inverse_transformed(fig1.transFigure)\n",
    "w,h = fig1.get_size_inches()\n",
    "fig1.set_size_inches(w*bbox.width, h*bbox.height)\n",
    "merged.plot(column=v_positif, cmap='OrRd', linewidth=0.5, ax=ax, edgecolor='0.5')\n",
    "cbar = fig1.colorbar(plt.cm.ScalarMappable(cmap='OrRd', norm=plt.Normalize(vmin=vmin_positif, vmax=vmax_positif)), orientation=\"vertical\", aspect=40, shrink=0.4, pad=0.03)\n",
    "cbar.ax.tick_params(labelsize=6)\n",
    "\n",
    "ax.set_title('COVID-19 Indonesia\\nPersebaran Kasus Positif', \\\n",
    "              fontdict={'fontsize': '12',\n",
    "                        'fontweight' : '3'})\n",
    "ax.annotate('Ditulis oleh: Asep Saputra\\nSumber: https://indonesia-covid-19.mathdro.id/api/',\n",
    "           xy=(0.1, .1), xycoords='figure fraction',\n",
    "           horizontalalignment='left', verticalalignment='bottom',\n",
    "           fontsize=4, color='#555555');"
   ]
  },
  {
   "cell_type": "markdown",
   "metadata": {},
   "source": [
    "- Sembuh"
   ]
  },
  {
   "cell_type": "code",
   "execution_count": 81,
   "metadata": {},
   "outputs": [
    {
     "data": {
      "image/png": "[encoded data removed]",
      "text/plain": [
       "<Figure size 432x288 with 2 Axes>"
      ]
     },
     "metadata": {},
     "output_type": "display_data"
    }
   ],
   "source": [
    "fig2 = plt.figure()\n",
    "ax = fig2.add_axes([0, 0, 1, 1])\n",
    "ax.axis('off')\n",
    "fig2.set_facecolor(\"#ffffff\")\n",
    "fig2.patch.set_facecolor(\"#ffffff\")\n",
    "ax.axis('off')\n",
    "ax.margins(0)\n",
    "ax.apply_aspect()\n",
    "\n",
    "bbox = ax.get_window_extent().inverse_transformed(fig2.transFigure)\n",
    "w,h = fig2.get_size_inches()\n",
    "fig2.set_size_inches(w*bbox.width, h*bbox.height)\n",
    "merged.plot(column=v_sembuh, cmap='Greens', linewidth=0.5, ax=ax, edgecolor='0.5')\n",
    "cbar = fig2.colorbar(plt.cm.ScalarMappable(cmap='Greens', norm=plt.Normalize(vmin=vmin_sembuh, vmax=vmax_sembuh)), orientation=\"vertical\", aspect=40, shrink=0.4, pad=0.03)\n",
    "cbar.ax.tick_params(labelsize=6)\n",
    "\n",
    "ax.set_title('COVID-19 Indonesia\\nPersebaran Kesembuhan', \\\n",
    "              fontdict={'fontsize': '12',\n",
    "                        'fontweight' : '3'})\n",
    "ax.annotate('Ditulis oleh: Asep Saputra\\nSumber: https://indonesia-covid-19.mathdro.id/api/',\n",
    "           xy=(0.1, .1), xycoords='figure fraction',\n",
    "           horizontalalignment='left', verticalalignment='bottom',\n",
    "           fontsize=4, color='#555555');"
   ]
  },
  {
   "cell_type": "markdown",
   "metadata": {},
   "source": [
    "- Meninggal"
   ]
  },
  {
   "cell_type": "code",
   "execution_count": 82,
   "metadata": {},
   "outputs": [
    {
     "data": {
      "image/png": "[encoded data removed]",
      "text/plain": [
       "<Figure size 432x288 with 2 Axes>"
      ]
     },
     "metadata": {},
     "output_type": "display_data"
    }
   ],
   "source": [
    "fig3 = plt.figure()\n",
    "ax = fig3.add_axes([0, 0, 1, 1])\n",
    "ax.axis('off')\n",
    "fig3.set_facecolor(\"#ffffff\")\n",
    "fig3.patch.set_facecolor(\"#ffffff\")\n",
    "ax.axis('off')\n",
    "ax.margins(0)\n",
    "ax.apply_aspect()\n",
    "\n",
    "bbox = ax.get_window_extent().inverse_transformed(fig3.transFigure)\n",
    "w,h = fig3.get_size_inches()\n",
    "fig3.set_size_inches(w*bbox.width, h*bbox.height)\n",
    "merged.plot(column=v_meninggal, cmap='Greys', linewidth=0.5, ax=ax, edgecolor='0.5')\n",
    "cbar = fig3.colorbar(plt.cm.ScalarMappable(cmap='Greys', norm=plt.Normalize(vmin=vmin_meninggal, vmax=vmax_meninggal)), orientation=\"vertical\", aspect=40, shrink=0.4, pad=0.03)\n",
    "cbar.ax.tick_params(labelsize=6)\n",
    "\n",
    "ax.set_title('COVID-19 Indonesia\\nPersebaran Kasus meninggal', \\\n",
    "              fontdict={'fontsize': '12',\n",
    "                        'fontweight' : '3'})\n",
    "ax.annotate('Ditulis oleh: Asep Saputra\\nSumber: https://indonesia-covid-19.mathdro.id/api/',\n",
    "           xy=(0.1, .1), xycoords='figure fraction',\n",
    "           horizontalalignment='left', verticalalignment='bottom',\n",
    "           fontsize=4, color='#555555');"
   ]
  },
  {
   "cell_type": "markdown",
   "metadata": {},
   "source": [
    "### Simpan file"
   ]
  },
  {
   "cell_type": "code",
   "execution_count": 83,
   "metadata": {},
   "outputs": [],
   "source": [
    "fig1.savefig('positif.png', dpi=720)\n",
    "fig2.savefig('meninggal.png', dpi=720)\n",
    "fig3.savefig('sembuh.png', dpi=720)"
   ]
  }
 ],
 "metadata": {
  "kernelspec": {
   "display_name": "Python 3",
   "language": "python",
   "name": "python3"
  },
  "language_info": {
   "codemirror_mode": {
    "name": "ipython",
    "version": 3
   },
   "file_extension": ".py",
   "mimetype": "text/x-python",
   "name": "python",
   "nbconvert_exporter": "python",
   "pygments_lexer": "ipython3",
   "version": "3.8.3"
  }
 },
 "nbformat": 4,
 "nbformat_minor": 4
}
